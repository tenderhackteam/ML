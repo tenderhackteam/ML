{
  "nbformat": 4,
  "nbformat_minor": 0,
  "metadata": {
    "colab": {
      "name": "tenderhack_baseline.ipynb",
      "provenance": [],
      "collapsed_sections": []
    },
    "kernelspec": {
      "name": "python3",
      "display_name": "Python 3"
    },
    "language_info": {
      "name": "python"
    }
  },
  "cells": [
    {
      "cell_type": "code",
      "metadata": {
        "colab": {
          "base_uri": "https://localhost:8080/"
        },
        "id": "-d9w8NI2CFa6",
        "outputId": "709bf4d8-733d-4a07-bd87-232a3895aa5a"
      },
      "source": [
        "from google.colab import drive\n",
        "drive.mount('/content/drive')"
      ],
      "execution_count": 56,
      "outputs": [
        {
          "output_type": "stream",
          "name": "stdout",
          "text": [
            "Drive already mounted at /content/drive; to attempt to forcibly remount, call drive.mount(\"/content/drive\", force_remount=True).\n"
          ]
        }
      ]
    },
    {
      "cell_type": "code",
      "metadata": {
        "colab": {
          "base_uri": "https://localhost:8080/"
        },
        "id": "DgXCp2anSTft",
        "outputId": "e4737491-8ba8-4fbf-c0ff-b097669c467b"
      },
      "source": [
        "!pip install pymorphy2[fast]"
      ],
      "execution_count": null,
      "outputs": [
        {
          "output_type": "stream",
          "name": "stdout",
          "text": [
            "Collecting pymorphy2[fast]\n",
            "  Downloading pymorphy2-0.9.1-py3-none-any.whl (55 kB)\n",
            "\u001b[?25l\r\u001b[K     |██████                          | 10 kB 21.8 MB/s eta 0:00:01\r\u001b[K     |███████████▉                    | 20 kB 29.1 MB/s eta 0:00:01\r\u001b[K     |█████████████████▊              | 30 kB 31.3 MB/s eta 0:00:01\r\u001b[K     |███████████████████████▋        | 40 kB 35.3 MB/s eta 0:00:01\r\u001b[K     |█████████████████████████████▌  | 51 kB 39.3 MB/s eta 0:00:01\r\u001b[K     |████████████████████████████████| 55 kB 3.9 MB/s \n",
            "\u001b[?25hCollecting pymorphy2-dicts-ru<3.0,>=2.4\n",
            "  Downloading pymorphy2_dicts_ru-2.4.417127.4579844-py2.py3-none-any.whl (8.2 MB)\n",
            "\u001b[K     |████████████████████████████████| 8.2 MB 18.7 MB/s \n",
            "\u001b[?25hRequirement already satisfied: docopt>=0.6 in /usr/local/lib/python3.7/dist-packages (from pymorphy2[fast]) (0.6.2)\n",
            "Collecting dawg-python>=0.7.1\n",
            "  Downloading DAWG_Python-0.7.2-py2.py3-none-any.whl (11 kB)\n",
            "Collecting DAWG>=0.8\n",
            "  Downloading DAWG-0.8.0.tar.gz (371 kB)\n",
            "\u001b[K     |████████████████████████████████| 371 kB 56.9 MB/s \n",
            "\u001b[?25hBuilding wheels for collected packages: DAWG\n",
            "  Building wheel for DAWG (setup.py) ... \u001b[?25l\u001b[?25hdone\n",
            "  Created wheel for DAWG: filename=DAWG-0.8.0-cp37-cp37m-linux_x86_64.whl size=854548 sha256=600a02e99b8f26c7ab12e6732c7033533c8b96a5ae176a5cb032695439f2d66c\n",
            "  Stored in directory: /root/.cache/pip/wheels/85/51/a4/2de41ff197786537075027c27b479a38da92f50abc86634445\n",
            "Successfully built DAWG\n",
            "Installing collected packages: pymorphy2-dicts-ru, dawg-python, pymorphy2, DAWG\n",
            "Successfully installed DAWG-0.8.0 dawg-python-0.7.2 pymorphy2-0.9.1 pymorphy2-dicts-ru-2.4.417127.4579844\n"
          ]
        }
      ]
    },
    {
      "cell_type": "code",
      "metadata": {
        "id": "XJ_MYE8SSVxv"
      },
      "source": [
        "import random\n",
        "import re\n",
        "import string\n",
        "import pandas as pd\n",
        "import torch\n",
        "import matplotlib.pyplot as plt\n",
        "import numpy as np\n",
        "from sklearn.model_selection import train_test_split\n",
        "from tqdm import tqdm\n",
        "import gensim\n",
        "from gensim.corpora.dictionary import Dictionary\n",
        "from gensim.models import LdaMulticore\n",
        "from torch import nn\n",
        "from torch.nn import functional as F\n",
        "from torch.utils.data import TensorDataset, DataLoader\n",
        "from torchvision.transforms import ToTensor\n",
        "import warnings \n",
        "from sklearn.linear_model import LogisticRegression\n",
        "from PIL import Image\n",
        "from IPython.display import clear_output\n",
        "from sklearn.naive_bayes import MultinomialNB\n",
        "from sklearn.pipeline import Pipeline\n",
        "from sklearn.feature_extraction.text import TfidfTransformer\n",
        "from sklearn.feature_extraction.text import CountVectorizer, TfidfVectorizer\n",
        "from sklearn.metrics import accuracy_score, confusion_matrix\n",
        "from typing import List\n",
        "from sklearn.metrics import classification_report\n",
        "import pickle\n",
        "from typing import List\n",
        "import nltk\n",
        "import string\n",
        "import pymorphy2\n",
        "import codecs"
      ],
      "execution_count": null,
      "outputs": []
    },
    {
      "cell_type": "code",
      "metadata": {
        "id": "AKQdPQPCUIpQ"
      },
      "source": [
        "warnings.filterwarnings(action='ignore',category=UserWarning, module='gensim')  \n",
        "warnings.filterwarnings(action='ignore',category=FutureWarning, module='gensim')  \n",
        "warnings.filterwarnings(action='ignore',category=DeprecationWarning, module='gensim')\n",
        "warnings.filterwarnings(action='ignore',category=DeprecationWarning, module='smart_open') \n",
        "warnings.filterwarnings(action='ignore',category=DeprecationWarning, module='sklearn')\n",
        "warnings.filterwarnings(action='ignore',category=DeprecationWarning, module='scipy')    "
      ],
      "execution_count": null,
      "outputs": []
    },
    {
      "cell_type": "code",
      "metadata": {
        "id": "fiK65k-XUKSQ"
      },
      "source": [
        "device = torch.device(\"cuda:0\" if torch.cuda.is_available() else \"cpu\")"
      ],
      "execution_count": null,
      "outputs": []
    },
    {
      "cell_type": "code",
      "metadata": {
        "colab": {
          "base_uri": "https://localhost:8080/",
          "height": 559
        },
        "id": "tOQbuITLUM84",
        "outputId": "20cc2782-2b04-4aac-ca46-df1a8513ddcf"
      },
      "source": [
        "data = pd.read_excel('/content/drive/MyDrive/tenderhack/dataset_base.xlsx')\n",
        "data.head()"
      ],
      "execution_count": null,
      "outputs": [
        {
          "output_type": "execute_result",
          "data": {
            "text/html": [
              "<div>\n",
              "<style scoped>\n",
              "    .dataframe tbody tr th:only-of-type {\n",
              "        vertical-align: middle;\n",
              "    }\n",
              "\n",
              "    .dataframe tbody tr th {\n",
              "        vertical-align: top;\n",
              "    }\n",
              "\n",
              "    .dataframe thead th {\n",
              "        text-align: right;\n",
              "    }\n",
              "</style>\n",
              "<table border=\"1\" class=\"dataframe\">\n",
              "  <thead>\n",
              "    <tr style=\"text-align: right;\">\n",
              "      <th></th>\n",
              "      <th>Идентификатор СТЕ</th>\n",
              "      <th>Наименование СТЕ</th>\n",
              "      <th>Категория</th>\n",
              "      <th>Описание</th>\n",
              "      <th>Характеристики СТЕ</th>\n",
              "      <th>Регионы поставки</th>\n",
              "      <th>Кол-во заключенных контрактов</th>\n",
              "      <th>Поставщики</th>\n",
              "      <th>Страна происхождения</th>\n",
              "      <th>Другая продукция в контрактах</th>\n",
              "      <th>Просмотры</th>\n",
              "      <th>Идентификатор КПГЗ</th>\n",
              "      <th>Код КПГЗ</th>\n",
              "      <th>Модель</th>\n",
              "      <th>Цена</th>\n",
              "    </tr>\n",
              "  </thead>\n",
              "  <tbody>\n",
              "    <tr>\n",
              "      <th>0</th>\n",
              "      <td>20528973</td>\n",
              "      <td>Светодиодная лента 2835, ULTRA, 12 Вольт, 60 l...</td>\n",
              "      <td>Лампы светодиодные</td>\n",
              "      <td>NaN</td>\n",
              "      <td>[{\"Name\":\"Цвет свечения\",\"Id\":-506425117,\"Valu...</td>\n",
              "      <td>[{\"Name\":\"Москва\"}]</td>\n",
              "      <td>NaN</td>\n",
              "      <td>[{\"SupplierId\":2310783,\"Name\":\"ООО \\\"ЛЮМЕНВАТТ...</td>\n",
              "      <td>NaN</td>\n",
              "      <td>NaN</td>\n",
              "      <td>1</td>\n",
              "      <td>12106442.0</td>\n",
              "      <td>01.10.05.02.04</td>\n",
              "      <td>2835ULTRA</td>\n",
              "      <td>NaN</td>\n",
              "    </tr>\n",
              "    <tr>\n",
              "      <th>1</th>\n",
              "      <td>34860341</td>\n",
              "      <td>Светодиодный светильник Geniled ЛПО  1200?180?...</td>\n",
              "      <td>Настенно-потолочные светильники</td>\n",
              "      <td>NaN</td>\n",
              "      <td>[{\"Name\":\"Вид климатического исполнения\",\"Id\":...</td>\n",
              "      <td>[{\"Name\":\"Свердловская\"},{\"Name\":\"Москва\"}]</td>\n",
              "      <td>1.0</td>\n",
              "      <td>[{\"SupplierId\":1559525,\"Name\":\"Общество с огра...</td>\n",
              "      <td>РОССИЯ</td>\n",
              "      <td>NaN</td>\n",
              "      <td>41</td>\n",
              "      <td>12114082.0</td>\n",
              "      <td>01.10.05.03.01.05</td>\n",
              "      <td>ЛПО 1200?180?40 40Вт 5000К Опал</td>\n",
              "      <td>NaN</td>\n",
              "    </tr>\n",
              "    <tr>\n",
              "      <th>2</th>\n",
              "      <td>34172198</td>\n",
              "      <td>Елка пристенно-угловая Графская премиум 210 см...</td>\n",
              "      <td>Предметы внутреннего интерьера</td>\n",
              "      <td>NaN</td>\n",
              "      <td>[{\"Name\":\"Цвет\",\"Id\":340085190,\"Value\":\"Зелены...</td>\n",
              "      <td>[{\"Name\":\"Москва\"},{\"Name\":\"Все регионы\"}]</td>\n",
              "      <td>NaN</td>\n",
              "      <td>[{\"SupplierId\":1348988,\"Name\":\"ИП Чепало Оксан...</td>\n",
              "      <td>NaN</td>\n",
              "      <td>NaN</td>\n",
              "      <td>5</td>\n",
              "      <td>68093.0</td>\n",
              "      <td>01.20.08</td>\n",
              "      <td>Елка пристенно-угловая Графская премиум 210 см.</td>\n",
              "      <td>NaN</td>\n",
              "    </tr>\n",
              "    <tr>\n",
              "      <th>3</th>\n",
              "      <td>1318014</td>\n",
              "      <td>Картридж HP CE278A/Canon 728 LJ P1560/1566/160...</td>\n",
              "      <td>Расходные материалы и комплектующие для лазерн...</td>\n",
              "      <td>NaN</td>\n",
              "      <td>[{\"Name\":\"Тип расходника\",\"Id\":317455168,\"Valu...</td>\n",
              "      <td>[{\"Name\":\"Москва\"},{\"Name\":\"Московская\"}]</td>\n",
              "      <td>9.0</td>\n",
              "      <td>[{\"SupplierId\":1111141,\"Name\":\"Общество с огра...</td>\n",
              "      <td>NaN</td>\n",
              "      <td>[{\"OtherSkuId\":1398583,\"OtherSkuName\":\"013R006...</td>\n",
              "      <td>6</td>\n",
              "      <td>12105204.0</td>\n",
              "      <td>01.13.13.01.01</td>\n",
              "      <td>SF-CE278(2K)</td>\n",
              "      <td>NaN</td>\n",
              "    </tr>\n",
              "    <tr>\n",
              "      <th>4</th>\n",
              "      <td>1251411</td>\n",
              "      <td>Штамп самонаборный Pr.C20/3-Set 38х14 (аналог ...</td>\n",
              "      <td>Штемпели</td>\n",
              "      <td>NaN</td>\n",
              "      <td>[{\"Name\":\"Наличие рамки\",\"Id\":366100137,\"Value...</td>\n",
              "      <td>[{\"Name\":\"Белгородская\"},{\"Name\":\"Марий Эл\"},{...</td>\n",
              "      <td>71.0</td>\n",
              "      <td>[{\"SupplierId\":1100019,\"Name\":\"ООО \\\"ЦТО\\\"\",\"I...</td>\n",
              "      <td>АВСТРИЯ</td>\n",
              "      <td>[{\"OtherSkuId\":1171023,\"OtherSkuName\":\"Berling...</td>\n",
              "      <td>72</td>\n",
              "      <td>12120460.0</td>\n",
              "      <td>01.15.06.07</td>\n",
              "      <td>Штамп самонаборный пласт. 3стр. Pr.C20/3-Set 3...</td>\n",
              "      <td>[{\"Cost\":454.67000},{\"Cost\":620.00000},{\"Cost\"...</td>\n",
              "    </tr>\n",
              "  </tbody>\n",
              "</table>\n",
              "</div>"
            ],
            "text/plain": [
              "   Идентификатор СТЕ  ...                                               Цена\n",
              "0           20528973  ...                                                NaN\n",
              "1           34860341  ...                                                NaN\n",
              "2           34172198  ...                                                NaN\n",
              "3            1318014  ...                                                NaN\n",
              "4            1251411  ...  [{\"Cost\":454.67000},{\"Cost\":620.00000},{\"Cost\"...\n",
              "\n",
              "[5 rows x 15 columns]"
            ]
          },
          "metadata": {},
          "execution_count": 7
        }
      ]
    },
    {
      "cell_type": "code",
      "metadata": {
        "colab": {
          "base_uri": "https://localhost:8080/"
        },
        "id": "EwEE6rAfUxqN",
        "outputId": "3e9955dc-188f-4b92-c24a-96702f4449c3"
      },
      "source": [
        "len(data)"
      ],
      "execution_count": null,
      "outputs": [
        {
          "output_type": "execute_result",
          "data": {
            "text/plain": [
              "200000"
            ]
          },
          "metadata": {},
          "execution_count": 8
        }
      ]
    },
    {
      "cell_type": "code",
      "metadata": {
        "colab": {
          "base_uri": "https://localhost:8080/"
        },
        "id": "Q3zZiDwgWFhR",
        "outputId": "c9f0af17-b136-4d26-cabb-8a7f6212f646"
      },
      "source": [
        "data['Категория'].value_counts()"
      ],
      "execution_count": null,
      "outputs": [
        {
          "output_type": "execute_result",
          "data": {
            "text/plain": [
              "Расходные материалы и комплектующие для лазерных принтеров и МФУ                                  6519\n",
              "Ручки канцелярские                                                                                3230\n",
              "Одежда специальная для защиты от общих производственных загрязнений и механических воздействий    3015\n",
              "Папки пластиковые                                                                                 1994\n",
              "Учебники печатные общеобразовательного назначения                                                 1951\n",
              "                                                                                                  ... \n",
              "Масла моторные авиационные                                                                           1\n",
              "Аксессуары к аппарату \"eva\"                                                                          1\n",
              "Грузы для скелетного вытяжения                                                                       1\n",
              "Бриллиантовый крезиловый синий раствор ивд                                                           1\n",
              "Проводники для малоинвазивной хирургии                                                               1\n",
              "Name: Категория, Length: 3810, dtype: int64"
            ]
          },
          "metadata": {},
          "execution_count": 9
        }
      ]
    },
    {
      "cell_type": "code",
      "metadata": {
        "colab": {
          "base_uri": "https://localhost:8080/"
        },
        "id": "uadZDeWJWZ7x",
        "outputId": "ec21b350-1dc2-4ef5-ba26-6c1d81f5244c"
      },
      "source": [
        "data.dtypes.value_counts()"
      ],
      "execution_count": null,
      "outputs": [
        {
          "output_type": "execute_result",
          "data": {
            "text/plain": [
              "object     11\n",
              "float64     2\n",
              "int64       2\n",
              "dtype: int64"
            ]
          },
          "metadata": {},
          "execution_count": 10
        }
      ]
    },
    {
      "cell_type": "code",
      "metadata": {
        "colab": {
          "base_uri": "https://localhost:8080/"
        },
        "id": "vaDBbv61Wi_2",
        "outputId": "62ceeef3-9343-449d-c86d-6f446ae6fd48"
      },
      "source": [
        "type(data['Характеристики СТЕ'][0])"
      ],
      "execution_count": null,
      "outputs": [
        {
          "output_type": "execute_result",
          "data": {
            "text/plain": [
              "str"
            ]
          },
          "metadata": {},
          "execution_count": 11
        }
      ]
    },
    {
      "cell_type": "code",
      "metadata": {
        "id": "YzLa3nawWpxs"
      },
      "source": [
        "import json\n",
        "characts = []\n",
        "for i in data['Характеристики СТЕ']:\n",
        "  try:\n",
        "    characts.append(json.loads(i))\n",
        "  except:\n",
        "    pass\n"
      ],
      "execution_count": null,
      "outputs": []
    },
    {
      "cell_type": "code",
      "metadata": {
        "colab": {
          "base_uri": "https://localhost:8080/"
        },
        "id": "ZkuocB9UW_Sp",
        "outputId": "7253668c-5eba-4a20-a739-fdaa08bf3744"
      },
      "source": [
        "print(characts[0])"
      ],
      "execution_count": null,
      "outputs": [
        {
          "output_type": "stream",
          "name": "stdout",
          "text": [
            "[{'Name': 'Цвет свечения', 'Id': -506425117, 'Value': 'Холодный'}, {'Name': 'Мощность', 'Id': -506424125, 'Value': '7.00000', 'Unit': 'Вт'}, {'Name': 'Напряжение', 'Id': -506424124, 'Value': '12', 'Unit': 'В'}, {'Name': 'Яркость', 'Id': -506425116, 'Value': '760', 'Unit': 'лм'}, {'Name': 'Плотность led на метр', 'Id': -506425119, 'Value': '300', 'Unit': 'шт'}, {'Name': 'Размер светодиодов', 'Id': -506425118, 'Value': '283', 'Unit': 'smd'}]\n"
          ]
        }
      ]
    },
    {
      "cell_type": "code",
      "metadata": {
        "id": "T6S_y-P2YPgQ"
      },
      "source": [
        "all_characts = {}\n",
        "charact_counter = {}\n",
        "for charact_set in characts:\n",
        "  for charact in charact_set:\n",
        "    name = charact['Name'].strip().lower()\n",
        "    if name[0] == '\"':\n",
        "      name = name[1:-1]\n",
        "    elif name[0] == \"'\":\n",
        "      name = name[1:]\n",
        "    if name not in all_characts:\n",
        "      all_characts[name] = set()\n",
        "      charact_counter[name] = 0\n",
        "    charact_counter[name]+=1\n",
        "    try:\n",
        "      all_characts[name].add(charact['Value'].strip().lower())\n",
        "    except KeyError:\n",
        "      pass\n"
      ],
      "execution_count": null,
      "outputs": []
    },
    {
      "cell_type": "code",
      "metadata": {
        "colab": {
          "base_uri": "https://localhost:8080/"
        },
        "id": "ZRw9eShqZrIc",
        "outputId": "340048ee-faf3-4575-dc06-ca282d83cc46"
      },
      "source": [
        "print(len(all_characts))\n",
        "print(list(all_characts.keys())[:20])"
      ],
      "execution_count": null,
      "outputs": [
        {
          "output_type": "stream",
          "name": "stdout",
          "text": [
            "57717\n",
            "['цвет свечения', 'мощность', 'напряжение', 'яркость', 'плотность led на метр', 'размер светодиодов', 'вид климатического исполнения', 'вид рассеивателя', 'коэффициент мощности', 'вид товаров', 'вид энергетического оборудования', 'габаритные размеры (шхгхв)', 'световой поток', 'цветовая температура', 'гарантия', 'степень защиты', 'цвет', 'металлическая подставка', 'материал', 'вид ели']\n"
          ]
        }
      ]
    },
    {
      "cell_type": "code",
      "metadata": {
        "colab": {
          "base_uri": "https://localhost:8080/"
        },
        "id": "QdCMMdi7Z9iF",
        "outputId": "9c79862a-a2b8-40b0-e70b-f95ca40e9ca3"
      },
      "source": [
        "print(list(sorted(all_characts.keys()))[:20])"
      ],
      "execution_count": null,
      "outputs": [
        {
          "output_type": "stream",
          "name": "stdout",
          "text": [
            "['+частота процессора', '- заряд', '- разряд', '. рн 10% водного раствора мыла', '1  – пропанол', '1 disilet с отслаиваемой оболочкой', '1 xro силиконовый катетер  4,2 fr', '1 замес', '1 порт', '1 радиотрубка', '1 туннельная игла', '1,62', '1-й класс', '1-й тип коннектора', '10/100base-tx с поддержкой poe', '100 внутренних абонентов. расширяется до 200 с помощью dsp модуля d3', '100% арабика', '10base-t / 100base-tx / 1000base-t', '12 модулей размером', '12. способ измерения температуры']\n"
          ]
        }
      ]
    },
    {
      "cell_type": "code",
      "metadata": {
        "colab": {
          "base_uri": "https://localhost:8080/"
        },
        "id": "KrkFz1AwdNEg",
        "outputId": "47ec253a-a6f8-4639-f7e6-6071b24ce9f9"
      },
      "source": [
        "good_keys = [key for key in charact_counter if charact_counter[key]>=10]\n",
        "len(good_keys)"
      ],
      "execution_count": null,
      "outputs": [
        {
          "output_type": "execute_result",
          "data": {
            "text/plain": [
              "10555"
            ]
          },
          "metadata": {},
          "execution_count": 17
        }
      ]
    },
    {
      "cell_type": "code",
      "metadata": {
        "colab": {
          "base_uri": "https://localhost:8080/"
        },
        "id": "114R9gfmdkjy",
        "outputId": "0b9cf044-27d4-4824-8be7-18f1802bb455"
      },
      "source": [
        "sorted(good_keys)[:20]"
      ],
      "execution_count": null,
      "outputs": [
        {
          "output_type": "execute_result",
          "data": {
            "text/plain": [
              "['100% арабика',\n",
              " '3 в 1',\n",
              " '3d эффект',\n",
              " '3d-датчик ускорения',\n",
              " '3d-печать',\n",
              " '3g',\n",
              " '4g',\n",
              " '4g lte',\n",
              " '[in] номинальный ток',\n",
              " 'access control list',\n",
              " 'adf (податчик оригиналов)',\n",
              " 'aoh',\n",
              " 'atx',\n",
              " 'av выход',\n",
              " 'bec',\n",
              " 'bio-средство',\n",
              " 'bios',\n",
              " 'bluetooth',\n",
              " 'bluetooth встроенный',\n",
              " 'classless inter-domain routing (cidr)']"
            ]
          },
          "metadata": {},
          "execution_count": 18
        }
      ]
    },
    {
      "cell_type": "code",
      "metadata": {
        "id": "90S9VPcpd4Oa",
        "colab": {
          "base_uri": "https://localhost:8080/"
        },
        "outputId": "e2c990f9-c2e4-4bc3-93a1-7ee183bb02e6"
      },
      "source": [
        "for i in sorted(good_keys)[:20]:\n",
        "  print(i, all_characts[i])"
      ],
      "execution_count": null,
      "outputs": [
        {
          "output_type": "stream",
          "name": "stdout",
          "text": [
            "100% арабика {'да', 'нет'}\n",
            "3 в 1 {'да', 'нет'}\n",
            "3d эффект {'эффект движения', 'объемная'}\n",
            "3d-датчик ускорения {'да', 'нет'}\n",
            "3d-печать {'объмная с движением', 'объемная'}\n",
            "3g {'да', 'нет'}\n",
            "4g {'да', 'нет'}\n",
            "4g lte {'да', 'нет'}\n",
            "[in] номинальный ток {'80', '63', '32', '160', '10', '16', '125', '250', '315', '1', '7', '40', '95', '25', '9', '100', '6', '2'}\n",
            "access control list {'нет', 'поддерживается, до 50 списков доступа'}\n",
            "adf (податчик оригиналов) {'есть', 'нет', 'двусторонний', 'наличие', 'обычный', '1', 'односторонний', 'да', 'dadf  на 50 листов'}\n",
            "aoh {'есть', 'да'}\n",
            "atx {'да', 'нет'}\n",
            "av выход {'да', 'нет'}\n",
            "bec {'40.00000', '18.00000', '3.60000', '4.00000', '20.00000', '16.00000', '15', '10.00000', '25.00000', '8.00000', '30.00000', '15.00000', '52.00000', '3.00000', '5.00000', '1.00000'}\n",
            "bio-средство {'да', 'нет'}\n",
            "bios {'efi ami bios, 128 мбит', '128 mb flash rom, uefi ami bios', 'ami', 'efi ami, 64 мбит x2 с поддержкой dualbios', 'efi ami bios, 2x 128 мбит', 'efi ami bios, 1 x128 мбит', 'efi ami bios, 1x128 мбит', 'uefi ami bios, 2x128 мбит', 'efi ami bios, 1x 128 мбит', 'uefi ami bios, 2x 128 мбит'}\n",
            "bluetooth {'нет', '4.20000', 'наличие', 'bluetooth 5.0, a2dp', 'да, v5.0', 'версия 5.0', 'bluetooth 4.2', 'есть, bluetooth le', 'bt 2.1+edr/3.0/4.1le', 'bluetooth v5.0', '4.10000', 'bluetooth 5.0', '4.2', 'bluetooth 4.0/bt2.1+edr/3.0/4.1le', '5.0', 'да', 'есть', '2.1+edr', '5', 'v5.0 le', 'да, v4.2', '5.00000', 'v4.1'}\n",
            "bluetooth встроенный {'да', 'нет'}\n",
            "classless inter-domain routing (cidr) {'нет'}\n"
          ]
        }
      ]
    },
    {
      "cell_type": "code",
      "metadata": {
        "id": "KHXMEsY3zpni"
      },
      "source": [
        "data_dict = {}\n",
        "for iterr, st in data.iterrows():\n",
        "  data_dict[st['Идентификатор СТЕ']] = st"
      ],
      "execution_count": null,
      "outputs": []
    },
    {
      "cell_type": "code",
      "metadata": {
        "id": "2yPyJ2Y7BDGc"
      },
      "source": [
        "connected = {}\n",
        "for iterr, st in data.iterrows():\n",
        "  if st['Категория'] not in connected:\n",
        "    connected[st['Категория']] = {}\n",
        "  if not pd.isna(st['Другая продукция в контрактах']) and len(st['Другая продукция в контрактах'].strip())>0:\n",
        "    st_others = st['Другая продукция в контрактах']\n",
        "    edge_inda = -st_others[::-1].index(\"}\")\n",
        "    if edge_inda!=0:\n",
        "      st_others = st_others[:edge_inda]+']'\n",
        "    else:\n",
        "      st_others += ']'\n",
        "    # print(st_others[-20:])\n",
        "    st_data = json.loads(st_others)\n",
        "    for prod in st_data:\n",
        "      try:\n",
        "        connected_cat = data_dict[prod['OtherSkuId']]['Категория']\n",
        "        if connected_cat not in connected[st['Категория']]:\n",
        "          connected[st['Категория']][connected_cat] = 0\n",
        "        connected[st['Категория']][connected_cat] += 1\n",
        "      except KeyError:\n",
        "        pass\n",
        "\n",
        "      "
      ],
      "execution_count": null,
      "outputs": []
    },
    {
      "cell_type": "code",
      "metadata": {
        "colab": {
          "base_uri": "https://localhost:8080/"
        },
        "id": "XjFhF9zdEcjD",
        "outputId": "635a8f3b-31ad-499f-d7fd-ccac26a58574"
      },
      "source": [
        "print(len(connected))"
      ],
      "execution_count": null,
      "outputs": [
        {
          "output_type": "stream",
          "name": "stdout",
          "text": [
            "3810\n"
          ]
        }
      ]
    },
    {
      "cell_type": "code",
      "metadata": {
        "colab": {
          "base_uri": "https://localhost:8080/"
        },
        "id": "nWDU__uPHrBw",
        "outputId": "c477fc4e-825a-4175-a836-dfe7583e1909"
      },
      "source": [
        "list(connected.keys())[:10]"
      ],
      "execution_count": null,
      "outputs": [
        {
          "output_type": "execute_result",
          "data": {
            "text/plain": [
              "['Лампы светодиодные',\n",
              " 'Настенно-потолочные светильники',\n",
              " 'Предметы внутреннего интерьера',\n",
              " 'Расходные материалы и комплектующие для лазерных принтеров и МФУ',\n",
              " 'Штемпели',\n",
              " 'Блокнот',\n",
              " 'Знаки различия наплечные, нарукавные, кокарды, нашивки',\n",
              " 'Грамоты',\n",
              " 'Салфетки, насадки для уборки, полотна технические, ветошь',\n",
              " 'Флаги, вымпелы, прочая флажная продукция']"
            ]
          },
          "metadata": {},
          "execution_count": 25
        }
      ]
    },
    {
      "cell_type": "code",
      "metadata": {
        "colab": {
          "base_uri": "https://localhost:8080/"
        },
        "id": "frVPL2fUIovu",
        "outputId": "61b833ea-18eb-4be0-f5aa-69eed08082dc"
      },
      "source": [
        "connected['Блокнот']"
      ],
      "execution_count": null,
      "outputs": [
        {
          "output_type": "execute_result",
          "data": {
            "text/plain": [
              "{'Data-кабели': 7,\n",
              " 'USB-накопители твердотельные (флеш-драйвы)': 23,\n",
              " 'Автомобильная косметика': 2,\n",
              " 'Аксессуары для банка и инкассации': 56,\n",
              " 'Аксессуары для кофеварок и кофемашин': 1,\n",
              " 'Альбомы для рисования': 20,\n",
              " 'Альбомы для фотографий': 1,\n",
              " 'Антисептики кожные': 10,\n",
              " 'Аптечки медицинские': 1,\n",
              " 'Баннерные декорации': 2,\n",
              " 'Батареи аккумуляторные никель-металл-гибридные': 8,\n",
              " 'Бейджи': 151,\n",
              " 'Бинты марлевые медицинские': 4,\n",
              " 'Бирки для ключей': 53,\n",
              " 'Бланк бухгалтерский': 43,\n",
              " 'Бланк самокопирующий': 1,\n",
              " 'Бланки (кроме бухгалтерских)': 46,\n",
              " 'Блоки бумажные для записей': 3011,\n",
              " 'Блокнот': 2667,\n",
              " 'Боксы для бумаг пластиковые': 26,\n",
              " 'Брошюраторы (кроме брошюраторов полиграфических)': 15,\n",
              " 'Булавки': 72,\n",
              " 'Бумага для офисной техники белая': 251,\n",
              " 'Бумага для офисной техники цветная': 612,\n",
              " 'Бумага для плоттеров и копировальных работ': 26,\n",
              " 'Бумага для рисования': 41,\n",
              " 'Бумага для черчения (ватман)': 146,\n",
              " 'Бумага копировальная': 10,\n",
              " 'Бумага мелованная для печати': 6,\n",
              " 'Бумага миллиметровая (масштабно-координатная) и логарифмическая': 14,\n",
              " 'Бумага печатная специального назначения': 1,\n",
              " 'Бумага писчая': 11,\n",
              " 'Бумага туалетная': 9,\n",
              " 'Бумага форматная белая': 138,\n",
              " 'Бумага цветная': 304,\n",
              " 'Бухгалтерская карточка': 32,\n",
              " 'Вешалки для одежды металлические': 2,\n",
              " 'Визитницы пластиковые': 37,\n",
              " 'Вода минеральная': 5,\n",
              " 'Вода питьевая': 2,\n",
              " 'Готовальни': 5,\n",
              " 'Грамоты': 153,\n",
              " 'Губки для маркерных досок': 196,\n",
              " 'Датеры': 53,\n",
              " 'Декоративные изделия для благоустройства территории': 2,\n",
              " 'Держатели для бумаг для досок и флипчартов': 22,\n",
              " 'Дизайнерская бумага': 3,\n",
              " 'Дипломы': 11,\n",
              " 'Диспенсеры для закладок, бумаг, клейкой ленты': 153,\n",
              " 'Дневники школьные': 14,\n",
              " 'Доски информационные': 55,\n",
              " 'Доски комбинированные магнитно-меловые': 5,\n",
              " 'Доски магнитно-маркерные': 89,\n",
              " 'Доски магнитно-маркерные стеклянные': 1,\n",
              " 'Дыроколы для люверсов': 9,\n",
              " 'Дыроколы канцелярские': 578,\n",
              " 'Дыроколы фигурные': 27,\n",
              " 'Ежедневники': 775,\n",
              " 'Еженедельники': 16,\n",
              " 'Жгуты для взятия венозной крови': 1,\n",
              " 'Зажимы для бумаг': 1383,\n",
              " 'Закладки самоклеящиеся бумажные': 365,\n",
              " 'Закладки самоклеящиеся пластиковые': 959,\n",
              " 'Звонок настольный': 1,\n",
              " 'Зеркало': 1,\n",
              " 'Иглы для прошивки документов': 38,\n",
              " 'Изделия бумажные гигиенического  назначения': 12,\n",
              " 'Изделия упаковочные пластмассовые прочие': 14,\n",
              " 'Изделия хозяйственного назначения деревянные': 1,\n",
              " 'Инвентарь для санузлов пластмассовый': 3,\n",
              " 'Инвентарь кухонный деревянный': 4,\n",
              " 'Инвентарь уборочный металлический': 3,\n",
              " 'Инвентарь уборочный пластмассовый': 30,\n",
              " 'Инструмент мерительный ручной прочий': 5,\n",
              " 'Инструмент мерительный электронный, оптический и электронно-оптический прочий': 4,\n",
              " 'Инструменты и аксессуары для живописи и графики': 4,\n",
              " 'Календари бумажные': 686,\n",
              " 'Календари настольные, кроме бумажных': 19,\n",
              " 'Калька': 36,\n",
              " 'Калькуляторы': 314,\n",
              " 'Канцелярские журналы': 336,\n",
              " 'Карандаши механические': 384,\n",
              " 'Карандаши цветные': 258,\n",
              " 'Карандаши чернографитные': 1170,\n",
              " 'Карманы для папок самоклеящиеся': 1,\n",
              " 'Картон канцелярский': 238,\n",
              " 'Картотеки картонные': 1,\n",
              " 'Картотеки пластиковые': 34,\n",
              " 'Карты прочие': 1,\n",
              " 'Кассы наборные': 1,\n",
              " 'Кисти художественные': 26,\n",
              " 'Клавиатуры': 1,\n",
              " 'Классные журналы': 5,\n",
              " 'Клеи': 12,\n",
              " 'Клеи канцелярские': 1334,\n",
              " 'Климатическое медицинское оборудование': 1,\n",
              " 'Книги алфавитные': 31,\n",
              " 'Книги бухгалтерские': 364,\n",
              " 'Книги учета универсальные': 33,\n",
              " 'Кнопки': 457,\n",
              " 'Коврики канцелярские': 228,\n",
              " 'Конверт для  CD': 2,\n",
              " 'Конверты почтовые': 623,\n",
              " 'Контейнеры и другие емкости для мусора металлические': 3,\n",
              " 'Контейнеры и другие емкости для мусора пластмассовые': 12,\n",
              " 'Контейнеры пластмассовые': 1,\n",
              " 'Концентраторы USB': 3,\n",
              " 'Коробки, короба из гофрированного картона': 1,\n",
              " 'Кошельки': 3,\n",
              " 'Краски для рисования': 23,\n",
              " 'Крафт-бумага': 17,\n",
              " 'Кремы для рук': 1,\n",
              " 'Кресла офисные': 4,\n",
              " 'Крышки переплетные картонные': 1,\n",
              " 'Кулер': 4,\n",
              " 'Ламинаторы': 1,\n",
              " 'Ластики': 796,\n",
              " 'Лейкопластыри фиксирующие медицинские': 1,\n",
              " 'Лейкопластырь для поверхностных ран, антибактериальный': 2,\n",
              " 'Лента клейкая канцелярская': 805,\n",
              " 'Лента клейкая упаковочная': 138,\n",
              " 'Лента обвязочная упаковочная': 10,\n",
              " 'Лента строительная адгезивная прочая': 34,\n",
              " 'Линейка слесарная стальная': 1,\n",
              " 'Линейки': 882,\n",
              " 'Линейки чертежные': 2,\n",
              " 'Лотки, накопители для бумаг картонные': 25,\n",
              " 'Лотки, накопители для бумаг металлические': 147,\n",
              " 'Лотки, накопители для бумаг пластиковые': 921,\n",
              " 'Лупы канцелярские': 61,\n",
              " 'Люверсы металлические': 12,\n",
              " 'Магниты для досок': 196,\n",
              " 'Маркеры': 2793,\n",
              " 'Маска трахеостомическая, кислородная': 1,\n",
              " 'Маски медицинские нестерильные одноразовые': 5,\n",
              " 'Материалы для живописи и графики': 10,\n",
              " 'Материалы для лепки и скульптуры': 15,\n",
              " 'Материалы из полимеров и пластмасс для товаров культуры и искусства': 2,\n",
              " 'Материалы расходные для дыроколов': 43,\n",
              " 'Мел для письма на доске': 85,\n",
              " 'Метлы для уборки': 7,\n",
              " 'Механизмы для скоросшивателей металлические': 1,\n",
              " 'Мешки, пакеты, сумки бумажные': 4,\n",
              " 'Мешки, чехлы, пакеты, сумки полимерные': 83,\n",
              " 'Мониторы типовые': 1,\n",
              " 'Мыло жидкое для дезинфекции': 2,\n",
              " 'Мыло туалетное жидкое': 9,\n",
              " 'Мыло туалетное твердое': 1,\n",
              " 'Мыло хозяйственное твердое': 3,\n",
              " 'Мышь компьютерная': 3,\n",
              " 'Набор карандашей цветных восковых (мелки)': 15,\n",
              " 'Набор пишущих принадлежностей, включающие в себя ручку': 19,\n",
              " 'Наборы канцелярские из дерева': 20,\n",
              " 'Наборы канцелярские из кожи': 14,\n",
              " 'Наборы канцелярские из металла': 76,\n",
              " 'Наборы канцелярские пластиковые': 283,\n",
              " 'Наборы принадлежностей для досок и флипчартов': 8,\n",
              " 'Наборы ручек канцелярских': 1,\n",
              " 'Наборы слесарные': 1,\n",
              " 'Настольные и напольные светильники': 4,\n",
              " 'Нити для чистки зубов, зубочистки': 1,\n",
              " 'Нити, ленты прошивные': 146,\n",
              " 'Ножевая продукция бытовая': 2,\n",
              " 'Ножи канцелярские': 525,\n",
              " 'Ножи строительные': 7,\n",
              " 'Ножницы канцелярские': 750,\n",
              " 'Ножницы портновские': 1,\n",
              " 'Нумераторы': 9,\n",
              " 'Обложки для переплета картонные': 156,\n",
              " 'Обложки для переплета пластиковые': 210,\n",
              " 'Обложки для термопереплета': 8,\n",
              " 'Обложки школьные': 12,\n",
              " 'Оборудование активное сетевое прочее': 1,\n",
              " 'Оборудование для дворовых территорий прочее': 1,\n",
              " 'Оборудование для этикеток': 1,\n",
              " 'Оборудование, инвентарь и инструменты для ухода за растениями': 1,\n",
              " 'Одежда специальная для защиты от искр и брызг расплавленного металла': 3,\n",
              " 'Оптические диски': 13,\n",
              " 'Оснастки для печати': 6,\n",
              " 'Оснастки для штампов': 11,\n",
              " 'Открытки': 27,\n",
              " 'Отпариватели': 1,\n",
              " 'Очистители для маркерных досок': 88,\n",
              " 'Очки защитные': 1,\n",
              " 'Пакеты почтовые бумажные': 4,\n",
              " 'Пакеты почтовые пластиковые': 12,\n",
              " 'Папки адресные из материала на бумажной основе': 134,\n",
              " 'Папки адресные кожаные': 23,\n",
              " 'Папки деловые': 45,\n",
              " 'Папки для рисования': 4,\n",
              " 'Папки для черчения': 34,\n",
              " 'Папки картонные': 2611,\n",
              " 'Папки пластиковые': 5667,\n",
              " 'Пеналы школьные': 7,\n",
              " 'Перчатки из полимерных материалов для защиты от внешних воздействий': 2,\n",
              " 'Перчатки резиновые общего назначения (кроме медицинских)': 10,\n",
              " 'Перчатки смотровые латексные, нестерильные': 2,\n",
              " 'Перчатки смотровые нитриловые, нестерильные': 4,\n",
              " 'Перчатки смотровые/процедурные нитриловые, неопудренные, нестерильные': 4,\n",
              " 'Перчатки трикотажные для защиты от внешних воздействий': 3,\n",
              " 'Перчатки хозяйственные трикотажные': 23,\n",
              " 'Печати круглые самонаборные': 3,\n",
              " 'Пистолеты клеевые электрические': 8,\n",
              " 'Плакаты': 1,\n",
              " 'Планинги': 180,\n",
              " 'Пластилин для детского творчества': 2,\n",
              " 'Пленка для ламинирования': 272,\n",
              " 'Пленка для печати на офисной технике': 10,\n",
              " 'Пленка упаковочная': 4,\n",
              " 'Подставки для бумажных блоков металлические': 20,\n",
              " 'Подставки для бумажных блоков пластиковые': 38,\n",
              " 'Подставки для визиток металлические': 14,\n",
              " 'Подставки для канцелярских принадлежностей металлические': 43,\n",
              " 'Подставки для канцелярских принадлежностей пластиковые': 100,\n",
              " 'Подставки для книг металлические': 1,\n",
              " 'Подставки для книг пластиковые': 1,\n",
              " 'Подставки для перекидного календаря металлические': 2,\n",
              " 'Подставки для перекидного календаря пластиковые': 6,\n",
              " 'Подставки для пишущих принадлежностей металлические': 16,\n",
              " 'Подставки для пишущих принадлежностей пластиковые': 17,\n",
              " 'Подушки для смачивания пальцев': 126,\n",
              " 'Подушки штемпельные': 95,\n",
              " 'Покрывала спасательные': 1,\n",
              " 'Покрытия защитные для пола прочие': 3,\n",
              " 'Покрытия противоскользящие': 4,\n",
              " 'Полотенца бумажные': 16,\n",
              " 'Полотенца текстильные': 8,\n",
              " 'Порошки чистящие': 4,\n",
              " 'Порошок стиральный': 8,\n",
              " 'Посуда кухонная пластмассовая': 1,\n",
              " 'Посуда одноразовая бумажная': 15,\n",
              " 'Посуда одноразовая пластмассовая': 15,\n",
              " 'Посуда столовая, кухонная из керамики': 1,\n",
              " 'Предметы внутреннего интерьера': 2,\n",
              " 'Приборы столовые, кухонные из нержавеющей стали': 2,\n",
              " 'Принадлежности гардеробные пластмассовые': 5,\n",
              " 'Принадлежности для косметических процедур': 1,\n",
              " 'Принадлежности для очистки оргтехники': 47,\n",
              " 'Принадлежности для ухода за одеждой и обувью': 34,\n",
              " 'Принадлежности для шитья и рукоделия металлические': 1,\n",
              " 'Принадлежности чертежные': 19,\n",
              " 'Противопожарное оборудование': 4,\n",
              " 'Прочие автоаксессуары': 2,\n",
              " 'Прочие галантерейные товары': 2,\n",
              " 'Прочие расходные материалы для культуры и искусства': 3,\n",
              " 'Прочие товары для детей (кроме одежды)': 3,\n",
              " 'Пружины для переплета металлические': 7,\n",
              " 'Пружины для переплета пластиковые': 256,\n",
              " 'Пылесос': 1,\n",
              " 'Радиотелефон': 1,\n",
              " 'Разбавитель средства корректирующего канцелярского': 9,\n",
              " 'Разделители листов картонные': 252,\n",
              " 'Разделители листов пластиковые': 315,\n",
              " 'Рамки деревянные': 39,\n",
              " 'Рамки металлические': 2,\n",
              " 'Рамки пластиковые': 62,\n",
              " 'Расходные материалы': 8,\n",
              " 'Расходные материалы для кассовых аппаратов': 2,\n",
              " 'Расходные материалы для освежителя воздуха': 1,\n",
              " 'Расходные материалы и комплектующие для лазерных принтеров и МФУ': 24,\n",
              " 'Расходные материалы и комплектующие для прочих принтеров и мфу': 4,\n",
              " 'Расшиватели документов': 275,\n",
              " 'Реагенты противогололедные твердые': 1,\n",
              " 'Регистраторы подвесные': 67,\n",
              " 'Резаки канцелярские': 107,\n",
              " 'Резинки бухгалтерские': 93,\n",
              " 'Респираторы': 5,\n",
              " 'Ролики для факса': 2,\n",
              " 'Ролики, чековая лента для устройств кроме факса': 10,\n",
              " 'Ручки канцелярские': 4163,\n",
              " 'Салфетка марлевая тканая, стерильная': 1,\n",
              " 'Салфетки гигиенические влажные': 15,\n",
              " 'Салфетки дезинфицирующие': 4,\n",
              " 'Салфетки для маркерных досок': 39,\n",
              " 'Салфетки косметические бумажные': 7,\n",
              " 'Салфетки медицинские': 2,\n",
              " 'Салфетки, насадки для уборки, полотна технические, ветошь': 31,\n",
              " 'Самоклеящаяся бумага': 6,\n",
              " 'Сервизы из стекла': 1,\n",
              " 'Сетевое и связное оборудование': 6,\n",
              " 'Система хранения данных': 4,\n",
              " 'Системы демонстрационные': 28,\n",
              " 'Скатерти текстильные': 8,\n",
              " 'Скобы для степлеров': 1069,\n",
              " 'Скрепки канцелярские': 931,\n",
              " 'Скрепочницы пластиковые': 168,\n",
              " 'Смартфоны': 1,\n",
              " 'Сменные блоки для тетрадей на кольцах': 59,\n",
              " 'Средства дезинфицирующие универсальные': 2,\n",
              " 'Средства дезинфицирующие хозяйственные': 7,\n",
              " 'Средства для дезодорирования и ароматизации воздуха в помещениях': 5,\n",
              " 'Средства для мытья посуды': 6,\n",
              " 'Средства для посудомоечных машин': 29,\n",
              " 'Средства защиты противошумные': 4,\n",
              " 'Средства корректирующие канцелярские': 1434,\n",
              " 'Средства красящие канцелярские': 306,\n",
              " 'Средства моющие для поверхностей в помещениях': 3,\n",
              " 'Средства моющие для стекол и зеркал': 5,\n",
              " 'Средства моющие для туалетов и ванных комнат': 8,\n",
              " 'Средства отбеливающие для стирки': 2,\n",
              " 'Средства чистящие для бытовой техники': 27,\n",
              " 'Средства чистящие для ванной комнаты/туалета': 5,\n",
              " 'Средства чистящие для канализационных труб': 3,\n",
              " 'Средства чистящие универсального назначения': 11,\n",
              " 'Стенды, таблички, карманы информационные': 156,\n",
              " 'Степлеры (сшиватели)': 949,\n",
              " 'Стержни для карандашей механических': 275,\n",
              " 'Стержни для ручек канцелярских': 202,\n",
              " 'Струбцины': 4,\n",
              " 'Стулья ученические  ': 1,\n",
              " 'Сувениры и награды': 90,\n",
              " 'Сумки повседневные': 16,\n",
              " 'Сушилки для обуви': 4,\n",
              " 'Сценический головной убор': 2,\n",
              " 'Термосы': 1,\n",
              " 'Тетрадь различного назначения': 24,\n",
              " 'Тетрадь ученическая общая': 457,\n",
              " 'Тетрадь ученическая школьная': 87,\n",
              " 'Товары для моделирования': 10,\n",
              " 'Торговое оборудование и мебель': 17,\n",
              " 'Точилки для карандашей': 515,\n",
              " 'Тряпки для уборки': 7,\n",
              " 'Уборы головные для взрослых': 1,\n",
              " 'Удлинители': 2,\n",
              " 'Указки для досок': 9,\n",
              " 'Урны для благоустройства территории': 1,\n",
              " 'Устройства и приспособления для упаковки': 1,\n",
              " 'Учебники печатные общеобразовательного назначения': 4,\n",
              " 'Файлы-вкладыши пластиковые': 1211,\n",
              " 'Флаги, вымпелы, прочая флажная продукция': 18,\n",
              " 'Флипчарты': 44,\n",
              " 'Фломастеры': 183,\n",
              " 'Фотобумага': 66,\n",
              " 'Фурнитура для инженерно-строительных товаров': 1,\n",
              " 'Фурнитура для мебели деревянная, пластиковая': 2,\n",
              " 'Чайник электрический': 1,\n",
              " 'Часы настенные': 4,\n",
              " 'Чернила канцелярские': 38,\n",
              " 'Шило канцелярское': 42,\n",
              " 'Шкафы хозяйственные металлические': 1,\n",
              " 'Штемпели': 158,\n",
              " 'Электрические резаки': 1,\n",
              " 'Электроизоляционные материалы': 5,\n",
              " 'Элементы питания (батарейки)': 106,\n",
              " 'Этикет-пистолеты': 6,\n",
              " 'Этикетки самоклеящиеся': 190,\n",
              " 'Ящики инструментальные': 1,\n",
              " 'Ящики, поддоны деревянные': 1}"
            ]
          },
          "metadata": {},
          "execution_count": 26
        }
      ]
    },
    {
      "cell_type": "code",
      "metadata": {
        "colab": {
          "base_uri": "https://localhost:8080/"
        },
        "id": "8edHvXb8OAUB",
        "outputId": "ff89f2b4-455c-4a27-eef6-3a0bd51c477e"
      },
      "source": [
        "connected_keys = list(connected.keys())\n",
        "num_cat = enumerate(connected_keys)\n",
        "decoder = {category:i for i, category in num_cat}\n",
        "print(decoder['Блокнот'])"
      ],
      "execution_count": 62,
      "outputs": [
        {
          "output_type": "stream",
          "name": "stdout",
          "text": [
            "5\n"
          ]
        }
      ]
    }
  ]
}