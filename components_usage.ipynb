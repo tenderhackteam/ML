{
  "nbformat": 4,
  "nbformat_minor": 0,
  "metadata": {
    "colab": {
      "name": "components_usage.ipynb",
      "provenance": [],
      "collapsed_sections": []
    },
    "kernelspec": {
      "name": "python3",
      "display_name": "Python 3"
    },
    "language_info": {
      "name": "python"
    }
  },
  "cells": [
    {
      "cell_type": "code",
      "metadata": {
        "colab": {
          "base_uri": "https://localhost:8080/"
        },
        "id": "HprUNy2YDWje",
        "outputId": "d54efc32-e90f-4581-da52-fd25fc99b7c4"
      },
      "source": [
        "from google.colab import drive\n",
        "drive.mount('/content/drive')"
      ],
      "execution_count": 1,
      "outputs": [
        {
          "output_type": "stream",
          "name": "stdout",
          "text": [
            "Drive already mounted at /content/drive; to attempt to forcibly remount, call drive.mount(\"/content/drive\", force_remount=True).\n"
          ]
        }
      ]
    },
    {
      "cell_type": "code",
      "metadata": {
        "id": "ucdu02mHD28I"
      },
      "source": [
        "import pandas as pd\n",
        "import json\n",
        "from typing import Dict, List"
      ],
      "execution_count": 13,
      "outputs": []
    },
    {
      "cell_type": "code",
      "metadata": {
        "id": "R_pV-O0SSw_K"
      },
      "source": [
        "def clean_json(json_str: str) -> Dict:\n",
        "    aska = json_str[::-1]\n",
        "    edge_inda = - aska.index(\"}\")\n",
        "    if edge_inda!=0:\n",
        "      json_str = json_str[:edge_inda]+']'\n",
        "    else:\n",
        "      json_str += ']'\n",
        "    return json.loads(json_str)\n"
      ],
      "execution_count": 65,
      "outputs": []
    },
    {
      "cell_type": "code",
      "metadata": {
        "id": "Mc6_x7qnD8Uv"
      },
      "source": [
        "data = pd.read_excel('/content/drive/MyDrive/tenderhack/dataset_base.xlsx')\n",
        "id2obj = {}\n",
        "categories = {}\n",
        "connected = {}\n",
        "for iterr, st in data.iterrows():\n",
        "  id2obj[st['Идентификатор СТЕ']] = st\n",
        "\n",
        "  if st['Категория'] not in categories:\n",
        "    categories[st['Категория']] = []\n",
        "  categories[st['Категория']].append(st['Идентификатор СТЕ'])\n",
        "\n",
        "  if st['Категория'] not in connected:\n",
        "    connected[st['Категория']] = {}\n",
        "  if not pd.isna(st['Другая продукция в контрактах']) and len(st['Другая продукция в контрактах'].strip())>0:\n",
        "    st_others = st['Другая продукция в контрактах']\n",
        "    sr_others = clean_json(st_others)\n",
        "    for prod in st_data:\n",
        "      try:\n",
        "        connected_cat = id2obj[prod['OtherSkuId']]['Категория']\n",
        "        if connected_cat not in connected[st['Категория']]:\n",
        "          connected[st['Категория']][connected_cat] = 0\n",
        "        connected[st['Категория']][connected_cat] += 1\n",
        "      except KeyError:\n",
        "        pass\n"
      ],
      "execution_count": 58,
      "outputs": []
    },
    {
      "cell_type": "code",
      "metadata": {
        "id": "Xn85Qb6VLTeJ"
      },
      "source": [
        "connected_keys = list(connected.keys())\n",
        "num_cat = enumerate(connected_keys)\n",
        "decoder = {category:i for i, category in num_cat}"
      ],
      "execution_count": 59,
      "outputs": []
    },
    {
      "cell_type": "code",
      "metadata": {
        "id": "5zuu3WZmKDSL"
      },
      "source": [
        "class ComponentGetter():\n",
        "  def __init__(self, topn: int):\n",
        "    self.topn = topn\n",
        "\n",
        "    self.V = [[] for i in range(len(connected))]\n",
        "    self.Visited = [False] * len(connected)\n",
        "    self.ncomp = 0\n",
        "\n",
        "    for category1 in connected:\n",
        "      helpers = sorted(list(connected[category1].keys()), key = lambda x: -connected[category1][x])\n",
        "      for category2 in helpers[:topn]:\n",
        "        if category2!=category1:\n",
        "            self.V[decoder[category1]].append(decoder[category2])\n",
        "\n",
        "    for i in range(0, len(connected)): \n",
        "      if not self.Visited[i]:\n",
        "          self.ncomp += 1\n",
        "          self.DFS(i, self.ncomp)\n",
        "            \n",
        "    self.components = [[] for i in range(self.ncomp)]\n",
        "    for i in range(len(self.Visited)):\n",
        "      self.components[self.Visited[i]-1].append(connected_keys[i])\n",
        "    self.comp_dict = {}\n",
        "    for component in self.components:\n",
        "      for element in component:\n",
        "        self.comp_dict[element] = component\n",
        "  \n",
        "  def DFS(self, start, number):\n",
        "    self.Visited[start] = number\n",
        "    for v in self.V[start]:\n",
        "        if not self.Visited[v]:\n",
        "            self.DFS(v, number)\n",
        "\n",
        "  def get_categories(self, category: str):\n",
        "    return self.comp_dict[category]"
      ],
      "execution_count": 60,
      "outputs": []
    },
    {
      "cell_type": "code",
      "metadata": {
        "id": "RzXyOHTaI8UH"
      },
      "source": [
        "top3 = ComponentGetter(3)\n",
        "top5 = ComponentGetter(5)\n",
        "top8 = ComponentGetter(8)"
      ],
      "execution_count": 61,
      "outputs": []
    },
    {
      "cell_type": "code",
      "metadata": {
        "id": "iBsNi_P_UOhw"
      },
      "source": [
        "def get_characts(obj):\n",
        "  characts = set()\n",
        "  if not pd.isna(obj['Характеристики СТЕ']):\n",
        "    for charact in clean_json(obj['Характеристики СТЕ']):\n",
        "      try:\n",
        "        characts.add((charact['Name'], charact['Value']))\n",
        "      except KeyError:\n",
        "        pass\n",
        "  return characts"
      ],
      "execution_count": 68,
      "outputs": []
    },
    {
      "cell_type": "code",
      "metadata": {
        "id": "VMpVaYIpQQgm"
      },
      "source": [
        "def one_based_connected(id: int, topn: int):\n",
        "  obj = id2obj[id]\n",
        "  characts = get_characts(obj)\n",
        "  candidates = {}\n",
        "  if not pd.isna(obj['Другая продукция в контрактах']) and len(obj['Другая продукция в контрактах'].strip())>0:\n",
        "    st_others = obj['Другая продукция в контрактах']\n",
        "    edge_inda = -st_others[::-1].index(\"}\")\n",
        "    if edge_inda!=0:\n",
        "      st_others = st_others[:edge_inda]+']'\n",
        "    else:\n",
        "      st_others += ']'\n",
        "    st_data = json.loads(st_others)\n",
        "\n",
        "    for prod in st_data:\n",
        "      try:\n",
        "        connected_obj = prod['OtherSkuId']\n",
        "        connected_characts = get_characts(decoder[connected_obj])\n",
        "        candidates[connected_obj] = (len(characts&connected_characts))**(0.5)\n",
        "      except KeyError:\n",
        "        pass\n",
        "    \n",
        "  for category in top3.get_categories(obj['Категория']):\n",
        "    category_candidates = categories[category]\n",
        "    for cand in category_candidates:\n",
        "      connected_characts = get_characts(id2obj[cand])\n",
        "      candidates[cand] = (len(characts&connected_characts))**(0.5) * 1/3\n",
        "  \n",
        "  for category in top5.get_categories(obj['Категория']):\n",
        "    category_candidates = categories[category]\n",
        "    for cand in category_candidates:\n",
        "      connected_characts = get_characts(id2obj[cand])\n",
        "      candidates[cand] = (len(characts&connected_characts))**(0.5) * 1/5\n",
        "\n",
        "  for category in top8.get_categories(obj['Категория']):\n",
        "    category_candidates = categories[category]\n",
        "    for cand in category_candidates:\n",
        "      connected_characts = get_characts(id2obj[cand])\n",
        "      candidates[cand] = (len(characts&connected_characts))**(0.5) * 1/8\n",
        "\n",
        "  sorted_candidates = sorted(candidates, key = lambda x: -candidates[x])\n",
        "  return sorted_candidates[:topn]\n",
        "  \n",
        "    \n"
      ],
      "execution_count": 73,
      "outputs": []
    },
    {
      "cell_type": "code",
      "metadata": {
        "id": "a3PIoPAXWrlo"
      },
      "source": [
        "ids = one_based_connected(34172198, 10)"
      ],
      "execution_count": 74,
      "outputs": []
    },
    {
      "cell_type": "code",
      "metadata": {
        "colab": {
          "base_uri": "https://localhost:8080/"
        },
        "id": "HnTKuflMX12V",
        "outputId": "2fffc713-1001-4f0d-9916-baae25ffd2d0"
      },
      "source": [
        "for id in ids:\n",
        "  print(id2obj[id]['Наименование СТЕ'])"
      ],
      "execution_count": 77,
      "outputs": [
        {
          "output_type": "stream",
          "name": "stdout",
          "text": [
            "Елка пристенно-угловая Графская премиум 210 см., литая хвоя+пвх, ЕлкиТорг\n",
            "Мишура ПРАЗДНИЧНАЯ 125 мм, 2 м, MOROZCO / цвет мишуры: 1026 - зеленый\n",
            "Елка новогодняя настольная 30 см в корзине с голубыми украшениями\n",
            "Мишура de luxe СНЕЖНАЯ ХВОЯ, зеленая, 75ммх2м, KAEMINGK\n",
            "Декоративное украшение СВАГ ЗАСНЕЖЕННЫЙ с ягодами и шишками, 183 см, National Tree Co\n",
            "Венок ЛЕСНОЙ ЭТЮД красный 25 см, ЕЛОЧКА\n",
            "Статуэтка  \"Девушка \"Россия\"\n",
            "Набор подсвечников \"Ночь\"\n",
            "Саше ароматическое Aroma Harmony Сочная груша\n",
            "Саше ароматическое Aroma Harmony Орхидея\n"
          ]
        }
      ]
    }
  ]
}