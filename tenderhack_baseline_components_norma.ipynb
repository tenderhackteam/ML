{
  "nbformat": 4,
  "nbformat_minor": 0,
  "metadata": {
    "colab": {
      "name": "tenderhack_baseline_components_norma.ipynb",
      "provenance": [],
      "collapsed_sections": []
    },
    "kernelspec": {
      "name": "python3",
      "display_name": "Python 3"
    },
    "language_info": {
      "name": "python"
    }
  },
  "cells": [
    {
      "cell_type": "code",
      "metadata": {
        "colab": {
          "base_uri": "https://localhost:8080/"
        },
        "id": "-d9w8NI2CFa6",
        "outputId": "709bf4d8-733d-4a07-bd87-232a3895aa5a"
      },
      "source": [
        "from google.colab import drive\n",
        "drive.mount('/content/drive')"
      ],
      "execution_count": null,
      "outputs": [
        {
          "output_type": "stream",
          "name": "stdout",
          "text": [
            "Drive already mounted at /content/drive; to attempt to forcibly remount, call drive.mount(\"/content/drive\", force_remount=True).\n"
          ]
        }
      ]
    },
    {
      "cell_type": "code",
      "metadata": {
        "colab": {
          "base_uri": "https://localhost:8080/"
        },
        "id": "DgXCp2anSTft",
        "outputId": "e4737491-8ba8-4fbf-c0ff-b097669c467b"
      },
      "source": [
        "!pip install pymorphy2[fast]"
      ],
      "execution_count": null,
      "outputs": [
        {
          "output_type": "stream",
          "name": "stdout",
          "text": [
            "Collecting pymorphy2[fast]\n",
            "  Downloading pymorphy2-0.9.1-py3-none-any.whl (55 kB)\n",
            "\u001b[?25l\r\u001b[K     |██████                          | 10 kB 21.8 MB/s eta 0:00:01\r\u001b[K     |███████████▉                    | 20 kB 29.1 MB/s eta 0:00:01\r\u001b[K     |█████████████████▊              | 30 kB 31.3 MB/s eta 0:00:01\r\u001b[K     |███████████████████████▋        | 40 kB 35.3 MB/s eta 0:00:01\r\u001b[K     |█████████████████████████████▌  | 51 kB 39.3 MB/s eta 0:00:01\r\u001b[K     |████████████████████████████████| 55 kB 3.9 MB/s \n",
            "\u001b[?25hCollecting pymorphy2-dicts-ru<3.0,>=2.4\n",
            "  Downloading pymorphy2_dicts_ru-2.4.417127.4579844-py2.py3-none-any.whl (8.2 MB)\n",
            "\u001b[K     |████████████████████████████████| 8.2 MB 18.7 MB/s \n",
            "\u001b[?25hRequirement already satisfied: docopt>=0.6 in /usr/local/lib/python3.7/dist-packages (from pymorphy2[fast]) (0.6.2)\n",
            "Collecting dawg-python>=0.7.1\n",
            "  Downloading DAWG_Python-0.7.2-py2.py3-none-any.whl (11 kB)\n",
            "Collecting DAWG>=0.8\n",
            "  Downloading DAWG-0.8.0.tar.gz (371 kB)\n",
            "\u001b[K     |████████████████████████████████| 371 kB 56.9 MB/s \n",
            "\u001b[?25hBuilding wheels for collected packages: DAWG\n",
            "  Building wheel for DAWG (setup.py) ... \u001b[?25l\u001b[?25hdone\n",
            "  Created wheel for DAWG: filename=DAWG-0.8.0-cp37-cp37m-linux_x86_64.whl size=854548 sha256=600a02e99b8f26c7ab12e6732c7033533c8b96a5ae176a5cb032695439f2d66c\n",
            "  Stored in directory: /root/.cache/pip/wheels/85/51/a4/2de41ff197786537075027c27b479a38da92f50abc86634445\n",
            "Successfully built DAWG\n",
            "Installing collected packages: pymorphy2-dicts-ru, dawg-python, pymorphy2, DAWG\n",
            "Successfully installed DAWG-0.8.0 dawg-python-0.7.2 pymorphy2-0.9.1 pymorphy2-dicts-ru-2.4.417127.4579844\n"
          ]
        }
      ]
    },
    {
      "cell_type": "code",
      "metadata": {
        "id": "XJ_MYE8SSVxv"
      },
      "source": [
        "import random\n",
        "import re\n",
        "import string\n",
        "import pandas as pd\n",
        "import torch\n",
        "import matplotlib.pyplot as plt\n",
        "import numpy as np\n",
        "from sklearn.model_selection import train_test_split\n",
        "from tqdm import tqdm\n",
        "import gensim\n",
        "from gensim.corpora.dictionary import Dictionary\n",
        "from gensim.models import LdaMulticore\n",
        "from torch import nn\n",
        "from torch.nn import functional as F\n",
        "from torch.utils.data import TensorDataset, DataLoader\n",
        "from torchvision.transforms import ToTensor\n",
        "import warnings \n",
        "from sklearn.linear_model import LogisticRegression\n",
        "from PIL import Image\n",
        "from IPython.display import clear_output\n",
        "from sklearn.naive_bayes import MultinomialNB\n",
        "from sklearn.pipeline import Pipeline\n",
        "from sklearn.feature_extraction.text import TfidfTransformer\n",
        "from sklearn.feature_extraction.text import CountVectorizer, TfidfVectorizer\n",
        "from sklearn.metrics import accuracy_score, confusion_matrix\n",
        "from typing import List\n",
        "from sklearn.metrics import classification_report\n",
        "import pickle\n",
        "from typing import List\n",
        "import nltk\n",
        "import string\n",
        "import pymorphy2\n",
        "import codecs"
      ],
      "execution_count": null,
      "outputs": []
    },
    {
      "cell_type": "code",
      "metadata": {
        "id": "AKQdPQPCUIpQ"
      },
      "source": [
        "warnings.filterwarnings(action='ignore',category=UserWarning, module='gensim')  \n",
        "warnings.filterwarnings(action='ignore',category=FutureWarning, module='gensim')  \n",
        "warnings.filterwarnings(action='ignore',category=DeprecationWarning, module='gensim')\n",
        "warnings.filterwarnings(action='ignore',category=DeprecationWarning, module='smart_open') \n",
        "warnings.filterwarnings(action='ignore',category=DeprecationWarning, module='sklearn')\n",
        "warnings.filterwarnings(action='ignore',category=DeprecationWarning, module='scipy')    "
      ],
      "execution_count": null,
      "outputs": []
    },
    {
      "cell_type": "code",
      "metadata": {
        "id": "fiK65k-XUKSQ"
      },
      "source": [
        "device = torch.device(\"cuda:0\" if torch.cuda.is_available() else \"cpu\")"
      ],
      "execution_count": null,
      "outputs": []
    },
    {
      "cell_type": "code",
      "metadata": {
        "colab": {
          "base_uri": "https://localhost:8080/",
          "height": 559
        },
        "id": "tOQbuITLUM84",
        "outputId": "20cc2782-2b04-4aac-ca46-df1a8513ddcf"
      },
      "source": [
        "data = pd.read_excel('/content/drive/MyDrive/tenderhack/dataset_base.xlsx')\n",
        "data.head()"
      ],
      "execution_count": null,
      "outputs": [
        {
          "output_type": "execute_result",
          "data": {
            "text/html": [
              "<div>\n",
              "<style scoped>\n",
              "    .dataframe tbody tr th:only-of-type {\n",
              "        vertical-align: middle;\n",
              "    }\n",
              "\n",
              "    .dataframe tbody tr th {\n",
              "        vertical-align: top;\n",
              "    }\n",
              "\n",
              "    .dataframe thead th {\n",
              "        text-align: right;\n",
              "    }\n",
              "</style>\n",
              "<table border=\"1\" class=\"dataframe\">\n",
              "  <thead>\n",
              "    <tr style=\"text-align: right;\">\n",
              "      <th></th>\n",
              "      <th>Идентификатор СТЕ</th>\n",
              "      <th>Наименование СТЕ</th>\n",
              "      <th>Категория</th>\n",
              "      <th>Описание</th>\n",
              "      <th>Характеристики СТЕ</th>\n",
              "      <th>Регионы поставки</th>\n",
              "      <th>Кол-во заключенных контрактов</th>\n",
              "      <th>Поставщики</th>\n",
              "      <th>Страна происхождения</th>\n",
              "      <th>Другая продукция в контрактах</th>\n",
              "      <th>Просмотры</th>\n",
              "      <th>Идентификатор КПГЗ</th>\n",
              "      <th>Код КПГЗ</th>\n",
              "      <th>Модель</th>\n",
              "      <th>Цена</th>\n",
              "    </tr>\n",
              "  </thead>\n",
              "  <tbody>\n",
              "    <tr>\n",
              "      <th>0</th>\n",
              "      <td>20528973</td>\n",
              "      <td>Светодиодная лента 2835, ULTRA, 12 Вольт, 60 l...</td>\n",
              "      <td>Лампы светодиодные</td>\n",
              "      <td>NaN</td>\n",
              "      <td>[{\"Name\":\"Цвет свечения\",\"Id\":-506425117,\"Valu...</td>\n",
              "      <td>[{\"Name\":\"Москва\"}]</td>\n",
              "      <td>NaN</td>\n",
              "      <td>[{\"SupplierId\":2310783,\"Name\":\"ООО \\\"ЛЮМЕНВАТТ...</td>\n",
              "      <td>NaN</td>\n",
              "      <td>NaN</td>\n",
              "      <td>1</td>\n",
              "      <td>12106442.0</td>\n",
              "      <td>01.10.05.02.04</td>\n",
              "      <td>2835ULTRA</td>\n",
              "      <td>NaN</td>\n",
              "    </tr>\n",
              "    <tr>\n",
              "      <th>1</th>\n",
              "      <td>34860341</td>\n",
              "      <td>Светодиодный светильник Geniled ЛПО  1200?180?...</td>\n",
              "      <td>Настенно-потолочные светильники</td>\n",
              "      <td>NaN</td>\n",
              "      <td>[{\"Name\":\"Вид климатического исполнения\",\"Id\":...</td>\n",
              "      <td>[{\"Name\":\"Свердловская\"},{\"Name\":\"Москва\"}]</td>\n",
              "      <td>1.0</td>\n",
              "      <td>[{\"SupplierId\":1559525,\"Name\":\"Общество с огра...</td>\n",
              "      <td>РОССИЯ</td>\n",
              "      <td>NaN</td>\n",
              "      <td>41</td>\n",
              "      <td>12114082.0</td>\n",
              "      <td>01.10.05.03.01.05</td>\n",
              "      <td>ЛПО 1200?180?40 40Вт 5000К Опал</td>\n",
              "      <td>NaN</td>\n",
              "    </tr>\n",
              "    <tr>\n",
              "      <th>2</th>\n",
              "      <td>34172198</td>\n",
              "      <td>Елка пристенно-угловая Графская премиум 210 см...</td>\n",
              "      <td>Предметы внутреннего интерьера</td>\n",
              "      <td>NaN</td>\n",
              "      <td>[{\"Name\":\"Цвет\",\"Id\":340085190,\"Value\":\"Зелены...</td>\n",
              "      <td>[{\"Name\":\"Москва\"},{\"Name\":\"Все регионы\"}]</td>\n",
              "      <td>NaN</td>\n",
              "      <td>[{\"SupplierId\":1348988,\"Name\":\"ИП Чепало Оксан...</td>\n",
              "      <td>NaN</td>\n",
              "      <td>NaN</td>\n",
              "      <td>5</td>\n",
              "      <td>68093.0</td>\n",
              "      <td>01.20.08</td>\n",
              "      <td>Елка пристенно-угловая Графская премиум 210 см.</td>\n",
              "      <td>NaN</td>\n",
              "    </tr>\n",
              "    <tr>\n",
              "      <th>3</th>\n",
              "      <td>1318014</td>\n",
              "      <td>Картридж HP CE278A/Canon 728 LJ P1560/1566/160...</td>\n",
              "      <td>Расходные материалы и комплектующие для лазерн...</td>\n",
              "      <td>NaN</td>\n",
              "      <td>[{\"Name\":\"Тип расходника\",\"Id\":317455168,\"Valu...</td>\n",
              "      <td>[{\"Name\":\"Москва\"},{\"Name\":\"Московская\"}]</td>\n",
              "      <td>9.0</td>\n",
              "      <td>[{\"SupplierId\":1111141,\"Name\":\"Общество с огра...</td>\n",
              "      <td>NaN</td>\n",
              "      <td>[{\"OtherSkuId\":1398583,\"OtherSkuName\":\"013R006...</td>\n",
              "      <td>6</td>\n",
              "      <td>12105204.0</td>\n",
              "      <td>01.13.13.01.01</td>\n",
              "      <td>SF-CE278(2K)</td>\n",
              "      <td>NaN</td>\n",
              "    </tr>\n",
              "    <tr>\n",
              "      <th>4</th>\n",
              "      <td>1251411</td>\n",
              "      <td>Штамп самонаборный Pr.C20/3-Set 38х14 (аналог ...</td>\n",
              "      <td>Штемпели</td>\n",
              "      <td>NaN</td>\n",
              "      <td>[{\"Name\":\"Наличие рамки\",\"Id\":366100137,\"Value...</td>\n",
              "      <td>[{\"Name\":\"Белгородская\"},{\"Name\":\"Марий Эл\"},{...</td>\n",
              "      <td>71.0</td>\n",
              "      <td>[{\"SupplierId\":1100019,\"Name\":\"ООО \\\"ЦТО\\\"\",\"I...</td>\n",
              "      <td>АВСТРИЯ</td>\n",
              "      <td>[{\"OtherSkuId\":1171023,\"OtherSkuName\":\"Berling...</td>\n",
              "      <td>72</td>\n",
              "      <td>12120460.0</td>\n",
              "      <td>01.15.06.07</td>\n",
              "      <td>Штамп самонаборный пласт. 3стр. Pr.C20/3-Set 3...</td>\n",
              "      <td>[{\"Cost\":454.67000},{\"Cost\":620.00000},{\"Cost\"...</td>\n",
              "    </tr>\n",
              "  </tbody>\n",
              "</table>\n",
              "</div>"
            ],
            "text/plain": [
              "   Идентификатор СТЕ  ...                                               Цена\n",
              "0           20528973  ...                                                NaN\n",
              "1           34860341  ...                                                NaN\n",
              "2           34172198  ...                                                NaN\n",
              "3            1318014  ...                                                NaN\n",
              "4            1251411  ...  [{\"Cost\":454.67000},{\"Cost\":620.00000},{\"Cost\"...\n",
              "\n",
              "[5 rows x 15 columns]"
            ]
          },
          "metadata": {},
          "execution_count": 7
        }
      ]
    },
    {
      "cell_type": "code",
      "metadata": {
        "colab": {
          "base_uri": "https://localhost:8080/"
        },
        "id": "EwEE6rAfUxqN",
        "outputId": "3e9955dc-188f-4b92-c24a-96702f4449c3"
      },
      "source": [
        "len(data)"
      ],
      "execution_count": null,
      "outputs": [
        {
          "output_type": "execute_result",
          "data": {
            "text/plain": [
              "200000"
            ]
          },
          "metadata": {},
          "execution_count": 8
        }
      ]
    },
    {
      "cell_type": "code",
      "metadata": {
        "colab": {
          "base_uri": "https://localhost:8080/"
        },
        "id": "Q3zZiDwgWFhR",
        "outputId": "c9f0af17-b136-4d26-cabb-8a7f6212f646"
      },
      "source": [
        "data['Категория'].value_counts()"
      ],
      "execution_count": null,
      "outputs": [
        {
          "output_type": "execute_result",
          "data": {
            "text/plain": [
              "Расходные материалы и комплектующие для лазерных принтеров и МФУ                                  6519\n",
              "Ручки канцелярские                                                                                3230\n",
              "Одежда специальная для защиты от общих производственных загрязнений и механических воздействий    3015\n",
              "Папки пластиковые                                                                                 1994\n",
              "Учебники печатные общеобразовательного назначения                                                 1951\n",
              "                                                                                                  ... \n",
              "Масла моторные авиационные                                                                           1\n",
              "Аксессуары к аппарату \"eva\"                                                                          1\n",
              "Грузы для скелетного вытяжения                                                                       1\n",
              "Бриллиантовый крезиловый синий раствор ивд                                                           1\n",
              "Проводники для малоинвазивной хирургии                                                               1\n",
              "Name: Категория, Length: 3810, dtype: int64"
            ]
          },
          "metadata": {},
          "execution_count": 9
        }
      ]
    },
    {
      "cell_type": "code",
      "metadata": {
        "colab": {
          "base_uri": "https://localhost:8080/"
        },
        "id": "uadZDeWJWZ7x",
        "outputId": "ec21b350-1dc2-4ef5-ba26-6c1d81f5244c"
      },
      "source": [
        "data.dtypes.value_counts()"
      ],
      "execution_count": null,
      "outputs": [
        {
          "output_type": "execute_result",
          "data": {
            "text/plain": [
              "object     11\n",
              "float64     2\n",
              "int64       2\n",
              "dtype: int64"
            ]
          },
          "metadata": {},
          "execution_count": 10
        }
      ]
    },
    {
      "cell_type": "code",
      "metadata": {
        "colab": {
          "base_uri": "https://localhost:8080/"
        },
        "id": "vaDBbv61Wi_2",
        "outputId": "62ceeef3-9343-449d-c86d-6f446ae6fd48"
      },
      "source": [
        "type(data['Характеристики СТЕ'][0])"
      ],
      "execution_count": null,
      "outputs": [
        {
          "output_type": "execute_result",
          "data": {
            "text/plain": [
              "str"
            ]
          },
          "metadata": {},
          "execution_count": 11
        }
      ]
    },
    {
      "cell_type": "code",
      "metadata": {
        "id": "YzLa3nawWpxs"
      },
      "source": [
        "import json\n",
        "characts = []\n",
        "for i in data['Характеристики СТЕ']:\n",
        "  try:\n",
        "    characts.append(json.loads(i))\n",
        "  except:\n",
        "    pass\n"
      ],
      "execution_count": null,
      "outputs": []
    },
    {
      "cell_type": "code",
      "metadata": {
        "colab": {
          "base_uri": "https://localhost:8080/"
        },
        "id": "ZkuocB9UW_Sp",
        "outputId": "7253668c-5eba-4a20-a739-fdaa08bf3744"
      },
      "source": [
        "print(characts[0])"
      ],
      "execution_count": null,
      "outputs": [
        {
          "output_type": "stream",
          "name": "stdout",
          "text": [
            "[{'Name': 'Цвет свечения', 'Id': -506425117, 'Value': 'Холодный'}, {'Name': 'Мощность', 'Id': -506424125, 'Value': '7.00000', 'Unit': 'Вт'}, {'Name': 'Напряжение', 'Id': -506424124, 'Value': '12', 'Unit': 'В'}, {'Name': 'Яркость', 'Id': -506425116, 'Value': '760', 'Unit': 'лм'}, {'Name': 'Плотность led на метр', 'Id': -506425119, 'Value': '300', 'Unit': 'шт'}, {'Name': 'Размер светодиодов', 'Id': -506425118, 'Value': '283', 'Unit': 'smd'}]\n"
          ]
        }
      ]
    },
    {
      "cell_type": "code",
      "metadata": {
        "id": "T6S_y-P2YPgQ"
      },
      "source": [
        "all_characts = {}\n",
        "charact_counter = {}\n",
        "for charact_set in characts:\n",
        "  for charact in charact_set:\n",
        "    name = charact['Name'].strip().lower()\n",
        "    if name[0] == '\"':\n",
        "      name = name[1:-1]\n",
        "    elif name[0] == \"'\":\n",
        "      name = name[1:]\n",
        "    if name not in all_characts:\n",
        "      all_characts[name] = set()\n",
        "      charact_counter[name] = 0\n",
        "    charact_counter[name]+=1\n",
        "    try:\n",
        "      all_characts[name].add(charact['Value'].strip().lower())\n",
        "    except KeyError:\n",
        "      pass\n"
      ],
      "execution_count": null,
      "outputs": []
    },
    {
      "cell_type": "code",
      "metadata": {
        "colab": {
          "base_uri": "https://localhost:8080/"
        },
        "id": "ZRw9eShqZrIc",
        "outputId": "340048ee-faf3-4575-dc06-ca282d83cc46"
      },
      "source": [
        "print(len(all_characts))\n",
        "print(list(all_characts.keys())[:20])"
      ],
      "execution_count": null,
      "outputs": [
        {
          "output_type": "stream",
          "name": "stdout",
          "text": [
            "57717\n",
            "['цвет свечения', 'мощность', 'напряжение', 'яркость', 'плотность led на метр', 'размер светодиодов', 'вид климатического исполнения', 'вид рассеивателя', 'коэффициент мощности', 'вид товаров', 'вид энергетического оборудования', 'габаритные размеры (шхгхв)', 'световой поток', 'цветовая температура', 'гарантия', 'степень защиты', 'цвет', 'металлическая подставка', 'материал', 'вид ели']\n"
          ]
        }
      ]
    },
    {
      "cell_type": "code",
      "metadata": {
        "colab": {
          "base_uri": "https://localhost:8080/"
        },
        "id": "QdCMMdi7Z9iF",
        "outputId": "9c79862a-a2b8-40b0-e70b-f95ca40e9ca3"
      },
      "source": [
        "print(list(sorted(all_characts.keys()))[:20])"
      ],
      "execution_count": null,
      "outputs": [
        {
          "output_type": "stream",
          "name": "stdout",
          "text": [
            "['+частота процессора', '- заряд', '- разряд', '. рн 10% водного раствора мыла', '1  – пропанол', '1 disilet с отслаиваемой оболочкой', '1 xro силиконовый катетер  4,2 fr', '1 замес', '1 порт', '1 радиотрубка', '1 туннельная игла', '1,62', '1-й класс', '1-й тип коннектора', '10/100base-tx с поддержкой poe', '100 внутренних абонентов. расширяется до 200 с помощью dsp модуля d3', '100% арабика', '10base-t / 100base-tx / 1000base-t', '12 модулей размером', '12. способ измерения температуры']\n"
          ]
        }
      ]
    },
    {
      "cell_type": "code",
      "metadata": {
        "colab": {
          "base_uri": "https://localhost:8080/"
        },
        "id": "KrkFz1AwdNEg",
        "outputId": "47ec253a-a6f8-4639-f7e6-6071b24ce9f9"
      },
      "source": [
        "good_keys = [key for key in charact_counter if charact_counter[key]>=10]\n",
        "len(good_keys)"
      ],
      "execution_count": null,
      "outputs": [
        {
          "output_type": "execute_result",
          "data": {
            "text/plain": [
              "10555"
            ]
          },
          "metadata": {},
          "execution_count": 17
        }
      ]
    },
    {
      "cell_type": "code",
      "metadata": {
        "colab": {
          "base_uri": "https://localhost:8080/"
        },
        "id": "114R9gfmdkjy",
        "outputId": "0b9cf044-27d4-4824-8be7-18f1802bb455"
      },
      "source": [
        "sorted(good_keys)[:20]"
      ],
      "execution_count": null,
      "outputs": [
        {
          "output_type": "execute_result",
          "data": {
            "text/plain": [
              "['100% арабика',\n",
              " '3 в 1',\n",
              " '3d эффект',\n",
              " '3d-датчик ускорения',\n",
              " '3d-печать',\n",
              " '3g',\n",
              " '4g',\n",
              " '4g lte',\n",
              " '[in] номинальный ток',\n",
              " 'access control list',\n",
              " 'adf (податчик оригиналов)',\n",
              " 'aoh',\n",
              " 'atx',\n",
              " 'av выход',\n",
              " 'bec',\n",
              " 'bio-средство',\n",
              " 'bios',\n",
              " 'bluetooth',\n",
              " 'bluetooth встроенный',\n",
              " 'classless inter-domain routing (cidr)']"
            ]
          },
          "metadata": {},
          "execution_count": 18
        }
      ]
    },
    {
      "cell_type": "code",
      "metadata": {
        "id": "90S9VPcpd4Oa",
        "colab": {
          "base_uri": "https://localhost:8080/"
        },
        "outputId": "e2c990f9-c2e4-4bc3-93a1-7ee183bb02e6"
      },
      "source": [
        "for i in sorted(good_keys)[:20]:\n",
        "  print(i, all_characts[i])"
      ],
      "execution_count": null,
      "outputs": [
        {
          "output_type": "stream",
          "name": "stdout",
          "text": [
            "100% арабика {'да', 'нет'}\n",
            "3 в 1 {'да', 'нет'}\n",
            "3d эффект {'эффект движения', 'объемная'}\n",
            "3d-датчик ускорения {'да', 'нет'}\n",
            "3d-печать {'объмная с движением', 'объемная'}\n",
            "3g {'да', 'нет'}\n",
            "4g {'да', 'нет'}\n",
            "4g lte {'да', 'нет'}\n",
            "[in] номинальный ток {'80', '63', '32', '160', '10', '16', '125', '250', '315', '1', '7', '40', '95', '25', '9', '100', '6', '2'}\n",
            "access control list {'нет', 'поддерживается, до 50 списков доступа'}\n",
            "adf (податчик оригиналов) {'есть', 'нет', 'двусторонний', 'наличие', 'обычный', '1', 'односторонний', 'да', 'dadf  на 50 листов'}\n",
            "aoh {'есть', 'да'}\n",
            "atx {'да', 'нет'}\n",
            "av выход {'да', 'нет'}\n",
            "bec {'40.00000', '18.00000', '3.60000', '4.00000', '20.00000', '16.00000', '15', '10.00000', '25.00000', '8.00000', '30.00000', '15.00000', '52.00000', '3.00000', '5.00000', '1.00000'}\n",
            "bio-средство {'да', 'нет'}\n",
            "bios {'efi ami bios, 128 мбит', '128 mb flash rom, uefi ami bios', 'ami', 'efi ami, 64 мбит x2 с поддержкой dualbios', 'efi ami bios, 2x 128 мбит', 'efi ami bios, 1 x128 мбит', 'efi ami bios, 1x128 мбит', 'uefi ami bios, 2x128 мбит', 'efi ami bios, 1x 128 мбит', 'uefi ami bios, 2x 128 мбит'}\n",
            "bluetooth {'нет', '4.20000', 'наличие', 'bluetooth 5.0, a2dp', 'да, v5.0', 'версия 5.0', 'bluetooth 4.2', 'есть, bluetooth le', 'bt 2.1+edr/3.0/4.1le', 'bluetooth v5.0', '4.10000', 'bluetooth 5.0', '4.2', 'bluetooth 4.0/bt2.1+edr/3.0/4.1le', '5.0', 'да', 'есть', '2.1+edr', '5', 'v5.0 le', 'да, v4.2', '5.00000', 'v4.1'}\n",
            "bluetooth встроенный {'да', 'нет'}\n",
            "classless inter-domain routing (cidr) {'нет'}\n"
          ]
        }
      ]
    },
    {
      "cell_type": "code",
      "metadata": {
        "id": "KHXMEsY3zpni"
      },
      "source": [
        "data_dict = {}\n",
        "for iterr, st in data.iterrows():\n",
        "  data_dict[st['Идентификатор СТЕ']] = st"
      ],
      "execution_count": null,
      "outputs": []
    },
    {
      "cell_type": "code",
      "metadata": {
        "id": "2yPyJ2Y7BDGc"
      },
      "source": [
        "connected = {}\n",
        "for iterr, st in data.iterrows():\n",
        "  if st['Категория'] not in connected:\n",
        "    connected[st['Категория']] = {}\n",
        "  if not pd.isna(st['Другая продукция в контрактах']) and len(st['Другая продукция в контрактах'].strip())>0:\n",
        "    st_others = st['Другая продукция в контрактах']\n",
        "    edge_inda = -st_others[::-1].index(\"}\")\n",
        "    if edge_inda!=0:\n",
        "      st_others = st_others[:edge_inda]+']'\n",
        "    else:\n",
        "      st_others += ']'\n",
        "    # print(st_others[-20:])\n",
        "    st_data = json.loads(st_others)\n",
        "    for prod in st_data:\n",
        "      try:\n",
        "        connected_cat = data_dict[prod['OtherSkuId']]['Категория']\n",
        "        if connected_cat not in connected[st['Категория']]:\n",
        "          connected[st['Категория']][connected_cat] = 0\n",
        "        connected[st['Категория']][connected_cat] += 1\n",
        "      except KeyError:\n",
        "        pass\n",
        "\n",
        "      "
      ],
      "execution_count": null,
      "outputs": []
    },
    {
      "cell_type": "code",
      "metadata": {
        "colab": {
          "base_uri": "https://localhost:8080/"
        },
        "id": "XjFhF9zdEcjD",
        "outputId": "635a8f3b-31ad-499f-d7fd-ccac26a58574"
      },
      "source": [
        "print(len(connected))"
      ],
      "execution_count": null,
      "outputs": [
        {
          "output_type": "stream",
          "name": "stdout",
          "text": [
            "3810\n"
          ]
        }
      ]
    },
    {
      "cell_type": "code",
      "metadata": {
        "colab": {
          "base_uri": "https://localhost:8080/"
        },
        "id": "nWDU__uPHrBw",
        "outputId": "c477fc4e-825a-4175-a836-dfe7583e1909"
      },
      "source": [
        "list(connected.keys())[:10]"
      ],
      "execution_count": null,
      "outputs": [
        {
          "output_type": "execute_result",
          "data": {
            "text/plain": [
              "['Лампы светодиодные',\n",
              " 'Настенно-потолочные светильники',\n",
              " 'Предметы внутреннего интерьера',\n",
              " 'Расходные материалы и комплектующие для лазерных принтеров и МФУ',\n",
              " 'Штемпели',\n",
              " 'Блокнот',\n",
              " 'Знаки различия наплечные, нарукавные, кокарды, нашивки',\n",
              " 'Грамоты',\n",
              " 'Салфетки, насадки для уборки, полотна технические, ветошь',\n",
              " 'Флаги, вымпелы, прочая флажная продукция']"
            ]
          },
          "metadata": {},
          "execution_count": 25
        }
      ]
    },
    {
      "cell_type": "code",
      "metadata": {
        "colab": {
          "base_uri": "https://localhost:8080/"
        },
        "id": "frVPL2fUIovu",
        "outputId": "61b833ea-18eb-4be0-f5aa-69eed08082dc"
      },
      "source": [
        "connected['Блокнот']"
      ],
      "execution_count": null,
      "outputs": [
        {
          "output_type": "execute_result",
          "data": {
            "text/plain": [
              "{'Data-кабели': 7,\n",
              " 'USB-накопители твердотельные (флеш-драйвы)': 23,\n",
              " 'Автомобильная косметика': 2,\n",
              " 'Аксессуары для банка и инкассации': 56,\n",
              " 'Аксессуары для кофеварок и кофемашин': 1,\n",
              " 'Альбомы для рисования': 20,\n",
              " 'Альбомы для фотографий': 1,\n",
              " 'Антисептики кожные': 10,\n",
              " 'Аптечки медицинские': 1,\n",
              " 'Баннерные декорации': 2,\n",
              " 'Батареи аккумуляторные никель-металл-гибридные': 8,\n",
              " 'Бейджи': 151,\n",
              " 'Бинты марлевые медицинские': 4,\n",
              " 'Бирки для ключей': 53,\n",
              " 'Бланк бухгалтерский': 43,\n",
              " 'Бланк самокопирующий': 1,\n",
              " 'Бланки (кроме бухгалтерских)': 46,\n",
              " 'Блоки бумажные для записей': 3011,\n",
              " 'Блокнот': 2667,\n",
              " 'Боксы для бумаг пластиковые': 26,\n",
              " 'Брошюраторы (кроме брошюраторов полиграфических)': 15,\n",
              " 'Булавки': 72,\n",
              " 'Бумага для офисной техники белая': 251,\n",
              " 'Бумага для офисной техники цветная': 612,\n",
              " 'Бумага для плоттеров и копировальных работ': 26,\n",
              " 'Бумага для рисования': 41,\n",
              " 'Бумага для черчения (ватман)': 146,\n",
              " 'Бумага копировальная': 10,\n",
              " 'Бумага мелованная для печати': 6,\n",
              " 'Бумага миллиметровая (масштабно-координатная) и логарифмическая': 14,\n",
              " 'Бумага печатная специального назначения': 1,\n",
              " 'Бумага писчая': 11,\n",
              " 'Бумага туалетная': 9,\n",
              " 'Бумага форматная белая': 138,\n",
              " 'Бумага цветная': 304,\n",
              " 'Бухгалтерская карточка': 32,\n",
              " 'Вешалки для одежды металлические': 2,\n",
              " 'Визитницы пластиковые': 37,\n",
              " 'Вода минеральная': 5,\n",
              " 'Вода питьевая': 2,\n",
              " 'Готовальни': 5,\n",
              " 'Грамоты': 153,\n",
              " 'Губки для маркерных досок': 196,\n",
              " 'Датеры': 53,\n",
              " 'Декоративные изделия для благоустройства территории': 2,\n",
              " 'Держатели для бумаг для досок и флипчартов': 22,\n",
              " 'Дизайнерская бумага': 3,\n",
              " 'Дипломы': 11,\n",
              " 'Диспенсеры для закладок, бумаг, клейкой ленты': 153,\n",
              " 'Дневники школьные': 14,\n",
              " 'Доски информационные': 55,\n",
              " 'Доски комбинированные магнитно-меловые': 5,\n",
              " 'Доски магнитно-маркерные': 89,\n",
              " 'Доски магнитно-маркерные стеклянные': 1,\n",
              " 'Дыроколы для люверсов': 9,\n",
              " 'Дыроколы канцелярские': 578,\n",
              " 'Дыроколы фигурные': 27,\n",
              " 'Ежедневники': 775,\n",
              " 'Еженедельники': 16,\n",
              " 'Жгуты для взятия венозной крови': 1,\n",
              " 'Зажимы для бумаг': 1383,\n",
              " 'Закладки самоклеящиеся бумажные': 365,\n",
              " 'Закладки самоклеящиеся пластиковые': 959,\n",
              " 'Звонок настольный': 1,\n",
              " 'Зеркало': 1,\n",
              " 'Иглы для прошивки документов': 38,\n",
              " 'Изделия бумажные гигиенического  назначения': 12,\n",
              " 'Изделия упаковочные пластмассовые прочие': 14,\n",
              " 'Изделия хозяйственного назначения деревянные': 1,\n",
              " 'Инвентарь для санузлов пластмассовый': 3,\n",
              " 'Инвентарь кухонный деревянный': 4,\n",
              " 'Инвентарь уборочный металлический': 3,\n",
              " 'Инвентарь уборочный пластмассовый': 30,\n",
              " 'Инструмент мерительный ручной прочий': 5,\n",
              " 'Инструмент мерительный электронный, оптический и электронно-оптический прочий': 4,\n",
              " 'Инструменты и аксессуары для живописи и графики': 4,\n",
              " 'Календари бумажные': 686,\n",
              " 'Календари настольные, кроме бумажных': 19,\n",
              " 'Калька': 36,\n",
              " 'Калькуляторы': 314,\n",
              " 'Канцелярские журналы': 336,\n",
              " 'Карандаши механические': 384,\n",
              " 'Карандаши цветные': 258,\n",
              " 'Карандаши чернографитные': 1170,\n",
              " 'Карманы для папок самоклеящиеся': 1,\n",
              " 'Картон канцелярский': 238,\n",
              " 'Картотеки картонные': 1,\n",
              " 'Картотеки пластиковые': 34,\n",
              " 'Карты прочие': 1,\n",
              " 'Кассы наборные': 1,\n",
              " 'Кисти художественные': 26,\n",
              " 'Клавиатуры': 1,\n",
              " 'Классные журналы': 5,\n",
              " 'Клеи': 12,\n",
              " 'Клеи канцелярские': 1334,\n",
              " 'Климатическое медицинское оборудование': 1,\n",
              " 'Книги алфавитные': 31,\n",
              " 'Книги бухгалтерские': 364,\n",
              " 'Книги учета универсальные': 33,\n",
              " 'Кнопки': 457,\n",
              " 'Коврики канцелярские': 228,\n",
              " 'Конверт для  CD': 2,\n",
              " 'Конверты почтовые': 623,\n",
              " 'Контейнеры и другие емкости для мусора металлические': 3,\n",
              " 'Контейнеры и другие емкости для мусора пластмассовые': 12,\n",
              " 'Контейнеры пластмассовые': 1,\n",
              " 'Концентраторы USB': 3,\n",
              " 'Коробки, короба из гофрированного картона': 1,\n",
              " 'Кошельки': 3,\n",
              " 'Краски для рисования': 23,\n",
              " 'Крафт-бумага': 17,\n",
              " 'Кремы для рук': 1,\n",
              " 'Кресла офисные': 4,\n",
              " 'Крышки переплетные картонные': 1,\n",
              " 'Кулер': 4,\n",
              " 'Ламинаторы': 1,\n",
              " 'Ластики': 796,\n",
              " 'Лейкопластыри фиксирующие медицинские': 1,\n",
              " 'Лейкопластырь для поверхностных ран, антибактериальный': 2,\n",
              " 'Лента клейкая канцелярская': 805,\n",
              " 'Лента клейкая упаковочная': 138,\n",
              " 'Лента обвязочная упаковочная': 10,\n",
              " 'Лента строительная адгезивная прочая': 34,\n",
              " 'Линейка слесарная стальная': 1,\n",
              " 'Линейки': 882,\n",
              " 'Линейки чертежные': 2,\n",
              " 'Лотки, накопители для бумаг картонные': 25,\n",
              " 'Лотки, накопители для бумаг металлические': 147,\n",
              " 'Лотки, накопители для бумаг пластиковые': 921,\n",
              " 'Лупы канцелярские': 61,\n",
              " 'Люверсы металлические': 12,\n",
              " 'Магниты для досок': 196,\n",
              " 'Маркеры': 2793,\n",
              " 'Маска трахеостомическая, кислородная': 1,\n",
              " 'Маски медицинские нестерильные одноразовые': 5,\n",
              " 'Материалы для живописи и графики': 10,\n",
              " 'Материалы для лепки и скульптуры': 15,\n",
              " 'Материалы из полимеров и пластмасс для товаров культуры и искусства': 2,\n",
              " 'Материалы расходные для дыроколов': 43,\n",
              " 'Мел для письма на доске': 85,\n",
              " 'Метлы для уборки': 7,\n",
              " 'Механизмы для скоросшивателей металлические': 1,\n",
              " 'Мешки, пакеты, сумки бумажные': 4,\n",
              " 'Мешки, чехлы, пакеты, сумки полимерные': 83,\n",
              " 'Мониторы типовые': 1,\n",
              " 'Мыло жидкое для дезинфекции': 2,\n",
              " 'Мыло туалетное жидкое': 9,\n",
              " 'Мыло туалетное твердое': 1,\n",
              " 'Мыло хозяйственное твердое': 3,\n",
              " 'Мышь компьютерная': 3,\n",
              " 'Набор карандашей цветных восковых (мелки)': 15,\n",
              " 'Набор пишущих принадлежностей, включающие в себя ручку': 19,\n",
              " 'Наборы канцелярские из дерева': 20,\n",
              " 'Наборы канцелярские из кожи': 14,\n",
              " 'Наборы канцелярские из металла': 76,\n",
              " 'Наборы канцелярские пластиковые': 283,\n",
              " 'Наборы принадлежностей для досок и флипчартов': 8,\n",
              " 'Наборы ручек канцелярских': 1,\n",
              " 'Наборы слесарные': 1,\n",
              " 'Настольные и напольные светильники': 4,\n",
              " 'Нити для чистки зубов, зубочистки': 1,\n",
              " 'Нити, ленты прошивные': 146,\n",
              " 'Ножевая продукция бытовая': 2,\n",
              " 'Ножи канцелярские': 525,\n",
              " 'Ножи строительные': 7,\n",
              " 'Ножницы канцелярские': 750,\n",
              " 'Ножницы портновские': 1,\n",
              " 'Нумераторы': 9,\n",
              " 'Обложки для переплета картонные': 156,\n",
              " 'Обложки для переплета пластиковые': 210,\n",
              " 'Обложки для термопереплета': 8,\n",
              " 'Обложки школьные': 12,\n",
              " 'Оборудование активное сетевое прочее': 1,\n",
              " 'Оборудование для дворовых территорий прочее': 1,\n",
              " 'Оборудование для этикеток': 1,\n",
              " 'Оборудование, инвентарь и инструменты для ухода за растениями': 1,\n",
              " 'Одежда специальная для защиты от искр и брызг расплавленного металла': 3,\n",
              " 'Оптические диски': 13,\n",
              " 'Оснастки для печати': 6,\n",
              " 'Оснастки для штампов': 11,\n",
              " 'Открытки': 27,\n",
              " 'Отпариватели': 1,\n",
              " 'Очистители для маркерных досок': 88,\n",
              " 'Очки защитные': 1,\n",
              " 'Пакеты почтовые бумажные': 4,\n",
              " 'Пакеты почтовые пластиковые': 12,\n",
              " 'Папки адресные из материала на бумажной основе': 134,\n",
              " 'Папки адресные кожаные': 23,\n",
              " 'Папки деловые': 45,\n",
              " 'Папки для рисования': 4,\n",
              " 'Папки для черчения': 34,\n",
              " 'Папки картонные': 2611,\n",
              " 'Папки пластиковые': 5667,\n",
              " 'Пеналы школьные': 7,\n",
              " 'Перчатки из полимерных материалов для защиты от внешних воздействий': 2,\n",
              " 'Перчатки резиновые общего назначения (кроме медицинских)': 10,\n",
              " 'Перчатки смотровые латексные, нестерильные': 2,\n",
              " 'Перчатки смотровые нитриловые, нестерильные': 4,\n",
              " 'Перчатки смотровые/процедурные нитриловые, неопудренные, нестерильные': 4,\n",
              " 'Перчатки трикотажные для защиты от внешних воздействий': 3,\n",
              " 'Перчатки хозяйственные трикотажные': 23,\n",
              " 'Печати круглые самонаборные': 3,\n",
              " 'Пистолеты клеевые электрические': 8,\n",
              " 'Плакаты': 1,\n",
              " 'Планинги': 180,\n",
              " 'Пластилин для детского творчества': 2,\n",
              " 'Пленка для ламинирования': 272,\n",
              " 'Пленка для печати на офисной технике': 10,\n",
              " 'Пленка упаковочная': 4,\n",
              " 'Подставки для бумажных блоков металлические': 20,\n",
              " 'Подставки для бумажных блоков пластиковые': 38,\n",
              " 'Подставки для визиток металлические': 14,\n",
              " 'Подставки для канцелярских принадлежностей металлические': 43,\n",
              " 'Подставки для канцелярских принадлежностей пластиковые': 100,\n",
              " 'Подставки для книг металлические': 1,\n",
              " 'Подставки для книг пластиковые': 1,\n",
              " 'Подставки для перекидного календаря металлические': 2,\n",
              " 'Подставки для перекидного календаря пластиковые': 6,\n",
              " 'Подставки для пишущих принадлежностей металлические': 16,\n",
              " 'Подставки для пишущих принадлежностей пластиковые': 17,\n",
              " 'Подушки для смачивания пальцев': 126,\n",
              " 'Подушки штемпельные': 95,\n",
              " 'Покрывала спасательные': 1,\n",
              " 'Покрытия защитные для пола прочие': 3,\n",
              " 'Покрытия противоскользящие': 4,\n",
              " 'Полотенца бумажные': 16,\n",
              " 'Полотенца текстильные': 8,\n",
              " 'Порошки чистящие': 4,\n",
              " 'Порошок стиральный': 8,\n",
              " 'Посуда кухонная пластмассовая': 1,\n",
              " 'Посуда одноразовая бумажная': 15,\n",
              " 'Посуда одноразовая пластмассовая': 15,\n",
              " 'Посуда столовая, кухонная из керамики': 1,\n",
              " 'Предметы внутреннего интерьера': 2,\n",
              " 'Приборы столовые, кухонные из нержавеющей стали': 2,\n",
              " 'Принадлежности гардеробные пластмассовые': 5,\n",
              " 'Принадлежности для косметических процедур': 1,\n",
              " 'Принадлежности для очистки оргтехники': 47,\n",
              " 'Принадлежности для ухода за одеждой и обувью': 34,\n",
              " 'Принадлежности для шитья и рукоделия металлические': 1,\n",
              " 'Принадлежности чертежные': 19,\n",
              " 'Противопожарное оборудование': 4,\n",
              " 'Прочие автоаксессуары': 2,\n",
              " 'Прочие галантерейные товары': 2,\n",
              " 'Прочие расходные материалы для культуры и искусства': 3,\n",
              " 'Прочие товары для детей (кроме одежды)': 3,\n",
              " 'Пружины для переплета металлические': 7,\n",
              " 'Пружины для переплета пластиковые': 256,\n",
              " 'Пылесос': 1,\n",
              " 'Радиотелефон': 1,\n",
              " 'Разбавитель средства корректирующего канцелярского': 9,\n",
              " 'Разделители листов картонные': 252,\n",
              " 'Разделители листов пластиковые': 315,\n",
              " 'Рамки деревянные': 39,\n",
              " 'Рамки металлические': 2,\n",
              " 'Рамки пластиковые': 62,\n",
              " 'Расходные материалы': 8,\n",
              " 'Расходные материалы для кассовых аппаратов': 2,\n",
              " 'Расходные материалы для освежителя воздуха': 1,\n",
              " 'Расходные материалы и комплектующие для лазерных принтеров и МФУ': 24,\n",
              " 'Расходные материалы и комплектующие для прочих принтеров и мфу': 4,\n",
              " 'Расшиватели документов': 275,\n",
              " 'Реагенты противогололедные твердые': 1,\n",
              " 'Регистраторы подвесные': 67,\n",
              " 'Резаки канцелярские': 107,\n",
              " 'Резинки бухгалтерские': 93,\n",
              " 'Респираторы': 5,\n",
              " 'Ролики для факса': 2,\n",
              " 'Ролики, чековая лента для устройств кроме факса': 10,\n",
              " 'Ручки канцелярские': 4163,\n",
              " 'Салфетка марлевая тканая, стерильная': 1,\n",
              " 'Салфетки гигиенические влажные': 15,\n",
              " 'Салфетки дезинфицирующие': 4,\n",
              " 'Салфетки для маркерных досок': 39,\n",
              " 'Салфетки косметические бумажные': 7,\n",
              " 'Салфетки медицинские': 2,\n",
              " 'Салфетки, насадки для уборки, полотна технические, ветошь': 31,\n",
              " 'Самоклеящаяся бумага': 6,\n",
              " 'Сервизы из стекла': 1,\n",
              " 'Сетевое и связное оборудование': 6,\n",
              " 'Система хранения данных': 4,\n",
              " 'Системы демонстрационные': 28,\n",
              " 'Скатерти текстильные': 8,\n",
              " 'Скобы для степлеров': 1069,\n",
              " 'Скрепки канцелярские': 931,\n",
              " 'Скрепочницы пластиковые': 168,\n",
              " 'Смартфоны': 1,\n",
              " 'Сменные блоки для тетрадей на кольцах': 59,\n",
              " 'Средства дезинфицирующие универсальные': 2,\n",
              " 'Средства дезинфицирующие хозяйственные': 7,\n",
              " 'Средства для дезодорирования и ароматизации воздуха в помещениях': 5,\n",
              " 'Средства для мытья посуды': 6,\n",
              " 'Средства для посудомоечных машин': 29,\n",
              " 'Средства защиты противошумные': 4,\n",
              " 'Средства корректирующие канцелярские': 1434,\n",
              " 'Средства красящие канцелярские': 306,\n",
              " 'Средства моющие для поверхностей в помещениях': 3,\n",
              " 'Средства моющие для стекол и зеркал': 5,\n",
              " 'Средства моющие для туалетов и ванных комнат': 8,\n",
              " 'Средства отбеливающие для стирки': 2,\n",
              " 'Средства чистящие для бытовой техники': 27,\n",
              " 'Средства чистящие для ванной комнаты/туалета': 5,\n",
              " 'Средства чистящие для канализационных труб': 3,\n",
              " 'Средства чистящие универсального назначения': 11,\n",
              " 'Стенды, таблички, карманы информационные': 156,\n",
              " 'Степлеры (сшиватели)': 949,\n",
              " 'Стержни для карандашей механических': 275,\n",
              " 'Стержни для ручек канцелярских': 202,\n",
              " 'Струбцины': 4,\n",
              " 'Стулья ученические  ': 1,\n",
              " 'Сувениры и награды': 90,\n",
              " 'Сумки повседневные': 16,\n",
              " 'Сушилки для обуви': 4,\n",
              " 'Сценический головной убор': 2,\n",
              " 'Термосы': 1,\n",
              " 'Тетрадь различного назначения': 24,\n",
              " 'Тетрадь ученическая общая': 457,\n",
              " 'Тетрадь ученическая школьная': 87,\n",
              " 'Товары для моделирования': 10,\n",
              " 'Торговое оборудование и мебель': 17,\n",
              " 'Точилки для карандашей': 515,\n",
              " 'Тряпки для уборки': 7,\n",
              " 'Уборы головные для взрослых': 1,\n",
              " 'Удлинители': 2,\n",
              " 'Указки для досок': 9,\n",
              " 'Урны для благоустройства территории': 1,\n",
              " 'Устройства и приспособления для упаковки': 1,\n",
              " 'Учебники печатные общеобразовательного назначения': 4,\n",
              " 'Файлы-вкладыши пластиковые': 1211,\n",
              " 'Флаги, вымпелы, прочая флажная продукция': 18,\n",
              " 'Флипчарты': 44,\n",
              " 'Фломастеры': 183,\n",
              " 'Фотобумага': 66,\n",
              " 'Фурнитура для инженерно-строительных товаров': 1,\n",
              " 'Фурнитура для мебели деревянная, пластиковая': 2,\n",
              " 'Чайник электрический': 1,\n",
              " 'Часы настенные': 4,\n",
              " 'Чернила канцелярские': 38,\n",
              " 'Шило канцелярское': 42,\n",
              " 'Шкафы хозяйственные металлические': 1,\n",
              " 'Штемпели': 158,\n",
              " 'Электрические резаки': 1,\n",
              " 'Электроизоляционные материалы': 5,\n",
              " 'Элементы питания (батарейки)': 106,\n",
              " 'Этикет-пистолеты': 6,\n",
              " 'Этикетки самоклеящиеся': 190,\n",
              " 'Ящики инструментальные': 1,\n",
              " 'Ящики, поддоны деревянные': 1}"
            ]
          },
          "metadata": {},
          "execution_count": 26
        }
      ]
    },
    {
      "cell_type": "code",
      "metadata": {
        "colab": {
          "base_uri": "https://localhost:8080/"
        },
        "id": "8edHvXb8OAUB",
        "outputId": "ff89f2b4-455c-4a27-eef6-3a0bd51c477e"
      },
      "source": [
        "connected_keys = list(connected.keys())\n",
        "num_cat = enumerate(connected_keys)\n",
        "decoder = {category:i for i, category in num_cat}\n",
        "print(decoder['Блокнот'])"
      ],
      "execution_count": null,
      "outputs": [
        {
          "output_type": "stream",
          "name": "stdout",
          "text": [
            "5\n"
          ]
        }
      ]
    },
    {
      "cell_type": "code",
      "metadata": {
        "id": "RULLcXNTL2PO"
      },
      "source": [
        "matr = [[0 for i in range(len(connected))] for j in range(len(connected))]"
      ],
      "execution_count": null,
      "outputs": []
    },
    {
      "cell_type": "code",
      "metadata": {
        "id": "S1ylH_RfMAoG"
      },
      "source": [
        "V = [[] for i in range(len(connected))]\n",
        "for category1 in connected:\n",
        "  all_iteractions = sum(connected[category1].values())\n",
        "  if category1 in connected[category1]:\n",
        "    all_iteractions-=connected[category1][category1]\n",
        "    normal = all_iteractions/max(1, (len(connected[category1]) - 1))\n",
        "  else:\n",
        "    normal = all_iteractions/max(1, (len(connected[category1])))\n",
        "  \n",
        "  for category2 in connected[category1]:\n",
        "    if category2!=category1:\n",
        "      if connected[category1][category2]>normal:\n",
        "        matr[decoder[category1]][decoder[category2]] = connected[category1][category2]\n",
        "        V[decoder[category1]].append(decoder[category2])"
      ],
      "execution_count": null,
      "outputs": []
    },
    {
      "cell_type": "code",
      "metadata": {
        "id": "_mwG7RSPNuar"
      },
      "source": [
        "matr_df = pd.DataFrame(matr, columns = connected_keys, index = connected_keys)"
      ],
      "execution_count": null,
      "outputs": []
    },
    {
      "cell_type": "code",
      "metadata": {
        "colab": {
          "base_uri": "https://localhost:8080/",
          "height": 588
        },
        "id": "LtfDcus7OZ3x",
        "outputId": "5c1e2c71-9b3c-4a0a-8b6d-008205842740"
      },
      "source": [
        "matr_df.head()"
      ],
      "execution_count": null,
      "outputs": [
        {
          "output_type": "execute_result",
          "data": {
            "text/html": [
              "<div>\n",
              "<style scoped>\n",
              "    .dataframe tbody tr th:only-of-type {\n",
              "        vertical-align: middle;\n",
              "    }\n",
              "\n",
              "    .dataframe tbody tr th {\n",
              "        vertical-align: top;\n",
              "    }\n",
              "\n",
              "    .dataframe thead th {\n",
              "        text-align: right;\n",
              "    }\n",
              "</style>\n",
              "<table border=\"1\" class=\"dataframe\">\n",
              "  <thead>\n",
              "    <tr style=\"text-align: right;\">\n",
              "      <th></th>\n",
              "      <th>Лампы светодиодные</th>\n",
              "      <th>Настенно-потолочные светильники</th>\n",
              "      <th>Предметы внутреннего интерьера</th>\n",
              "      <th>Расходные материалы и комплектующие для лазерных принтеров и МФУ</th>\n",
              "      <th>Штемпели</th>\n",
              "      <th>Блокнот</th>\n",
              "      <th>Знаки различия наплечные, нарукавные, кокарды, нашивки</th>\n",
              "      <th>Грамоты</th>\n",
              "      <th>Салфетки, насадки для уборки, полотна технические, ветошь</th>\n",
              "      <th>Флаги, вымпелы, прочая флажная продукция</th>\n",
              "      <th>Принадлежности для флажной продукции</th>\n",
              "      <th>Бланк бухгалтерский</th>\n",
              "      <th>Ворота гандбольные</th>\n",
              "      <th>Сувениры и награды</th>\n",
              "      <th>Уборы головные для взрослых</th>\n",
              "      <th>Стенды для афиш и реклам роллерные</th>\n",
              "      <th>Оборудование и инвентарь для футбола, мини-футбола прочее</th>\n",
              "      <th>Визитницы пластиковые</th>\n",
              "      <th>Оборудование и инвентарь для баскетбола прочее</th>\n",
              "      <th>Канцелярские журналы</th>\n",
              "      <th>Печати круглые самонаборные</th>\n",
              "      <th>Бланки (кроме бухгалтерских)</th>\n",
              "      <th>Сетки-ворота</th>\n",
              "      <th>Ежедневники</th>\n",
              "      <th>Мешки, чехлы, пакеты, сумки полимерные</th>\n",
              "      <th>Дипломы</th>\n",
              "      <th>Одежда специальная для защиты от общих производственных загрязнений и механических воздействий</th>\n",
              "      <th>Футболки</th>\n",
              "      <th>Ручки канцелярские</th>\n",
              "      <th>Стенды, таблички, карманы информационные</th>\n",
              "      <th>Бумага для офисной техники белая</th>\n",
              "      <th>Календари бумажные</th>\n",
              "      <th>Посуда кухонная пластмассовая</th>\n",
              "      <th>Стойки волейбольные</th>\n",
              "      <th>Системы демонстрационные</th>\n",
              "      <th>Экипировка</th>\n",
              "      <th>Спортивные мешки</th>\n",
              "      <th>Системы контроля доступа</th>\n",
              "      <th>Изделия столовые из нержавеющей стали</th>\n",
              "      <th>Набор пишущих принадлежностей, включающие в себя ручку</th>\n",
              "      <th>...</th>\n",
              "      <th>Реагенты и расходные материалы для анализаторов гематологических \"мек-5208к\"/\"5216к\", \"мек-6318к\", \"мек-6400к\"/\"6410к\", \"мек-6500к\"/\"6510к\", \"мек-7222к\"/\"7300к\", \"мек-8222к\"</th>\n",
              "      <th>Игла для биопсии мягких тканей, одноразового использования</th>\n",
              "      <th>Пробирка вакуумная для взятия образцов крови ивд, с na2эдта и натрия фторидом</th>\n",
              "      <th>Упаковочный термозапаиваемый рулонный материал для использования в низкотемпературных плазменных стерилизаторах \"sterrad\"</th>\n",
              "      <th>Подкладка медицинская текстильная общего назначения, нестерильная</th>\n",
              "      <th>Анализаторы параметров стимуляции имплантируемых устройств</th>\n",
              "      <th>Treponema pallidum антигены ивд, набор, иммунохроматографический анализ, экспресс-анализ</th>\n",
              "      <th>Маски и трубки</th>\n",
              "      <th>Установки стоматологические</th>\n",
              "      <th>Расходные материалы для очков корригирующих</th>\n",
              "      <th>Кардиостимуляторы совместимые с магнитно-резонансной томографией (мрт)</th>\n",
              "      <th>Стержень костный ортопедический</th>\n",
              "      <th>Автоклавы для наконечников</th>\n",
              "      <th>Цифровые плееры</th>\n",
              "      <th>Картофель переработанный</th>\n",
              "      <th>Резектоскопы монополярные</th>\n",
              "      <th>Камины и печи</th>\n",
              "      <th>Учебно-методические пособия, закупаемые в рамках проекта «техносфера современной школы»</th>\n",
              "      <th>Плетеная нерассасывающаяся шелковая нить (эквиваленты: шелк / шелк плетёный atramat)</th>\n",
              "      <th>Наборы ремонтные для катетеров \"broviac\" для детей</th>\n",
              "      <th>Ножка эндопротеза бедренной кости с \"пресс-фит\" фиксацией</th>\n",
              "      <th>Фартук для защиты от излучения</th>\n",
              "      <th>Костюм изолирующий</th>\n",
              "      <th>Электроды нейтральные</th>\n",
              "      <th>Чепчики детские</th>\n",
              "      <th>Повязка для абсорбции экссудата, не гелевая, антибактериальная, стерильная</th>\n",
              "      <th>Масла технологические</th>\n",
              "      <th>Трость опорная</th>\n",
              "      <th>Пояса с петлями для обучения плаванию</th>\n",
              "      <th>Брюки для детей</th>\n",
              "      <th>Ортез запястья и кисти</th>\n",
              "      <th>Перекладины гимнастические</th>\n",
              "      <th>Имплантаты сетчатые</th>\n",
              "      <th>Герпесвирусные инфекции методом полимеразной цепной реакции (пцр) в режиме реального времени для планшетного и роторного типов</th>\n",
              "      <th>Ревматоидный фактор ивд, набор, иммуноферментный анализ (ифа)</th>\n",
              "      <th>Игла для переноса проб крови ивд</th>\n",
              "      <th>Упаковка для стерилизации, одноразового использования</th>\n",
              "      <th>Набор для проведения общехирургических процедур, не содержащий лекарственные средства, многоразового использования</th>\n",
              "      <th>Скрытая кровь в кале ивд, набор, иммунохроматографический анализ, экспресс-анализ</th>\n",
              "      <th>Проводники для малоинвазивной хирургии</th>\n",
              "    </tr>\n",
              "  </thead>\n",
              "  <tbody>\n",
              "    <tr>\n",
              "      <th>Лампы светодиодные</th>\n",
              "      <td>0</td>\n",
              "      <td>1680</td>\n",
              "      <td>0</td>\n",
              "      <td>0</td>\n",
              "      <td>0</td>\n",
              "      <td>0</td>\n",
              "      <td>0</td>\n",
              "      <td>0</td>\n",
              "      <td>0</td>\n",
              "      <td>0</td>\n",
              "      <td>0</td>\n",
              "      <td>0</td>\n",
              "      <td>0</td>\n",
              "      <td>0</td>\n",
              "      <td>0</td>\n",
              "      <td>0</td>\n",
              "      <td>0</td>\n",
              "      <td>0</td>\n",
              "      <td>0</td>\n",
              "      <td>0</td>\n",
              "      <td>0</td>\n",
              "      <td>0</td>\n",
              "      <td>0</td>\n",
              "      <td>0</td>\n",
              "      <td>62</td>\n",
              "      <td>0</td>\n",
              "      <td>0</td>\n",
              "      <td>0</td>\n",
              "      <td>0</td>\n",
              "      <td>0</td>\n",
              "      <td>0</td>\n",
              "      <td>0</td>\n",
              "      <td>0</td>\n",
              "      <td>0</td>\n",
              "      <td>0</td>\n",
              "      <td>0</td>\n",
              "      <td>0</td>\n",
              "      <td>0</td>\n",
              "      <td>0</td>\n",
              "      <td>0</td>\n",
              "      <td>...</td>\n",
              "      <td>0</td>\n",
              "      <td>0</td>\n",
              "      <td>0</td>\n",
              "      <td>0</td>\n",
              "      <td>0</td>\n",
              "      <td>0</td>\n",
              "      <td>0</td>\n",
              "      <td>0</td>\n",
              "      <td>0</td>\n",
              "      <td>0</td>\n",
              "      <td>0</td>\n",
              "      <td>0</td>\n",
              "      <td>0</td>\n",
              "      <td>0</td>\n",
              "      <td>0</td>\n",
              "      <td>0</td>\n",
              "      <td>0</td>\n",
              "      <td>0</td>\n",
              "      <td>0</td>\n",
              "      <td>0</td>\n",
              "      <td>0</td>\n",
              "      <td>0</td>\n",
              "      <td>0</td>\n",
              "      <td>0</td>\n",
              "      <td>0</td>\n",
              "      <td>0</td>\n",
              "      <td>0</td>\n",
              "      <td>0</td>\n",
              "      <td>0</td>\n",
              "      <td>0</td>\n",
              "      <td>0</td>\n",
              "      <td>0</td>\n",
              "      <td>0</td>\n",
              "      <td>0</td>\n",
              "      <td>0</td>\n",
              "      <td>0</td>\n",
              "      <td>0</td>\n",
              "      <td>0</td>\n",
              "      <td>0</td>\n",
              "      <td>0</td>\n",
              "    </tr>\n",
              "    <tr>\n",
              "      <th>Настенно-потолочные светильники</th>\n",
              "      <td>1680</td>\n",
              "      <td>0</td>\n",
              "      <td>0</td>\n",
              "      <td>0</td>\n",
              "      <td>0</td>\n",
              "      <td>0</td>\n",
              "      <td>0</td>\n",
              "      <td>0</td>\n",
              "      <td>0</td>\n",
              "      <td>0</td>\n",
              "      <td>0</td>\n",
              "      <td>0</td>\n",
              "      <td>0</td>\n",
              "      <td>0</td>\n",
              "      <td>0</td>\n",
              "      <td>0</td>\n",
              "      <td>0</td>\n",
              "      <td>0</td>\n",
              "      <td>0</td>\n",
              "      <td>0</td>\n",
              "      <td>0</td>\n",
              "      <td>0</td>\n",
              "      <td>0</td>\n",
              "      <td>0</td>\n",
              "      <td>0</td>\n",
              "      <td>0</td>\n",
              "      <td>0</td>\n",
              "      <td>0</td>\n",
              "      <td>0</td>\n",
              "      <td>0</td>\n",
              "      <td>0</td>\n",
              "      <td>0</td>\n",
              "      <td>0</td>\n",
              "      <td>0</td>\n",
              "      <td>0</td>\n",
              "      <td>0</td>\n",
              "      <td>0</td>\n",
              "      <td>0</td>\n",
              "      <td>0</td>\n",
              "      <td>0</td>\n",
              "      <td>...</td>\n",
              "      <td>0</td>\n",
              "      <td>0</td>\n",
              "      <td>0</td>\n",
              "      <td>0</td>\n",
              "      <td>0</td>\n",
              "      <td>0</td>\n",
              "      <td>0</td>\n",
              "      <td>0</td>\n",
              "      <td>0</td>\n",
              "      <td>0</td>\n",
              "      <td>0</td>\n",
              "      <td>0</td>\n",
              "      <td>0</td>\n",
              "      <td>0</td>\n",
              "      <td>0</td>\n",
              "      <td>0</td>\n",
              "      <td>0</td>\n",
              "      <td>0</td>\n",
              "      <td>0</td>\n",
              "      <td>0</td>\n",
              "      <td>0</td>\n",
              "      <td>0</td>\n",
              "      <td>0</td>\n",
              "      <td>0</td>\n",
              "      <td>0</td>\n",
              "      <td>0</td>\n",
              "      <td>0</td>\n",
              "      <td>0</td>\n",
              "      <td>0</td>\n",
              "      <td>0</td>\n",
              "      <td>0</td>\n",
              "      <td>0</td>\n",
              "      <td>0</td>\n",
              "      <td>0</td>\n",
              "      <td>0</td>\n",
              "      <td>0</td>\n",
              "      <td>0</td>\n",
              "      <td>0</td>\n",
              "      <td>0</td>\n",
              "      <td>0</td>\n",
              "    </tr>\n",
              "    <tr>\n",
              "      <th>Предметы внутреннего интерьера</th>\n",
              "      <td>0</td>\n",
              "      <td>0</td>\n",
              "      <td>0</td>\n",
              "      <td>0</td>\n",
              "      <td>0</td>\n",
              "      <td>0</td>\n",
              "      <td>0</td>\n",
              "      <td>0</td>\n",
              "      <td>70</td>\n",
              "      <td>0</td>\n",
              "      <td>0</td>\n",
              "      <td>0</td>\n",
              "      <td>0</td>\n",
              "      <td>0</td>\n",
              "      <td>0</td>\n",
              "      <td>0</td>\n",
              "      <td>0</td>\n",
              "      <td>0</td>\n",
              "      <td>0</td>\n",
              "      <td>0</td>\n",
              "      <td>0</td>\n",
              "      <td>0</td>\n",
              "      <td>0</td>\n",
              "      <td>0</td>\n",
              "      <td>63</td>\n",
              "      <td>0</td>\n",
              "      <td>0</td>\n",
              "      <td>0</td>\n",
              "      <td>11</td>\n",
              "      <td>0</td>\n",
              "      <td>0</td>\n",
              "      <td>0</td>\n",
              "      <td>24</td>\n",
              "      <td>0</td>\n",
              "      <td>0</td>\n",
              "      <td>0</td>\n",
              "      <td>0</td>\n",
              "      <td>0</td>\n",
              "      <td>0</td>\n",
              "      <td>0</td>\n",
              "      <td>...</td>\n",
              "      <td>0</td>\n",
              "      <td>0</td>\n",
              "      <td>0</td>\n",
              "      <td>0</td>\n",
              "      <td>0</td>\n",
              "      <td>0</td>\n",
              "      <td>0</td>\n",
              "      <td>0</td>\n",
              "      <td>0</td>\n",
              "      <td>0</td>\n",
              "      <td>0</td>\n",
              "      <td>0</td>\n",
              "      <td>0</td>\n",
              "      <td>0</td>\n",
              "      <td>0</td>\n",
              "      <td>0</td>\n",
              "      <td>0</td>\n",
              "      <td>0</td>\n",
              "      <td>0</td>\n",
              "      <td>0</td>\n",
              "      <td>0</td>\n",
              "      <td>0</td>\n",
              "      <td>0</td>\n",
              "      <td>0</td>\n",
              "      <td>0</td>\n",
              "      <td>0</td>\n",
              "      <td>0</td>\n",
              "      <td>0</td>\n",
              "      <td>0</td>\n",
              "      <td>0</td>\n",
              "      <td>0</td>\n",
              "      <td>0</td>\n",
              "      <td>0</td>\n",
              "      <td>0</td>\n",
              "      <td>0</td>\n",
              "      <td>0</td>\n",
              "      <td>0</td>\n",
              "      <td>0</td>\n",
              "      <td>0</td>\n",
              "      <td>0</td>\n",
              "    </tr>\n",
              "    <tr>\n",
              "      <th>Расходные материалы и комплектующие для лазерных принтеров и МФУ</th>\n",
              "      <td>0</td>\n",
              "      <td>0</td>\n",
              "      <td>0</td>\n",
              "      <td>0</td>\n",
              "      <td>0</td>\n",
              "      <td>0</td>\n",
              "      <td>0</td>\n",
              "      <td>0</td>\n",
              "      <td>0</td>\n",
              "      <td>0</td>\n",
              "      <td>0</td>\n",
              "      <td>0</td>\n",
              "      <td>0</td>\n",
              "      <td>0</td>\n",
              "      <td>0</td>\n",
              "      <td>0</td>\n",
              "      <td>0</td>\n",
              "      <td>0</td>\n",
              "      <td>0</td>\n",
              "      <td>0</td>\n",
              "      <td>0</td>\n",
              "      <td>0</td>\n",
              "      <td>0</td>\n",
              "      <td>0</td>\n",
              "      <td>0</td>\n",
              "      <td>0</td>\n",
              "      <td>0</td>\n",
              "      <td>0</td>\n",
              "      <td>0</td>\n",
              "      <td>0</td>\n",
              "      <td>0</td>\n",
              "      <td>0</td>\n",
              "      <td>0</td>\n",
              "      <td>0</td>\n",
              "      <td>0</td>\n",
              "      <td>0</td>\n",
              "      <td>0</td>\n",
              "      <td>0</td>\n",
              "      <td>0</td>\n",
              "      <td>0</td>\n",
              "      <td>...</td>\n",
              "      <td>0</td>\n",
              "      <td>0</td>\n",
              "      <td>0</td>\n",
              "      <td>0</td>\n",
              "      <td>0</td>\n",
              "      <td>0</td>\n",
              "      <td>0</td>\n",
              "      <td>0</td>\n",
              "      <td>0</td>\n",
              "      <td>0</td>\n",
              "      <td>0</td>\n",
              "      <td>0</td>\n",
              "      <td>0</td>\n",
              "      <td>0</td>\n",
              "      <td>0</td>\n",
              "      <td>0</td>\n",
              "      <td>0</td>\n",
              "      <td>0</td>\n",
              "      <td>0</td>\n",
              "      <td>0</td>\n",
              "      <td>0</td>\n",
              "      <td>0</td>\n",
              "      <td>0</td>\n",
              "      <td>0</td>\n",
              "      <td>0</td>\n",
              "      <td>0</td>\n",
              "      <td>0</td>\n",
              "      <td>0</td>\n",
              "      <td>0</td>\n",
              "      <td>0</td>\n",
              "      <td>0</td>\n",
              "      <td>0</td>\n",
              "      <td>0</td>\n",
              "      <td>0</td>\n",
              "      <td>0</td>\n",
              "      <td>0</td>\n",
              "      <td>0</td>\n",
              "      <td>0</td>\n",
              "      <td>0</td>\n",
              "      <td>0</td>\n",
              "    </tr>\n",
              "    <tr>\n",
              "      <th>Штемпели</th>\n",
              "      <td>0</td>\n",
              "      <td>0</td>\n",
              "      <td>0</td>\n",
              "      <td>0</td>\n",
              "      <td>0</td>\n",
              "      <td>257</td>\n",
              "      <td>0</td>\n",
              "      <td>0</td>\n",
              "      <td>0</td>\n",
              "      <td>0</td>\n",
              "      <td>0</td>\n",
              "      <td>0</td>\n",
              "      <td>0</td>\n",
              "      <td>0</td>\n",
              "      <td>0</td>\n",
              "      <td>0</td>\n",
              "      <td>0</td>\n",
              "      <td>0</td>\n",
              "      <td>0</td>\n",
              "      <td>128</td>\n",
              "      <td>0</td>\n",
              "      <td>0</td>\n",
              "      <td>0</td>\n",
              "      <td>77</td>\n",
              "      <td>0</td>\n",
              "      <td>0</td>\n",
              "      <td>0</td>\n",
              "      <td>0</td>\n",
              "      <td>531</td>\n",
              "      <td>49</td>\n",
              "      <td>72</td>\n",
              "      <td>86</td>\n",
              "      <td>0</td>\n",
              "      <td>0</td>\n",
              "      <td>0</td>\n",
              "      <td>0</td>\n",
              "      <td>0</td>\n",
              "      <td>0</td>\n",
              "      <td>0</td>\n",
              "      <td>0</td>\n",
              "      <td>...</td>\n",
              "      <td>0</td>\n",
              "      <td>0</td>\n",
              "      <td>0</td>\n",
              "      <td>0</td>\n",
              "      <td>0</td>\n",
              "      <td>0</td>\n",
              "      <td>0</td>\n",
              "      <td>0</td>\n",
              "      <td>0</td>\n",
              "      <td>0</td>\n",
              "      <td>0</td>\n",
              "      <td>0</td>\n",
              "      <td>0</td>\n",
              "      <td>0</td>\n",
              "      <td>0</td>\n",
              "      <td>0</td>\n",
              "      <td>0</td>\n",
              "      <td>0</td>\n",
              "      <td>0</td>\n",
              "      <td>0</td>\n",
              "      <td>0</td>\n",
              "      <td>0</td>\n",
              "      <td>0</td>\n",
              "      <td>0</td>\n",
              "      <td>0</td>\n",
              "      <td>0</td>\n",
              "      <td>0</td>\n",
              "      <td>0</td>\n",
              "      <td>0</td>\n",
              "      <td>0</td>\n",
              "      <td>0</td>\n",
              "      <td>0</td>\n",
              "      <td>0</td>\n",
              "      <td>0</td>\n",
              "      <td>0</td>\n",
              "      <td>0</td>\n",
              "      <td>0</td>\n",
              "      <td>0</td>\n",
              "      <td>0</td>\n",
              "      <td>0</td>\n",
              "    </tr>\n",
              "  </tbody>\n",
              "</table>\n",
              "<p>5 rows × 3810 columns</p>\n",
              "</div>"
            ],
            "text/plain": [
              "                                                    Лампы светодиодные  ...  Проводники для малоинвазивной хирургии\n",
              "Лампы светодиодные                                                   0  ...                                       0\n",
              "Настенно-потолочные светильники                                   1680  ...                                       0\n",
              "Предметы внутреннего интерьера                                       0  ...                                       0\n",
              "Расходные материалы и комплектующие для лазерны...                   0  ...                                       0\n",
              "Штемпели                                                             0  ...                                       0\n",
              "\n",
              "[5 rows x 3810 columns]"
            ]
          },
          "metadata": {},
          "execution_count": 114
        }
      ]
    },
    {
      "cell_type": "code",
      "metadata": {
        "id": "UapiplQ-OjTE"
      },
      "source": [
        "matr_df.to_csv('/content/drive/MyDrive/tenderhack/categoty_matr_normalized.csv')"
      ],
      "execution_count": null,
      "outputs": []
    },
    {
      "cell_type": "code",
      "metadata": {
        "id": "d-1OZBbZPg_t"
      },
      "source": [
        "Visited = [False] * len(connected)\n",
        "def DFS(start, number):\n",
        "    Visited[start] = number\n",
        "    for v in V[start]:\n",
        "        if not Visited[v]:\n",
        "            DFS(v, number)\n",
        "ncomp = 0\n",
        "for i in range(0, len(connected)): \n",
        "    if not Visited[i]:\n",
        "        ncomp += 1\n",
        "        DFS(i, ncomp)"
      ],
      "execution_count": null,
      "outputs": []
    },
    {
      "cell_type": "code",
      "metadata": {
        "colab": {
          "base_uri": "https://localhost:8080/"
        },
        "id": "U94FZwrmQn0Q",
        "outputId": "403ff390-387e-431c-acc3-34533ce08435"
      },
      "source": [
        "ncomp"
      ],
      "execution_count": null,
      "outputs": [
        {
          "output_type": "execute_result",
          "data": {
            "text/plain": [
              "1733"
            ]
          },
          "metadata": {},
          "execution_count": 117
        }
      ]
    },
    {
      "cell_type": "code",
      "metadata": {
        "id": "Q2Fk13fyQ72E"
      },
      "source": [
        "components = [[] for i in range(ncomp)]\n",
        "for i in range(len(Visited)):\n",
        "  # print(Visited[i])\n",
        "  # print(components[Visited[i]])\n",
        "  # print(connected_keys[i])\n",
        "  components[Visited[i]-1].append(connected_keys[i])\n"
      ],
      "execution_count": null,
      "outputs": []
    },
    {
      "cell_type": "code",
      "metadata": {
        "id": "npcZNXIZRMSb",
        "colab": {
          "base_uri": "https://localhost:8080/"
        },
        "outputId": "17de51a4-61cb-42b7-fe3b-190614714cac"
      },
      "source": [
        "summ = 0\n",
        "for i in components:\n",
        "  summ+=len(i)\n",
        "  if len(i)>1:\n",
        "    print(len(i), i)"
      ],
      "execution_count": null,
      "outputs": [
        {
          "output_type": "stream",
          "name": "stdout",
          "text": [
            "1966 ['Лампы светодиодные', 'Настенно-потолочные светильники', 'Предметы внутреннего интерьера', 'Расходные материалы и комплектующие для лазерных принтеров и МФУ', 'Штемпели', 'Блокнот', 'Знаки различия наплечные, нарукавные, кокарды, нашивки', 'Грамоты', 'Салфетки, насадки для уборки, полотна технические, ветошь', 'Флаги, вымпелы, прочая флажная продукция', 'Принадлежности для флажной продукции', 'Бланк бухгалтерский', 'Сувениры и награды', 'Уборы головные для взрослых', 'Оборудование и инвентарь для футбола, мини-футбола прочее', 'Визитницы пластиковые', 'Оборудование и инвентарь для баскетбола прочее', 'Канцелярские журналы', 'Бланки (кроме бухгалтерских)', 'Сетки-ворота', 'Ежедневники', 'Мешки, чехлы, пакеты, сумки полимерные', 'Дипломы', 'Одежда специальная для защиты от общих производственных загрязнений и механических воздействий', 'Футболки', 'Ручки канцелярские', 'Стенды, таблички, карманы информационные', 'Бумага для офисной техники белая', 'Календари бумажные', 'Посуда кухонная пластмассовая', 'Стойки волейбольные', 'Системы демонстрационные', 'Экипировка', 'Спортивные мешки', 'Системы контроля доступа', 'Изделия столовые из нержавеющей стали', 'Майки', 'Посуда одноразовая пластмассовая', 'Посуда столовая, кухонная из фарфора', 'Посуда столовая, кухонная из стекла', 'Экипировка для единоборств', 'Сосуды для питья стеклянные', 'Одежда для детей форменная', 'Прочая одежда', 'Экипировка для хоккея', 'Ткани прочие', 'Плакаты', 'Мешки, пакеты, сумки бумажные', 'Одежда для взрослых форменная', 'Порошки чистящие', 'Прочий спортивный инвентарь', 'Кресла офисные', 'Расходные материалы и комплектующие для струйных принтеров и мфу', 'Закладки самоклеящиеся пластиковые', 'Маски медицинские нестерильные одноразовые', 'Столы для переговоров', 'Маркеры', 'Средства чистящие универсального назначения', 'Папки пластиковые', 'Средства чистящие для ванной комнаты/туалета', 'Мыло хозяйственное твердое', 'Комплектующие для кабельных изделий', 'Файлы-вкладыши пластиковые', 'Мыло туалетное жидкое', 'Скобы для степлеров', 'Блоки бумажные для записей', 'Блок оконный пластиковый', 'Карандаши чернографитные', 'Учебные пособия', 'Зажимы для бумаг', 'Клеи канцелярские', 'Инвентарь уборочный пластмассовый', 'ПРЕПАРАТЫ ДЛЯ ЛЕЧЕНИЯ ЗАБОЛЕВАНИЙ СЕРДЦА, C01', 'Скрепки канцелярские', 'Ножницы канцелярские', 'Средства моющие для стекол и зеркал', 'Стеклопакеты', 'Песок строительный', 'Тетрадь ученическая школьная', 'Бумага туалетная', 'Тетрадь ученическая общая', 'Средства дезинфицирующие хозяйственные', 'Закладки самоклеящиеся бумажные', 'Средства корректирующие канцелярские', 'Карандаши цветные', 'Подушки для смачивания пальцев', 'Средства моющие для туалетов и ванных комнат', 'Степлеры (сшиватели)', 'Полотенца бумажные', 'Бахилы медицинские', 'Шапочки медицинские нестерильные', 'Бумага для офисной техники цветная', 'Изделия бумажные гигиенического  назначения', 'Калькуляторы', 'Папки картонные', 'Офисные светильники', 'Точилки для карандашей', 'Емкость для сбора колюще-режущих медицинских отходов', 'Разделители листов пластиковые', 'Вода питьевая', 'Расходные материалы и комплектующие для прочих принтеров и мфу', 'Контейнеры для сбора медицинских отходов', 'Ластики', 'Элементы питания (батарейки)', 'Мыло туалетное твердое', 'Металлоизделия готовые прочие', 'Расшиватели документов', 'Стекло прочее', 'Контейнеры и другие емкости для мусора пластмассовые', 'Клеи', 'Лента клейкая канцелярская', 'Средства отбеливающие для стирки', 'Морковь', 'Столы письменные ', 'Наборы канцелярские пластиковые', 'Сахар белый свекловичный', 'Средства моющие для поверхностей в помещениях', 'Смесители', 'Средства красящие канцелярские', 'Комплексные пищевые добавки', 'АНТИБИОТИКИ И ПРОТИВОМИКРОБНЫЕ СРЕДСТВА ДЛЯ ЛЕЧЕНИЯ ЗАБОЛЕВАНИЙ КОЖИ,D06', 'Лента клейкая упаковочная', 'Книги бухгалтерские', 'Пленка для ламинирования', 'Краски для рисования', 'Коробки, короба, лотки, ящики из бумаги и картона, кроме гофрированного', 'Материалы для лепки и скульптуры', 'Конверты почтовые', 'Огурцы', 'Подставки для канцелярских принадлежностей пластиковые', 'Дыроколы канцелярские', 'Подсолнечное рафинированное масло', 'Средства для дезодорирования и ароматизации воздуха в помещениях', 'Расходные материалы', 'Товары для детского творчества', 'Прочее оборудование систем охраны, обеспечения безопасности', 'Лотки, накопители для бумаг пластиковые', 'Урны для благоустройства территории', 'Рукоятки деревянные для инвентаря', 'Бумага для черчения (ватман)', 'Сливки питьевые', 'Инвентарь для санузлов пластмассовый', 'Ковры, коврики, ковровые покрытия, дорожки, кроме текстильных (тканых) прочие', 'Подушки штемпельные', 'Лотки, накопители для бумаг металлические', 'Стержни для карандашей механических', 'Средства для посудомоечных машин', 'Свекла столовая', 'Швабры, сгоны, скребки, щетки прочие для уборки', 'Лимоны', 'Датеры', 'Средства для мытья посуды', 'Аксессуары для банка и инкассации', 'ПРОТИВОМИКРОБНЫЕ ПРЕПАРАТЫ ДЛЯ СИСТЕМНОГО ИСПОЛЬЗОВАНИЯ,J01', 'Петрушка', 'Линейки', 'Коврики канцелярские', 'Этикетки самоклеящиеся', 'Творог', 'Скрепочницы пластиковые', 'КОРТИКОСТЕРОИДЫ СИСТЕМНОГО ДЕЙСТВИЯ,H02', 'Перчатки резиновые общего назначения (кроме медицинских)', 'Инструменты и аксессуары для живописи и графики', 'Ягоды замороженные', 'Конверт для  CD', 'Кнопки', 'Валики малярные', 'Обложки для переплета пластиковые', 'Ламинаторы', 'Радиотелефон', 'Чеснок', 'ПРЕПАРАТЫ ДЛЯ ЛЕЧЕНИЯ ФУНКЦИОНАЛЬНЫХ РАССТРОЙСТВ ЖКТ,A03', 'АНТИГИСТАМИННЫЕ ПРЕПАРАТЫ СИСТЕМНОГО ДЕЙСТВИЯ,R06', 'Рукава пожарные напорные', 'Тряпки для уборки', 'Электрокофеварки бытовые', 'Тумбы офисные деревянные', 'Расходные материалы для освежителя воздуха', 'Перчатки смотровые/процедурные нитриловые, неопудренные, нестерильные', 'Чайник электрический', 'Регистраторы подвесные', 'Перец (овощи)', 'Салфетки гигиенические влажные', 'Кисти художественные', 'Пластилин для детского творчества', 'Прочие хозяйственные товары', 'Игрушки детские конструкторы', 'Планинги', 'Наборы канцелярские из дерева', 'Оборудование для детских площадок прочее', 'Чай черный (ферментированный)', 'Картофель продовольственный', 'Овощи замороженные', 'ДИУРЕТИКИ, C03', 'Печенье сладкое', 'Фены бытовые', 'Капуста белокочанная', 'ПРЕПАРАТЫ ДЛЯ ЛЕЧЕНИЯ САХАРНОГО ДИАБЕТА,A10', 'Сыры мягкие', 'Средства чистящие для канализационных труб', 'Яйца куриные в скорлупе свежие', 'ДРУГИЕ ПРЕПАРАТЫ ДЛЯ ЛЕЧЕНИЯ ЗАБОЛЕВАНИЙ ОРГАНОВ ДЫХАНИЯ,R07', 'Бумага форматная белая', 'Мука пшеничная', 'Стержни для ручек канцелярских', 'Карандаши механические', 'Набор карандашей цветных восковых (мелки)', 'Стулья ученические  ', 'Грибы тепличные', 'Штукатурки', 'Фурнитура и комплектующие к окнам прочие', 'Дрожжи хлебопекарные сушеные', 'Маска хирургическая, одноразового использования', 'Шпатлевка', 'Унитазы', 'Антисептики кожные', 'Диваны ', 'Губки для маркерных досок', 'Кофе жареный', 'Шило канцелярское', 'Лотки малярные', 'Нити, ленты прошивные', 'Кухонный комбайн', 'Элементы, части запасные для осветительного оборудования и светильников, за исключением ламп и иных осветительных тел', 'Очистители для маркерных досок', 'Противопожарное оборудование', 'Мел для письма на доске', 'Шкафы для одежды деревянные', 'Крупа гречневая', 'АНЕСТЕТИКИ,N01', 'Аксессуары', 'Сушилки для рук', 'Инфракрасные обогреватели', 'Кисти', 'Батареи аккумуляторные никель-металл-гибридные', 'Сетевое и связное оборудование', 'Масло сливочное', 'Халат процедурный, одноразового использования', 'Растворители (разбавители)', 'Фломастеры', 'Порошок стиральный', 'Бумага цветная', 'Инвентарь уборочный металлический', 'ГЕМОСТАТИКИ,B02', 'Ножи канцелярские', 'Ковровые покрытия', 'Кофе растворимый', 'Блендер', 'Многофункциональное устройство (МФУ)', 'Скамьи', 'Говядина замороженная', 'Бумага мелованная для печати', 'Пружины для переплета пластиковые', 'Средства полирующие для мебели', 'Чернила канцелярские', 'Прочий инвентарь для спасательных служб и служб гражданской обороны', 'Термометр электронный', 'Термометры медицинские', 'Инкассаторское оборудование', 'Папки адресные из материала на бумажной основе', 'Перчатки смотровые нитриловые, нестерильные', 'Средства чистящие для текстильных напольных покрытий', 'Консервы овощные готовые к употреблению', 'Томаты', 'Бухгалтерская карточка', 'Прокат арматурный', 'Кремы для рук', 'Зефир', 'Накопители твердотельные встраиваемые', 'Земля, торф, смеси (субстрат и дренаж)', 'Запасные части для охранно-пожарной сигнализации', 'Фрукты, ягоды сушеные', 'Конфеты', 'Картон канцелярский', 'Изделия кулинарные мясные', 'ПСИХОАНАЛЕПТИКИ,N06', 'Переходники', 'ПСИХОТРОПНЫЕ ПРЕПАРАТЫ,N05', 'Сыры полутвердые', 'Сыры твердые', 'Мышь компьютерная', 'Облучатели-рециркуляторы бактерицидные', 'Приборы столовые, кухонные из нержавеющей стали', 'Чай зеленый (неферментированный)', 'Программное обеспечение системное, не вошедшее в другие группировки', 'Коммутатор', 'Принтер', 'Культуры овощные зеленые', 'Бейджи', 'USB-накопители твердотельные (флеш-драйвы)', 'Кулер', 'Настольные и напольные светильники', 'Шредеры', 'Доски информационные', 'Разделители листов картонные', 'Папки для рисования', 'Пылесос', 'Булавки', 'Вода минеральная', 'Пакеты почтовые пластиковые', 'Контейнеры и другие емкости для мусора металлические', 'Учебники печатные общеобразовательного назначения', 'Установки подготовки воды из водозабора', 'Средства чистящие для бытовой техники', 'Болты, шайбы, гайки', 'Часы настенные', 'Соль пищевая', 'Принадлежности для ухода за одеждой и обувью', 'Накопители твердотельные в формате флеш-карты', 'Рис', 'Зеркало', 'Прожекторы со светодиодными лампами', 'ПРЕПАРАТЫ ДЛЯ ЛЕЧЕНИЯ БРОНХИАЛЬНОЙ АСТМЫ,R03', 'АНТИСЕПТИКИ И ДЕЗИНФИЦИРУЮЩИЕ ПРЕПАРАТЫ,D08', 'Колеровочные пасты', 'Клавиатуры', 'Канализационные трубы', 'Укроп', 'Наборы игровые, кроме конструкторов', 'Обложки для переплета картонные', 'Репчатый лук', 'Обувь специальная диэлектрическая из полимерных материалов', 'Арматура электротехническая прочая', 'Сельдерей', 'Шкафы архивные металлические', 'Веб-камера', 'Материалы для живописи и графики', 'Стеллажи архивные металлические ', 'Шпатели', 'Дюбеля', 'Огнетушители', 'Полотенца текстильные', 'Эмали', 'Перчатки из полимерных материалов для защиты от внешних воздействий', 'Части запасные к насосам и компрессорам', 'Батареи аккумуляторные электрические прочие', 'Щетки для уборки', 'Принадлежности гардеробные пластмассовые', 'Майонез', 'Лента строительная адгезивная прочая', 'Фурнитура для инженерно-строительных товаров', 'Инвентарь для санузлов металлический', 'Редис', 'Маргарин', 'Дозатор для мыла/ дезинфицирующих средств', 'Резаки канцелярские', 'Альбомы для рисования', 'Бирки для ключей', 'Кросс-коммутационное и распределительное оборудование средств связи', 'Пиломатериалы профилированные из хвойных пород', 'Оборудование активное сетевое прочее', 'Светильник светодиодный внутреннего освещения', 'Кабель силовой с медной жилой на напряжение до 1 КВт', 'Оборудование для дворовых территорий прочее', 'Апельсины', 'Мука (пудра) миндальная', 'Батареи аккумуляторные свинцово-кислотные', 'АНТИКОАГУЛЯНТЫ,B01', 'Бананы', 'Магниты для досок', 'Фурнитура для сантехнического оборудования', 'Салфетки медицинские', 'Напитки безалкогольные', 'МИНЕРАЛЬНЫЕ ДОБАВКИ,A12', 'Контейнеры для твердых бытовых отходов', 'Смарт-карта Идентификационная', 'Рамки пластиковые', 'Щитки лицевые защитные', 'Микроволновая печь', 'Средства пятновыводящие для стирки', 'Прочее оборудование и инвентарь для санитарного и технического содержания', 'Классные журналы', 'Пленка упаковочная', 'Орехи грецкие', 'Краски на основе акриловых и виниловых полимеров в водной среде', 'Расходные материалы и зип к периферийным устройствам', 'Рамки деревянные', 'Аппараты телефонные', 'Столы обеденные', 'Лаки для дерева', 'Молоко сгущенное', 'Видеокамеры', 'Платки носовые бумажные', 'Секции стульев многоместные', 'Бумага для рисования', 'Юбки', 'Халаты медицинские многоразовые', 'Овощи соленые, квашеные, вяленые', 'Арматура сантехническая прочая', 'Посудомоечная машина', 'Какао-порошок', 'Лабораторные приборы и принадлежности для фронтальных и лабораторно-практических работ', 'Блоки питания для компьютеров', 'Удлинители', 'Яблоки', 'Оптические диски', 'Мониторы типовые', 'Картридж для матричных принтеров', 'Пазлы', 'Кабель прочий', 'Прочие устройства ввода', 'ПРЕПАРАТЫ ДЛЯ ЛЕЧЕНИЯ ЗАБОЛЕВАНИЙ ГЛАЗ,S01', 'Ограждения', 'Жесткие диски для компьютеров', 'Бритвы', 'Фольга упаковочная', 'Крупа пшеничная', 'Средства для стирки белья, кроме порошка стирального', 'ВИТАМИНЫ, A11', 'Аптечки медицинские', 'Принадлежности чертежные', 'Уксус пищевой и его заменители, получаемые из уксусной кислоты', 'Кондиционеры для белья', 'Утюги электрические бытовые', 'Инвентарь садовый пластмассовый', 'Внешние жесткие диски', 'Материалы теплоизоляционные полимерные', 'Вешалки для одежды металлические', 'Крепления и аксессуары для гипсокартона', 'Кувалды', 'Резинки бухгалтерские', 'Перчатки хозяйственные трикотажные', 'Шоколад', 'Посуда одноразовая бумажная', 'Средства чистящие для мебели', 'Проводная гарнитура', 'Шлифмашины', 'Доски магнитно-маркерные', 'Литература учебно-методическая и справочная для обучения', 'БЛОКАТОРЫ КАЛЬЦИЕВЫХ КАНАЛОВ, C08', 'Зеленый лук', 'Пистолеты клеевые электрические', 'Диски точильные, отрезные, шлифовальные', 'Аппараты телефонные ip-телефонии типовые', 'Салфетки дезинфицирующие', 'Светильники нестационарные', 'Груши', 'Колонки', 'Прочие компьютерные комплектующие', 'Филе пресноводной рыбы мороженое (кроме лососевых)', 'Люминесцентные лампы', 'Пирожные длительного хранения', 'Вафли', 'Устройства зарядные для аккумуляторных батареек', 'Средства для укладки волос', 'Калька', 'АНАЛЬГЕТИКИ,N02', 'Осветительная арматура', 'Шкафы картотечные металлические', 'Прочая мелкая бытовая техника', 'Зарядные устройства', 'Расходные материалы для кассовых аппаратов', 'ПЛАЗМОЗАМЕЩАЮЩИЕ И ПЕРФУЗИОННЫЕ РАСТВОРЫ,B05', 'ДРУГИЕ НЕЛЕЧЕБНЫЕ СРЕДСТВА,V07', 'Герметики', 'Чай фруктовый, чай частично ферментированный, чай пуэр, чай мате', 'Филе тресковых рыб мороженое', 'Овсяные хлопья', 'Пасты зубные', 'ПРЕПАРАТЫ ДЛЯ ЛЕЧЕНИЯ РАН И ЯЗВ,D03', 'Брюки для взрослых', 'Макароны, лапша и аналогичные мучные изделия', 'Соки', 'Флипчарты', 'ПРОТИВОДИАРЕЙНЫЕ, КИШЕЧНЫЕ ПРОТИВОВОСПАЛИТЕЛЬНЫЕ И ПРОТИВОМИКРОБНЫЕ ПРЕПАРАТЫ,A07', 'Грунтовки', 'Папки для черчения', 'Средства для мытья волос', 'Крекеры', 'Плоды ореховых культур обработанные, паста ореховая', 'Концентраторы USB', 'Источники бесперебойного питания', 'Микрофоны для компьютерной техники', 'Маршрутизатор', 'Смазки пластичные', 'Аппараты сварочные для ручной и дуговой сварки', 'Горох, консервированный без уксуса или уксусной кислоты (кроме готовых блюд из овощей)', 'Средства для бритья, дезодоранты и антиперспиранты, средства для ванн', 'Плоскогубцы', 'Столы ученические', 'Соусы соевые', 'Футболки для детей', 'Оборудование и инвентарь для  стрелковых видов спорта прочее', 'Инвентарь садовый металлический', 'Средства дезинфицирующие универсальные', 'Фурнитура для мебели деревянная, пластиковая', 'Подставки для оргтехники', 'Киви', 'Крупа манная', 'Изделия упаковочные пластмассовые прочие', 'Лента обвязочная упаковочная', 'Мясо сельскохозяйственной птицы замороженное, в том числе для детского питания', 'Пескобетон', 'Переплетные машины', 'Глобусы', 'Салфетки косметические бумажные', 'Принадлежности для косметических процедур', 'Смеси асфальтобетонные', 'Материалы противогололедные фрикционные', 'Термопоты бытовые', 'Орехи фисташковые', 'Замки', 'Ножи строительные', 'Программное обеспечение специализированное для защиты информации', 'Изделия колбасные варено-копченые мясные', 'Капуста пекинская (китайская)', 'Комплектующие устройств ввода-вывода', 'Перчатки смотровые латексные, нестерильные', 'Соки фруктовые для детского питания для раздачи через молочно-раздаточные пункты', 'Изделия шоколадные', 'Зарядные устройства для аккумуляторов', 'Полимерные строительные материалы', 'Молоко питьевое', 'Обложки школьные', 'Крупа перловая', 'Расходные материалы и комплектующие для принтеров, печатающих не на бумаге', 'Щетки зубные, щетки для ухода за внешностью', 'Горчица готовая', 'Шуруповерты', 'Пасты томатные', 'Карамель', 'Стенды информационные', 'Скоростные поисковые приемники-корреляторы', 'Брошюраторы (кроме брошюраторов полиграфических)', 'Кетчупы', 'Мармелад', 'Диспенсеры для закладок, бумаг, клейкой ленты', 'Сухари панировочные', 'Нити для чистки зубов, зубочистки', 'Леденцы', 'Домофоны', 'Реагенты противогололедные твердые', 'Проекторы', 'Винты, шурупы', 'Пастила', 'ПРОТИВОВИРУСНЫЕ ПРЕПАРАТЫ ДЛЯ СИСТЕМНОГО ИСПОЛЬЗОВАНИЯ,J05', 'Наборы слесарные', 'Кофейный напиток растворимый', 'Фотобумага', 'Торговое оборудование и мебель', 'Изделия кухонные из нержавеющей стали', 'Подставки для канцелярских принадлежностей металлические', 'Полки навесные', 'Стулья на металлическом каркасе', 'Столовая тыква', 'Капуста морская, кроме консервов', 'Чай в наборах', 'Цифровые фотоаппараты', 'Изделия бараночные', 'Структурные строительные материалы', 'Одежда специальная для защиты от искр и брызг расплавленного металла', 'Ручки для валиков', 'Бумага для плоттеров и копировальных работ', 'ПРЕПАРАТЫ ДЛЯ ЛЕЧЕНИЯ ЗАБОЛЕВАНИЙ, СВЯЗАННЫХ С НАРУШЕНИЕМ КИСЛОТНОСТИ,A02', 'Устройства и приспособления для упаковки', 'Хладоэлементы', 'Стеллажи для хранения бутилированной воды', 'Сахар коричневый тростниковый', 'Масла моторные', 'Комплектующие для потолков прочие', 'Холодильники бытовые', 'Скатерти текстильные', 'ПРЕПАРАТЫ ДЛЯ ЛЕЧЕНИЯ ЗАБОЛЕВАНИЙ УХА,S02', 'Телевизоры', 'Крахмал', 'Средства защиты ног, кроме обуви специальной', 'Столы компьютерные', 'Доски комбинированные магнитно-меловые', 'Шкафы для документов деревянные', 'Рукавицы для защиты от внешних воздействий', 'Розетки штепсельные бытового назначения', 'Ножовки (пилы)', 'Пиломатериалы непрофилированные из хвойных пород', 'Расходные материалы, комплектующие для бытовой техники для стирки и обработки белья', 'Цемент строительный', 'Оливковое масло', 'Уплотняющие материалы', 'Лампы накаливания', 'Замки навесные', 'Мед', 'Драже', 'Гвоздодер', 'Сумки повседневные', 'Пряности обработанные прочие', 'Контроллеры двухпроводной линии связи', 'Информационные конструкции и оборудование', 'Мольберты ', 'Баклажаны', 'Шкафы хозяйственные металлические', 'Ваниль обработанная', 'Сценическая одежда', 'АНТИАНЕМИЧЕСКИЕ ПРЕПАРАТЫ,B03', 'Лампы бактерицидные', 'Пылесборник', 'Одежда специальная для защиты от воды', 'Комплектующие', 'Принадлежности для очистки оргтехники', 'Машины стиральные бытовые', 'Выключатели автоматические (автоматы), устройства защитные и коммутации электрические', 'Перец обработанный', 'Метизы, крепежные изделия', 'Одежда специальная повышенной видимости', 'Кексы', 'ПРЕПАРАТЫ ДЛЯ ЛЕЧЕНИЯ ЗАБОЛЕВАНИЙ ГОРЛА,R02', 'Энергосберегающие лампы', 'Инвентарь кухонный деревянный', 'Души', 'Оборудование, инвентарь и инструменты для ухода за растениями', 'Консервы фруктовые и ягодные', 'Стремянки', 'Коробки, короба из гофрированного картона', 'Наборы канцелярские из металла', 'Мячи волейбольные ', 'Гели для ухода за кожей лица', 'Ракетки', 'Медицинские карты', 'Детали трубопроводов из полиэтилена', 'ПРЕПАРАТЫ, ПРИМЕНЯЕМЫЕ ПРИ КАШЛЕ И ПРОСТУДНЫХ ЗАБОЛЕВАНИЯХ,R05', 'Электроды сварочные с покрытием', 'Прочие галантерейные товары', 'Хлебцы хрустящие', 'Спортивные насосы', 'Наушники', 'Панели стеновые прочие', 'Прочие товары для детей (кроме одежды)', 'Декоративные изделия для благоустройства территории', 'Системы видеоконтроля и видеонаблюдения', 'Модуль памяти', 'Рюкзаки туристические', 'Система хранения данных', 'Изделия хозяйственного назначения деревянные', 'Изделия кухонные из эмалированной стали', 'Шкафы для книг деревянные', 'Оперативная память для конференц и конгресс-систем', 'Средства дезинсекционные', 'Изделия медицинского назначения для сбора, термической обработки медицинских отходов', 'Дверные доводчики', 'Салфетки', 'Фартуки кухонные', 'Железобетонные изделия', 'Иглы для прошивки документов', 'СТОМАТОЛОГИЧЕСКИЕ ПРЕПАРАТЫ,A01', 'Сиропы', 'Бумага пищевая кухонная', 'Сканеры', 'Data-кабели', 'Пуфы', 'Бумага миллиметровая (масштабно-координатная) и логарифмическая', 'Ножницы по металлу', 'Скрабы для рук', 'Сметана', 'Ковры', 'Средства технические организации дорожного движения, кроме светофоров', 'Ручной садовый инструмент', 'Весы', 'Изделия булочные', 'Рулеты бисквитные', 'Орехи кешью', 'Аксессуары для кофеварок и кофемашин', 'Почвогрунт искусственный многокомпонентный заводского изготовления', 'Ножницы портновские', 'Самоспасатели', 'Энергетическое оборудование', 'Автомойки', 'Рулетка лазерная', 'Наборы режущих и абразивных материалов и инструментов', 'Шкафы для одежды металлические', 'Отрезы марлевые медицинские нестерильные', 'Ноутбук', 'Кронштейны и иные устройства для крепления бытовой техники к стенам', 'Экраны для проекторов', 'Прочие трубы и детали трубопроводов', 'Виноград', 'Лосьоны для ухода за кожей лица', 'Перфораторы', 'Реагенты для экологических исследований', 'Аксессуары для утюга', 'Жидкости технологические прочие', 'Сверла спиральные', 'Принадлежности для шитья и рукоделия металлические', 'Смеси белковые композитные', 'Сейфы', 'Технические средства освещения', 'Подушки', 'Костюмы защитные легкие для защиты от радиационной пыли, химических и бактериологических воздействий', 'Мясорубка', 'Средства защиты противошумные', 'Запчасти для автотранспорта', 'Средства индивидуальной защиты органов дыхания', 'Ящики инструментальные', 'Крафт-бумага', 'Палочки крабовые (имитация)', 'Инструмент мерительный ручной прочий', 'Игрушки прочие', 'Пряники', 'Вешалки для одежды деревянные', 'Трубы напорные из термопластов', 'Отвертки, наборы отверток', 'Почтовые ящики', 'ПРЕПАРАТЫ, ВЛИЯЮЩИЕ НА СИСТЕМУ РЕНИН-АНГИОТЕНЗИН, C09', 'ПРОТИВОЭПИЛЕПТИЧЕСКИЕ ПРЕПАРАТЫ,N03', 'Мультиметр', 'Терки для измельчения продуктов', 'Мячи футбольные', 'Ключницы', 'Оборудование для перевозки грузов', 'Мюсли', 'Автоматические выключатели', 'Джемы', 'Расходные материалы для терапевтической стоматологии', 'Масличные семена и маслосодержащие плоды', 'Покрытия защитные для пола прочие', 'Средства для обработки воды в бассейнах', 'Патроны защитные универсальные (пзу)', 'Табуреты  ', 'Уборы головные зимние', 'Стеллажи деревянные', 'Расходные материалы и комплектующие для кино- и видеотехники, фотографического оборудования', 'Портативная акустика', 'Насадки к валику', 'Картридж для лазерного факсимильного аппарата', 'Покрытия противоскользящие', 'Жевательная резинка', 'Блоки дверные прочие', 'Нитки швейные синтетические', 'Одеяла', 'Каски защитные', 'Товары для моделирования', 'Плитки керамические', 'Перчатки трикотажные для защиты от внешних воздействий', 'Приборы нагревательные для укладки и завивки волос', 'Свинина замороженная', 'Неповоротные колесные опоры', 'Столы журнальные', 'Обложки для термопереплета', 'Термометры для контроля «холодовой цепи»', 'Кабели сетевые с медными проводниками', 'Лук-порей', 'Инструмент мерительный электронный, оптический и электронно-оптический прочий', 'Вспомогательные материалы для стоматологии', 'Изделия колбасные вареные, в том числе фаршированные мясосодержащие', 'Лист лавровый сушеный', 'Радиаторы', 'Тренажер для ног', 'Газовые ключи', 'Покрывала  ', 'Конфитюры', 'Консервы из мяса и субпродуктов птиц', 'Термосы', 'Мясо сельскохозяйственной птицы охлажденное', 'Смеси из сухофруктов и орехов', 'Горох', 'Удобрения для цветов и других декоративных растений', 'Очистители и увлажнители воздуха', 'Реквизит для театральных постановок', 'Усилительно-акустические устройства', 'Культуры овощные салатные', 'Смеси сушеных фруктов (сухой компот)', 'Наборы инструментов', 'Расходные материалы, комплектующие для прочего бытового оборудования', 'Обувь повседневная с верхом из кожи', 'Радиодетали и электронные компоненты ', 'Прочие расходные материалы для культуры и искусства', 'Кресла бескаркасные', 'Топы для тумб офисных', 'Кресла для конференц залов', 'Пружины для переплета металлические', 'Комплекты белья постельного', 'Лента красящая', 'Кабель каналы', 'Салфетка марлевая тканая, стерильная', 'Ведра пожарные', 'Тормозные системы', 'Гидравлические домкраты', 'Молочко для ухода за кожей лица', 'Инструмент ручной строительный прочий', 'Консервы мясные', 'Кирпич', 'Ключи трещоточные', 'Приемо-передающие носимые радиостанции', 'ПРЕПАРАТЫ ДЛЯ ЛЕЧЕНИЯ ЗУДА (ВКЛЮЧАЯ АНТИГИСТАМИННЫЕ ПРЕПАРАТЫ И АНЕСТЕТИКИ,D04', 'ДРУГИЕ ПРЕПАРАТЫ ДЛЯ ЛЕЧЕНИЯ ЗАБОЛЕВАНИЙ НЕРВНОЙ СИСТЕМЫ,N07', 'Изделия сухарные', 'Тренажеры для спасателей', 'Средства для гигиены полости рта прочие', 'Смеси для полов', 'Средства для ухода за телом', 'Обувь летняя с верхом из кожи', 'Оборудования и инвентарь для шахмат прочее', 'Наволочки из хлопчатобумажных тканей', 'Капуста цветная', 'Пакеты почтовые бумажные', 'Трубы профильные стальные', 'Фильтр для пылесоса', 'Фиточай', 'ПРОТИВОВОСПАЛИТЕЛЬНЫЕ И ПРОТИВОРЕВМАТИЧЕСКИЕ ПРЕПАРАТЫ,M01', 'Фурнитура для мебели металлическая', 'Машинки для стрижки волос', 'Автомобильная косметика', 'Картридеры', 'Сканеры считывания штрих-кода', 'Принтеры специализированные', 'Лаймы', 'Расходные материалы для учебного оборудования', 'Средства для индивидуальной защиты кожи', 'Лобзики электрические', 'Краны шаровые', 'Сетевое оборудование широкополосного беспроводного доступа', 'Краски масляные', 'Морозильник', 'Инструмент ручной столярный и слесарный прочий', 'Программное обеспечение прикладное для автоматизированных рабочих мест (кроме заказного)', 'Гвозди', 'Стулья детские для дошкольных учреждений', 'Запасные части к видеопроекторам для кинотеатров', 'Очки защитные', 'Электроудлинители и переходники', 'Имбирь', 'Гарнитуры (наушники с микрофоном)', 'Изделия кухонные из алюминия', 'Индикаторы для предстерилизационной очистки', 'Кабачки', 'Комплектующие для мобильных устройств', 'Аксессуары для мобильных устройств', 'Субпродукты птицы замороженные', 'Галогенные лампы, прочие', 'Средства защиты растений', 'Субпродукты говяжьи замороженные', 'Метлы для уборки', 'Миксер', 'Контейнеры пластмассовые', 'Комплекты судейские', 'Халаты', 'МИОРЕЛАКСАНТЫ,M03', 'Фонари', 'Противогазы', 'Очки защитные медицинские', 'Комплексы многофункциональные учебные прочие', 'Ирис', 'АНТИГИПЕРТЕНЗИВНЫЕ СРЕДСТВА, C02', 'Диспенсеры для дезинфекционных средств', 'Бинты марлевые медицинские', 'Уровень', 'Рыба морская мороженая (кроме трескообразных)', 'Одежда специальная для защиты от пониженных температур', 'Основы для картин', 'Шкафы медицинские', 'Игрушки детские головоломки', 'Панели ПВХ и МДФ', 'Штангенциркуль', 'Сыры рассольные', 'Бумага упаковочная', 'СЛАБИТЕЛЬНЫЕ,A06', 'Насосы циркуляторные', 'Шкафы для учебных пособий', 'Сельдь соленая', 'Банкетки', 'Рамки металлические', 'Мебель для кухни', 'Респираторы', 'Наборы для шитья', 'Видеокарты', 'Стеллажи складские металлические', 'ПЕРИФЕРИЧЕСКИЕ ВАЗОДИЛАТАТОРЫ, C04', 'Защитные пленки', 'Топоры', 'Мастики гидроизоляционные', 'Бордюр', 'Композиции из срезанных цветов', 'Инвентарь для гимнастики', 'ИММУНОМОДУЛЯТОРЫ,L03', 'Металлопрокат из черных металлов, кроме рельсов прочий', 'Прочие автоаксессуары', 'Муссы, пенки для ухода за кожей лица', 'Контрольные материалы для проведения внутрилабораторного контроля качества', 'Блоки питания', 'Кремы для ухода за кожей лица', 'Молотки', 'Товары для вязания', 'Ракетки для настольного тенниса', 'Пакет офисных программ', 'Чехлы', 'Расходные материалы и комплектующие для освещения', 'Стеклообои', 'Аксессуары для спорта', 'Оборудование', 'Материалы противогололедные комбинированные', 'Креветки мороженые', 'Кровати бытового назначения', 'ПРЕПАРАТЫ, СПОСОБСТВУЮЩИЕ ПИЩЕВАРЕНИЮ (ВКЛЮЧАЯ ФЕРМЕНТНЫЕ ПРЕПАРАТЫ),A09', 'Обувь осенне-весенняя с верхом из кожи', 'Рабочие органы сменные прочие (оснастка для инструментов)', 'Приправы и пряности смешанные', 'Брифинг-приставки', 'Нектары из фруктов и(или) овощей', 'Арахис свежий', 'Рукавицы хозяйственные брезентовые, трикотажные', 'Кефир', 'Прокат полосовой (полоса)', 'БЕТА-АДРЕНОБЛОКАТОРЫ, C07', 'Масляные обогреватели', 'Доски магнитно-маркерные стеклянные', 'Простыни из хлопчатобумажных тканей', 'Галогенные лампы (зеркальные)', 'Гимнастические снаряды', 'Расходные материалы для перфораторов', 'Шприц общего назначения', 'Обувь с верхом из текстильных материалов', 'Хлеб недлительного хранения', 'Ключи гаечные разводные', 'Овощные соусы', 'Тетрадь различного назначения', 'Ножевая продукция бытовая', 'Музыкальные микрофоны', 'Ручные гигрометры', 'Методическая литература', 'Биты для шуруповертов', 'Материалы изоляционные рулонные', 'Икра овощная', 'Пододеяльник', 'Лаки прочие', 'Нарукавники, наплечники для защиты рук', 'Изделия декоративные из прочих материалов', 'Термометр жидкостный стеклянный технический', 'Матрацы', 'Фармацевтические субстанции и вспомогательные вещества, используемые для аптечного изготовления лекарственных препаратов', 'Одежда специальная для защиты от термических рисков электрической дуги', 'Чипсы картофельные', 'Завтраки готовые', 'Линолеумы', 'Вентиляторы для компьютеров', 'Универсальные внешние аккумуляторы', 'Провод прочий', 'Краски (эмали) для дорожной разметки', 'Соки для детского питания фруктовые', 'Буры', 'Спортивные секундомеры электронные', 'Отпариватели', 'Затирки', 'Дрожжи хлебопекарные прессованные', 'Холодильное оборудование', 'Обувь форменная для взрослых', 'Материалы из полимеров и пластмасс для товаров культуры и искусства', 'Медиаплееры', 'Жидкость для омывателей стекла', 'Оптический привод', 'Мандарины', 'Расходные материалы для строительных инструментов', 'Измерительное оборудование', 'Ленты теплоизоляционные', 'Музыкальные центры', 'Покрытия антикоррозионные прочие', 'Ананасы', 'Изделия для оказания индивидуальной первой помощи', 'Сапоги резиновые формовые', 'Батареи аккумуляторные литий-ионные', 'Видеокамеры для систем охраны', 'Мобильный телефон', 'Стулья медицинские', 'Прокат листовой горячекатаный', 'НАЗАЛЬНЫЕ ПРЕПАРАТЫ,R01', 'Халва', 'Оборудование и инвентарь для большого тенниса прочее', 'Щиты пожарные', 'Термоиндикаторы для контроля температурного режима', 'Контроллеры', 'Коврики', 'Электропаяльники', 'Раковины', 'Одежда специальная для защиты от повышенных температур', 'Терминалы сбора данных', 'Насадка для пылесоса', 'Пасты шоколадные', 'Средства для макияжа', 'Стулья на деревянном каркасе', 'Трубы кабельные', 'Трубы металлопластиковые', 'Предметы личной гигиены', 'Гель контактный, нестерильный', 'Подложки', 'Стамески', 'Защелки', 'Орехи лещины (фундук)', 'Системный блок', 'Фурнитура для окон металлическая', 'Бетон', 'Средства для обработки корневых каналов эндодонтические', 'Воланы', 'Марки почтовые (в том числе коллекционные)', 'Расходные материалы для автотранспорта', 'Весы кухонные', 'Напильники', 'Заклепочники ручные', 'Этиловый спирт ивд, реагент', 'Обувь специальная кожаная для защиты от механических воздействий', 'Мониторы, подключаемые к компьютеру', 'Субпродукты свиные замороженные', 'Тесто замороженное', 'Ревизионные люки ', 'Личинки для замков', 'Сахар белый тростниковый', 'Расходные материалы и комплектующие для устройств копировально-множительных', 'Коврик для пола антибактериальный', 'Полезные мелочи', 'Запчасти для снегоуборочных машин', 'Средства индивидуальной защиты от падения с высоты (страховочная привязь)', 'Поликарбонат', 'Плиты электрические бытовые', 'Кроссовки', 'Салфетка для очищения кожи, нестерильная', 'Плиткорезы', 'Трансформаторы, инвертеры сварочные', 'Принтер 3D FDM', 'Средства для ухода за волосами', 'Расходные материалы для ортопедической стоматологии', 'Перчатки смотровые/процедурные из латекса гевеи, опудренные', 'Кусачки', 'Овощи маринованные', 'Кассовые аппараты', 'Термофены', 'ПРОЧИЕ ПРЕПАРАТЫ ДЛЯ ЛЕЧЕНИЯ ЗАБОЛЕВАНИЙ КОЖИ,D11', 'Семена газонных трав', 'КОРТИКОСТЕРОИДЫ ДЛЯ МЕСТНОГО ЛЕЧЕНИЯ ЗАБОЛЕВАНИЙ КОЖИ,D07', 'Прочее каналообразующее оборудование', 'Столы детские для дошкольных учреждений', 'АНГИОПРОТЕКТОРЫ, C05', 'Бумага абразивная', 'Конвекторы', 'Материнские платы для компьютеров', 'ДРУГИЕ ПРЕПАРАТЫ ДЛЯ ЛЕЧЕНИЯ ЗАБОЛЕВАНИЙ ЖКТ И НАРУШЕНИЙ ОБМЕНА ВЕЩЕСТВ,A16', 'Смеси специального назначения', 'Изделия для мощения клинкерные', 'Одежда специальная для защиты от неблагоприятных погодных условий', 'Щетки стальные', 'Игрушки спортивные', 'Средства дезинфицирующие для поверхностей', 'Приводы', 'Прочие системы и средства связи', 'Оборудование для уроков труда', 'Расходные материалы для пил', 'Оборудование для гимнастики', 'Шкафы для тубусов и ключей металлические', 'Измерители ад', 'Пеленки медицинские впитывающие', 'Киянки', 'Фанера общего назначения', 'Ручки дверные', 'Лейкопластырь для поверхностных ран, антибактериальный', 'Канаты, шнуры, тросы', 'Сыры плавленые', 'Приборы учета тепловой энергии', 'Запорно-регулирующая арматура', 'Компьютеры планшетные  ', 'Пробирка вакуумная для взятия образцов крови ивд, с активатором свертывания и разделительным гелем', 'Метадон ивд, набор, иммунохроматографический анализ, экспресс-анализ', 'Мячи баскетбольные ', 'Оборудование и инвентарь для дартса прочее', 'Клещи', 'Рыба тресковая мороженая', 'Фотоаппараты', 'Скрабы, пилинги для ухода за кожей лица', 'Парты для образовательных организаций', 'Фрезы', 'Смартфоны', 'Перчатки смотровые/процедурные из латекса гевеи, неопудренные, нестерильные', 'Коврики медицинские', 'Снаряжение альпинистское прочее', 'Блоки дверные стальные', 'Горох шлифованный сушенный', 'Аппарат электронный для измерения артериального давления автоматический, портативный, с манжетой на плечо/запястье', 'Костюмы медицинские многоразовые', 'Щеколды', 'Смеси последующие молочные для детей раннего возраста для раздачи через молочно-раздаточные пункты', 'Рыба лососевая мороженая', 'Картридж для струйного факсимильного аппарата', 'Дрели ручные электрические', 'ПРОТИВОПАРКИНСОНИЧЕСКИЕ ПРЕПАРАТЫ,N04', 'Сейфы прочие', 'Посуда столовая, кухонная из керамики', 'Рассада цветов', 'Умывальники', 'Экспресс-тесты для бесприборной диагностики', 'Рыба морская соленая и пряного посола', 'Ламинаты', 'Комплектующие для сетей и систем связи прочие', 'Дротики', 'Инструменты для скульптуры или резьбы', 'Средства для дезинфекции и очистки медицинских изделий', 'Системы операционные', 'Насосы дренажные', 'Лейкопластыри фиксирующие медицинские', 'Термометры бытовые жидкостные', 'Процессоры', 'Йогурты', 'Нитки швейные хлопчатобумажные', 'Сыры творожные', 'Прочее серверное оборудование', 'Пожарные извещатели', 'Консервы рыбные с добавлением масла', 'Наборы для определения групп крови', 'Столы приставные', 'Графические станции для дизайна и 3d моделирования', 'Орехи кедровые', 'Мячи для фитнеса (фитболы)', 'Малина ', 'Ширма медицинская', 'Принадлежности для рукоделия деревянные', 'Смеси для маловесных и недоношенных детей для раздачи через молочно-раздаточные пункты', 'Средства индивидуальной защиты', 'Инвентарь для йоги', 'Оснастка к садовой технике', 'Холодильники для хранения компонентов крови', 'Специальное снаряжение для спасательных служб и служб гражданской обороны', 'Инструмент электрический и моторизованный прочий', 'Запчасти к погрузчикам', 'Прочие инструменты и инструментальное оборудование', 'Системы пожаротушения', 'Мебель садовая и лесная', 'Обувь с защитным металлическим подноском', 'Крупа пшено', 'Стволы пожарные воздушно-пенные', 'Столики медицинские', 'ПРЕПАРАТЫ ДЛЯ ЛЕЧЕНИЯ УРОЛОГИЧЕСКИХ ЗАБОЛЕВАНИЙ,G04', 'Шпатели медицинские', 'Шпатели вспомогательные и общебольничные', 'Газонокосилки', 'Пилы для обработки дерева', 'Термоконтейнеры медицинские', 'Говядина охлажденная', 'Лабораторное оборудование', 'Ограждения инвентарные', 'Индикатор для контроля эффективности очистки медицинских инструментов', 'Каналы и линии связи', 'Принадлежности для шитья и рукоделия пластмассовые', 'Холодильники медицинские', 'Сценический головной убор', 'Арматура крепежная металлическая для мебели', 'Предохранители', 'Перчатки смотровые виниловые, нестерильные', 'Плиты тротуарные бетонные', 'Водяные насосы', 'Струбцины', 'Сетка волейбольная', 'Инвентарь для велоспорта', 'Бумажные обои', 'Охлаждающая жидкость для систем кондиционирования', 'Индикаторные полоски дезинфицирующим средствам универсальным', 'Приборы учета холодной воды', 'Считыватели', 'Консервы рыбные натуральные', 'Щиты или шкафы', 'Стетоскопы', 'Клюква', 'Сучкорезы', 'Пульты микшерные аналоговые', 'Комплекты конференц и конгресс-систем', 'Изделия колбасные сырокопченые мясные', 'ГОМЕОПАТИЧЕСКИЕ СРЕДСТВА', 'Ширмы медицинские прочие', 'Геодезические приборы', 'Дозиметры', 'Ланцет для ручного прокалывания, одноразового использования', 'Электроизоляционные материалы', 'Замки для охраны и обеспечения безопасности', 'Стулья пластиковые', 'Термобумага, диаграммная бумага и термоленты для экг', 'Часы настольные и каминные', 'Аппараты сварочные прочие', 'Набор автомобилиста', 'Цифровые учебные лаборатории для проведения экспериментов', 'Запасные части для системы видеонаблюдения', 'Кальмары мороженые', 'Игрушки детские сортеры', 'Презервативы для ультразвукового исследования (узи)', 'Орехи миндаля сладкого', 'Лекарственные средства для животных', 'Расходные материалы, комплектующие для кухонного оборудования', 'Мыло жидкое для дезинфекции', 'Консервы фруктовые для детского питания для раздачи через молочно-раздаточные пункты', 'Писсуары', 'Щетки или скребки', 'Инструменты', 'Шапки зимние для взрослых', 'Промывки и промывочное масло', 'Лоток общего назначения, многоразового использования', 'Щиты распределительные', 'Аппараты импульсной ультрафиолетовой дезинфекции воздуха', 'Средства для окраски/химической завивки волос', 'Битум нефтяной изоляционный', 'Перчатки смотровые латексные, стерильные', 'Мячи для настольного тенниса', 'Расходные материалы для спецсредств для спасательных служб и служб гражданской обороны', 'ПРЕПАРАТЫ ДЛЯ НАРУЖНОГО ПРИМЕНЕНИЯ ПРИ БОЛЕВОМ СИНДРОМЕ ПРИ ЗАБОЛЕВАНИЯХ КОСТНО-МЫШЕЧНОЙ СИСТЕМЫ,M02', 'Укладки и наборы медицинские', 'Петли дверные', 'Средство дезинфицирующее для медицинских инструментов на основе щелочи', 'Каска строительная', 'Зонды урогенитальные', 'Весы медицинские', 'Коньки для фигурного катания', 'Наматрасники ', 'Лампы щелевые', 'Реагенты и расходные материалы для анализаторов \"micros es 60\"', 'Программно-технологические комплексы для автоматизации научных исследований', 'Оборудование велопарковок', 'Игрушки развивающие', 'Сетка хоккейная', 'Цепи для электро- и бензопил', 'Прочая автохимия', 'Множественные наркотики ивд, набор, иммунохроматографический анализ, экспресс-анализ', 'Чай холодный', 'Литература учебная для высшего и среднего профессионального образования', 'Мочеприемник со сливным краном без крепления к пациенту, стерильный', 'Рассасывающиеся стерильные гемостатические губки на основе лошадиных коллагеновых волокон', 'Уголки стальные горячекатаные из нелегированных сталей  ', 'Оборудование для водоснабжения, сточных вод и канализации прочее', 'Средство гемостатическое на основе коллагена', 'Электрорубанки', 'Шпатель зубчатый', 'Тележки медицинские', 'Игла для забора крови, стандартная', 'Лом', 'Изделия кухонные из чугуна', 'Кольца баскетбольные', 'Моноблоки', 'Грейпфруты', 'Флизелиновые обои', 'Рулетки медицинские', 'Шприц общего назначения, одноразового использования', 'Расходные материалы к измерителям концентрации глюкозы в крови \"акку-чек\" (\"accu-chek\"), производства \"рош диабетс кеа гмбх\"', 'Штативы и стойки концертных и театральных залов', 'Инструмент ручной прочий', 'Приборы учета электроэнергии', 'Комбинированный пожарный инвентарь', 'Кухонные мойки', 'Спортивные площадки', 'Оборудование для спортивных площадок', 'Повязки раневые', 'Сигнализации и сигнальное оборудование', 'Специальная экипировка, кроме спецодежды', 'Автоаптечки', 'Кусторезы', 'Пожарные щиты', 'Определение группы крови системы аво ивд, набор, реакция агглютинации', 'Десерты творожные', 'Пипетки для офтальмологии', 'Лейкопластыри-повязки гипоалергенные, рулонные, эластичные', 'Датчики', 'Сыворотки для ухода за кожей лица', 'Щебень из плотных горных пород', 'Фильтры для систем кондиционирования', 'Жидкости охлаждающие, включая антифризы', 'Привод', 'Готовые среды для микробиологических исследований', 'Элементы душевых кабин', 'Устройства защитного отключения', 'Короба вентиляционные', 'Пробирка для сбора образцов крови не вакуумная ивд, с k2edta', 'Приемно-контрольные приборы', 'Жгут на верхнюю/нижнюю конечность, многоразового использования', 'Пианино цифровые', 'Лейкопластырь стандартный', 'Линь спасательный', 'Рулетка', 'Ласты', 'Наборы стерильные для обработки ран', 'Проволока сварочная', 'Жгуты для взятия венозной крови', 'Стерилизаторы паровые', 'Зеркала гинекологические', 'Мочеприемники', 'Комбинезоны для спасательных служб и служб гражданской обороны', 'Кровати детские', 'Пледы', 'Оборудование и инвентарь для скалолазания прочее', 'Дополнительное лифтовое оборудование', 'Одежда специальная защитная пожарного от повышенных тепловых воздействий (сзо птв)', 'Смесь бетонная товарная', 'Вата медицинская гигроскопическая', 'Наборы инструментов хирургических', 'Расходные материалы для глюкометров', 'Виброплиты', 'Элементы систем отопления', 'Динамометр ручной, без электропитания', 'Очистители', 'Короба кабельные', 'Снегоотбрасыватели малогабаритные', 'Средства для удаления ржавчины и антикоррозийные средства', 'Веревки альпинистские', 'Инвентарь', 'Игрушки детские модели транспортного средства', 'Аксессуары для кровли или водостока', 'Электродвигатель', 'Сетка для настольного тенниса', 'Игла инъекционная, одноразового использования, стерильная', 'Щебень из отсевов дробления', 'Медицинское белье', 'Бинты фиксирующие эластичные', 'Тиски', 'АНТИСЕПТИКИ И ПРОТИВОМИКРОБНЫЕ ПРЕПАРАТЫ ДЛЯ ЛЕЧЕНИЯ ГИНЕКОЛОГИЧЕСКИХ ЗАБОЛЕВАНИЙ,G01', 'Органические соединения для лабораторной диагностики', 'Песок кварцевый', 'Диски для пил циркулярных', 'Квасы', 'Воздушные фильтры', 'Торты длительного хранения', 'Гематоксилин раствор ивд', 'Элементы лестниц', 'Катетеры фолея двухходовые из латекса с силиконовым покрытием, тип стандартные', 'Наборы реактивов', 'Шкафы для одежды детские', 'Климатическое медицинское оборудование', 'Масляные фильтры', 'Пробирка вакуумная для взятия образцов крови ивд, с k3эдта и натрия фторид', 'Мебель для обеспечения учебного процесса, закупаемая в рамках проекта «техносфера современной школы»', 'Прочие приборы учета', 'Комнатные растения', 'Замки и фурнитура', 'Мидии и гребешки', 'Будо-маты', 'Индикатор химический/физический для контроля стерилизации', 'Спирографы', 'Материалы для взятия и исследования капиллярной крови', 'Наборы слесарно-монтажного инструмента для комплектации и технического обслуживания автомобилей, тракторов и прочих машин', 'Аппараты искусственной вентиляции легких', 'Ртутные лампы', 'Икра зернистая лососевых рыб', 'Шины пневматические для грузовых автомобилей', 'Запасные части для инструментов для спасательных служб и служб гражданской обороны', 'Уголки стальные горячекатаные из легированных сталей  ', 'Тоники для ухода за кожей лица', 'Комплекс тренажерный многофункциональный', 'Провода на номинальное напряжение до 450/750 В переменного или 1000 В постоянного тока', 'Застежки-молнии ', 'Книги учета универсальные', 'Поворотные колесные опоры', 'Устройства для ручного искусственного дыхания', 'Обручи гимнастические', 'Облучатели бактерицидные', 'Блюда обеденные первые готовые', 'Анализаторы окиси углерода в выдыхаемом воздухе', 'Пожарные рукавные разветвления', 'Инструменты ручные аварийно-спасательные', 'Стусло', 'Приборы учета горячей воды', 'Оборудование и инвентарь для флорбола прочее', 'Воздушные компрессоры', 'Воздуходувы', 'Зажимы пупочные для новорожденных', 'Составные и заменяемые части, принадлежности и комплектующие для установок обеззараживания и очистки воздуха', 'Погремушки', 'Тренировочные снаряды', 'Обувь зимняя с верхом из кожи', 'Мундштуки для оборудования', 'Кружки эсмарха и принадлежности к ним', 'Системы инфузионные и принадлежности для волюметрического насоса ', 'Паяльники прочие', 'ПРЕПАРАТЫ ДЛЯ ЛЕЧЕНИЯ ЗАБОЛЕВАНИЙ ПЕЧЕНИ И ЖЕЛЧЕВЫВОДЯЩИХ ПУТЕЙ,A05', 'Электроды для электрокардиограммы (экг)', 'Литература детская для обучения', 'Шины пневматические для легкового автомобиля', 'Мультимедийное программное обеспечение', 'Опалубка', 'Устройства зарядные (кроме предназначенных для информационно-технологических устройств) прочие', 'Посуда', 'Соединители проводов электрические', 'Покрытия кондитерские', 'Насосы гидравлические', 'Аппараты для кардио-респираторного мониторинга', 'Металлогалогеновые лампы', 'Мобильные учебные комплексы для проведения исследований', 'Механический пожарный инвентарь', 'Рыба морская холодного копчения (кроме сельди)', 'Ростомеры', 'Тупфер назофарингеальный', 'Составные и заменяемые части, принадлежности и комплектующие для оборудования общебольничного', 'Пузыри для льда медицинские', 'Повязки послеоперационные', 'Маска трахеостомическая, кислородная', 'Прочие горюче-смазочные материалы', 'Карточки картотечные', 'Нарукавники для плавания', 'Краны для насосного оборудования, оборудования водоснабжения, сточных вод и канализации', 'Средства защиты рук для спасательных служб и служб гражданской обороны', 'Шарфы зимние', 'Реагенты и расходные материалы для анализаторов открытого типа', 'Творог детский', 'Бензопилы', 'Смеси начальные молочные для детского питания для раздачи через молочно-раздаточные пункты', 'Покрывала спасательные', 'Пульты микшерные цифровые', 'Защита и профилактика травм', 'Быстрые тесты для бесприборной диагностики сепсиса, вируса иммунодефицита человека (вич)', 'Аккумуляторы свинцовые для запуска поршневых двигателей', 'Подшлемники', 'Ручки', 'Системы взятия биоматериалов для выявления кишечных паразитов', 'Тарталетки, волованы, трубочки из теста', 'Шорты для детей', 'Зонды медицинские', 'Составные и заменяемые части, принадлежности и комплектующие для стерилизаторов', 'Роторасширители и инструменты к ним', 'Платы беспаечные макетные', 'Стойки для медицинской техники', 'Носки', 'Респираторы медицинские', 'Пробирка вакуумная для взятия образцов крови ивд, с активатором свертывания', 'Халаты хирургические в индивидуальной упаковке', 'Стерилизаторы химические жидкостные', 'ПРОЧИЕ ЛЕКАРСТВЕННЫЕ ПРЕПАРАТЫ, НЕ ИМЕЮЩИЕ АТХ', 'Средства для окраски бровей и ресниц', 'Глюкометры', 'Индикаторы для контроля процесса паровой стерилизации класс 4 для наружного контроля', 'Воздуховоды орофарингеальные типа \"гведела\"', 'Масла трансмиссионные', 'Запчасти и комплектующие для отопительного оборудования', 'Пилы торцовочные', 'Программное обеспечение (ПО), кроме ПО на электронном носителе', 'Смеси на основе гидролизованного белка для детского питания для раздачи через молочно-раздаточные пункты', 'Маты гимнастические', 'Снаряды для функционального тренинга', 'Держатели и крепления', 'Пульсоксиметры', 'Индикаторы стерилизации электронные', 'Аксессуары для бассейна', 'Зонды желудочные', 'Иглы спинальные', 'Палки гимнастические утяжеленные (бодибары)', 'Крепированная бумага для медицинской воздушной, паровой, газовой и радиационной стерилизации (стандартная и усиленная)', 'Прочее экологическое лабораторное оборудование', 'Баранина охлажденная', 'Стеллажи детские', 'Пакеты бумажные для медицинской паровой, газовой, радиационной и воздушной стерилизации', 'Системы для инфузионной терапии', 'Мороженое молочное, сливочное, пломбир', 'Инструмент ручной малярный прочий', 'Трубы и детали трубопроводов из иных полимеров', 'Теплоизоляционные покрытия', 'Бинты марлевые гипсовые', 'Электроды для электрокардиограммы (экг) многоразовые для оборудования и принадлежности к ним', 'Наличники и доборы', 'Оборудование для создания световых эффектов', 'Аксессуары для климатического оборудования', 'ГИПОЛИПИДЕМИЧЕСКИЕ ПРЕПАРАТЫ, C10', 'Индикатор химический одноразовый для контроля процесса воздушной стерилизации (класс 4) для наружного и внутренного контроля', 'Средства для маникюра и педикюра', 'Оборудование и инвентарь для водных видов спорта (кроме всех видов гребли) прочее', 'Секции диванные', 'Измеритель давления и расхода', 'Пробирка вакуумная для взятия образцов крови ивд, с k3эдта', 'Справочная литература, словари', 'Системы оповещения', 'Составные и заменяемые части, принадлежности и комплектующие для прочего оборудования для стерилизации и дезинфекции', 'Медболы', 'Тесты для отделения акушерства и гинекологии', 'Микроскопы цифровые учебные', 'Средства реабилитации технические', 'Консервы мясные для детского питания для раздачи через молочно-раздаточные пункты', 'Экспресс-тесты для микробиологических исследований', 'Термометр биметаллический', 'Головные уборы для спасательных служб и служб гражданской обороны', 'Катетеры центральные венозные для взрослых', 'Контейнеры и пробирки для биологических проб', 'Припой', 'Прочие товары для конференц и конгресс-систем', 'Полуфабрикаты хлебобулочные', 'Баранина замороженная', 'Док-станции', 'Аппараты для исследования функции внешнего дыхания (фвд)', 'Негатоскопы', 'Палочки-тампоны медицинские', 'Бутыль для растворов стерильная, многоразового использования', 'Пожарный, гидравлический инвентарь', 'Глюкоза ивд, набор, колориметрическая тест-полоска, экспресс-анализ', 'Комплектующие для кондиционеров', 'Инвентарь для тяжелой атлетики', 'Набор для лор хирургических процедур, не содержащий лекарственные средства, одноразового использования', 'Контейнеры для дезинфекции и стерилизации', 'Весы для новорожденных, электронные', 'Оборудование и инвентарь для спортивного ориентирования прочее', 'Вентиляторы', 'Грелки медицинские', 'Тонометры бесконтактные', 'Бочки', 'Вата минеральная', 'Прокат листовой холоднокатаный', 'Реактивы вспомогательные для биохимической идентификации микроорганизмов', 'Комплекты для санузлов', 'Составные и заменяемые части, принадлежности и комплектующие для физиотерапевтического оборудования', 'Пинцеты захватывающие', 'Баки для сбора, хранения и транспортировки отходов многоразовые', 'Гири', 'Смеси для детей с функциональным нарушением пищеварения для раздачи через молочно-раздаточные пункты', 'Пластмасса для стоматологии', 'Рукава (кроме пожарных)', 'Запасные части к инструменту', 'Неорганические соединения для лабораторной диагностики', 'Столы для настольного тенниса', 'Системы для переливания крови, кровезаменителей и инфузионных растворов с пластиковым шипом', 'Охранные извещатели', 'Пробирка вакуумная для взятия образцов крови ивд, с k2эдта', 'Сорочки верхние мужские', 'Реагенты и расходные материалы для анализаторов \"dimension xpand\" / \"dimension rxl max\"', 'Баки', 'Иглы для швейных машин', 'Краскопульты', 'Лотки почкообразные', 'Запасные части для подъемного оборудования', 'Пироги, пирожки', 'Перчатки хирургические латексные неопудренные, стерильные', 'Подгузники медицинские для взрослых', 'Рабочие места офтальмолога', 'Экипировка для гимнастики', 'Повязка-лейкопластырь адгезивный', 'Аспиратор-ииригатор для аспирации и промывания', 'Чашка петри, для микробиологической культуры, одноразового использования', 'Детские игровые площадки', 'Посуда лабораторная и принадлежности', 'Литература методическая не для обучения', 'Сетка баскетбольная', 'Простыни медицинские', 'Водное поло', 'Наконечники лабораторные', 'Стол/кушетка массажный, без электропитания, портативный', 'Учебное оборудование для многофункциональных лабораторий и конструирования, закупаемое в рамках проекта «техносфера современной школы»', 'Гантели', 'Жилеты со светоотражающими нашивками для спасательных служб и служб гражданской обороны', 'Духовые шкафы', 'Виниловые обои', '10% нейтральный буферный раствор формалина ивд', 'Зеркало ларингеальное', 'Стекла предметные', 'Кабель силовой с алюминиевой жилой на напряжение до 1 КВт', 'Промышленное вентиляционное оборудование', 'Шприц инсулиновый/убираемая игла', 'Мини-печи, ростеры', 'Прутки присадочные сварочные', 'Круги надувные для плавания', 'Повязки для фиксации катетеров', 'Устройства пожаротушения самосрабатывающие', 'Ломтерезки', 'Изделия для ухода за лежачими больными', 'Оборудование и инвентарь для волейбола прочее', 'Носилки медицинские', 'Катетеры', 'Ветеринарное оборудование', 'Автоэмали и грунтовки', 'Пробирка вакуумная для взятия образцов крови ивд, с cdpa', 'Угольники', 'Подушка для забора крови', 'Столы медицинские', 'Абрикосы', 'Бинты текстильные, эластичные, среднерастяжимые', 'Зубила', 'Свечи зажигания', 'Порошкообразные гемостатические материалы', 'Контейнеры для транспортировки', 'Лейкопластыри гипоаллергенные медицинские', 'Индикаторные полоски к средствам для дезинфекции и очистки медицинских изделий', 'Метчики', 'Прокат квадратного сечения', 'Парафиновая заливочная среда ивд', 'Витаминно-минеральные комплексы (БАД)', 'Струны для музыкальных инструментов', 'Прочие принадлежности для музыкальных инструментов', 'Синтезаторы', 'Шины пневматические для трактора', 'Трубы трубопроводов из цветных металлов', 'Масла гидравлические', 'Ключи гаечные комбинированные', 'Маски кислородные', 'Пикфлуометры', 'Консервы овощные для детского питания для раздачи через молочно-раздаточные пункты', 'Оборудование и инвентарь для гандбола прочее', 'Пакеты упаковочные комбинированные для медицинской паровой и газовой стерилизации', 'Индикатор для контроля качества предстерилизационной очистки', 'Подсветка', 'Посуда вспомогательная и общебольничная', 'Осветители таблиц', 'Принадлежности и запасные части для клавишных инструментов', 'Среды для криотомии', 'Наборы гинекологические', 'Присадка-очиститель систем непосредственного впрыска бензиновых и дизельных двигателей', 'Перчатки смотровые/процедурные из гваюлового латекса, неопудренные', 'Огнезащитные составы', 'Контейнеры для хранения и транспортировки', 'Иглы инъекционные с инфузионным удлинителем для центральных венозных имплантируемых портов для взрослых', 'Электрика', 'ПРОТИВОГЕЛЬМИНТНЫЕ ПРЕПАРАТЫ,P02', 'Плантографы', 'Медицинские изделия из резины и полимерных материалов', 'Трансмиссии', 'Шкафы для посуды деревянные', 'Концентраторы кислорода', 'Реагенты и расходные материалы к анализаторам производства \"dr. muller geratebau gmbh\"', 'Составные и заменяемые части, принадлежности и комплектующие для оборудования функциональной диагностики', 'Катетер для периферических сосудов', 'Красители для рутинных окрасок', 'Обувь для спасательных служб и служб гражданской обороны', 'Распылители аэрозоля для кислородной поддержки', 'Стакан лабораторный', 'Линейка слесарная стальная', 'Плащи', 'Ножницы общехирургические', 'Эмульсии для ухода за кожей лица', 'Контейнеры для сбора и химической дезинфекции медицинских отходов', 'Пробирка вакуумная для взятия образцов крови ивд, с натрия цитратом', 'Наперники', 'Лампы для прожекторов', 'Нормализаторы', 'Амниотомы акушерские', 'Оборудование для микрофильмирования', 'Ящики с песком', 'Мундштуки одноразовые для алкотестеров', 'Изделия упаковочные стеклянные', 'Трансформаторы', 'Треугольники', 'Сервоприводы', 'Пленка для печати медицинских изображений, совместимая с медицинскими термографическими принтерами', 'Термобумага регистрирующая для принтеров \"sony\"', 'Наборы изделий для ухода за полостью рта и носа', 'Спасательные жилеты и круги', 'Специальная экипировка для велоспорта ', 'Эозин y раствор ивд', 'Пирожные недлительного хранения', 'Изделия прочие, применяемые в медицинских целях', 'Зажимы кровоостанавливающие', 'Каши безмолочные для детского питания для раздачи через молочно-раздаточные пункты', 'Бумага для регистрации электрокардиограмм', 'Баллон для воздуха медицинского назначения', 'Изделия колбасные сыровяленые мясные', 'Реагенты для дифференциальной диагностики микробиологических исследований', 'Реагенты и расходные материалы для анализаторов \"pentra xl 80\"', 'Панели жидкокристаллические', 'Наборы для эпидуральной анестезии с катетером', 'Прокат круглого сечения', 'Двигатели', 'Скобы для подвеса прожекторов', 'Тенты', 'Составные и заменяемые части, принадлежности и комплектующие для оборудования стоматологического', 'Растворы строительные', 'Бинты тампонадные, стерильные, мазевые', 'Химическая продукция для реставрации', 'Принадлежности для электроэнцефалографии (ээг)', 'Комплекты приспособлений для отбора проб', 'Мебель лабораторная', 'Скальпели', 'Пробирки вакуумные и дополнительные принадлежности к ним для взятия и исследования крови', 'Средства для спасения из узких мест', 'Штатив для пробирок', 'Нарезчики швов', 'Наконечники стоматологические турбинные', 'Составные и заменяемые части, принадлежности и комплектующие для оборудования мониторирования функций', 'Системы управления базами данных', 'Саженцы деревьев и кустарников', 'Емкости для сбора острого инструментария медицинские', 'Соусы фруктовые и ягодные, соусы-топпинги десертные', 'Иглы-бабочки, иглы инъекционные', 'Игрушки детские пирамиды', 'Ключи гаечные торцовые', 'Сопло', 'Контейнеры полимерные для крови и ее компонентов', 'Реквизит для культурно-массовых мероприятий', 'Ингаляторы', 'Монофиламентная нерассасывающаяся синтетическая нить с иглой, стерильная в индивидуальной упаковке', 'Питательные среды, сыворотки', 'Катетеры кардиальные с щелевидными отверстиями', 'Повязка раневая гидрогелевая, стерильная', 'Хлебобулочные изделия длительного хранения', 'Станки сверлильные', 'Устройства обработки звука прочие', 'Смеси безлактозные для детского питания с 0 месяцев для раздачи через молочно-раздаточные пункты', 'Шины для грузовых автомобилей и спецтехники, покрышки и камеры резиновые', 'Фрукты засахаренные (Цукаты)', 'Пончики', 'Линии удлинительные высокого давления для шприцевых насосов', 'Палатки', 'Инвентарь для спортивных танцев', 'Халаты производственные', 'Сопутствующие лабораторные расходные материалы и принадлежности', 'Специальная экипировка для лыжных видов спорта прочая', 'Смеси для детского питания на основе аминокислот для раздачи через молочно-раздаточные пункты', 'Питание спортивное прочее', 'Окрашивание по романовскому ивд, набор', 'Марля медицинская хлопчатобумажная обеленная', 'Индикатор биологический для контроля стерилизации', 'Стекла предметные и покровные для микроскопических исследований', 'Топливные фильтры', 'Шины транспортные иммобилизационные складные', 'Спортивные сумки', 'Столы для осмотра и терапевтических процедур', 'Материалы для замещения костной ткани', 'Пакет офисных приложений', 'Нить хирургическая из полиэфира', 'Плетеная рассасывающаяся нить', 'Культиваторы или мотоблоки', 'Грибы сушеные', 'Изделия бытовые из прочих металлов', 'Монофиламентная нерассасывающаяся полипропиленовая нить (эквиваленты: пролен, премилен)', 'Люки смотровых колодцев чугунные', 'Подвеска', 'Стенды и приборы для контроля музыкальных инструментов', 'Краны инфузионные трехходовые 360°', 'Металлофоны', 'Гитары', 'Канюли назальные для кислородной поддержки', 'Упоры для отжиманий', 'Швеллеры стальные горячекатаные из нелегированных сталей', 'Повязка раневая неадгезивная, абсорбирующая, стерильная', 'Кабели электрокардиографические (экг) для оборудования', 'Материалы для пломбирования корневых каналов эндодонтические', 'Бетономешалка', 'Кузова', 'Лейкопластырь гипоаллергенный', 'Зонды (для эндоскопов производства \"pentax\" япония, \"olympus\" япония, \"fujinon\" япония)', 'Перчатки боксерские', 'Воздуховоды назофарингеальные', 'Реагенты для проявки медицинских рентгенографических пленок', 'Судно подкладное', 'Анализаторы содержания алкоголя', 'Тавры стальные горячекатаные', 'Резервуары для инсулина', 'Шины пневматические для строительных, дорожных, подъемно-транспортных машин', 'Растворы для закрытия сосудистых катетеров', 'Лезвия для микротомов и криостатов', 'Пленка рентгеновская медицинская, синечувствительная', 'Жидкости тормозные', 'Брюки спортивные для взрослых', 'Ванны', 'Бинты трубчатые, сильно эластичные, сетчатые', 'Корнцанги', 'Аксессуары и принадлежности', 'Головки гаечные', 'Контейнер лабораторный общего назначения, стерильный', 'Лыжи', 'Стилусы', 'Имплантат костного матрикса человеческого происхождения (мембраны)', 'Пинцеты общехирургические', 'Биологически активные вещества для цветов и растений', 'Средства по уходу и содержанию животных', 'Микрометр', 'Штанги', 'Гидроизоляции', 'Инструмент ручной плотницкий прочий', 'Принадлежности для электромиографии (эмг)', 'Пианино', 'Лезвие скальпеля, одноразового использования', 'Камеры для колес', 'Изопропилового спирта раствор ивд', 'Спортивное оборудование и инвентарь для единоборств прочее', 'Рюкзаки', 'Щетки стеклоочистителя', 'Системы выпуска', 'Текстильные изделия для переплетных работ, микрографии, рисования', 'Заглушки для герметичного присоединения портов катетеров и инфузионных линий', 'Наборы для новорожденных', 'Зеркала стоматологические', 'Фары', 'Набор первой медицинской помощи, содержащий лекарственные средства', 'Пробирка центрифужная ивд, нестерильная', 'Бензорезы', 'Баллоны интраназальные', 'Системы для контролируемого отведения фекальных масс', 'Трубки силиконовые для назальной вентиляции', 'Боры стоматологические', 'Расходные материалы для шлифмашин', 'Запасные части к цифровым 3d кинопроекторам', 'Декальцинирующий раствор ивд', 'Средства для зубных протезов', 'Спрей для фиксации цитологических образцов ивд', 'Индикатор для контроля процесса паровой стерилизации класс 5 для внутренного контроля', 'Пинцеты ушные', 'Пеленка впитывающая', 'Маски для анестезиологии, реаниматологии и интенсивной терапии', 'Подогреватель пробирок', 'Оборудование для управления светом и его элементы', 'Кресла медицинские, специализированные', 'Маски для ухода за кожей лица', 'Тепло/влагообменник/бактериальный фильтр, стерильный', 'Помпы микроинфузионные, одноразовые, стерильные', 'Воздуховоды надгортанные', 'Колба коническая (тип кн)', 'Манжеты для измерения артериального давления', 'Перчатки хирургические из латекса гевеи, неопудренные', 'Анализаторы биохимические', 'Клюшки для флорбола', 'Бандаж на шейный отдел позвоночника', 'Запасные части для прочих транспортных средств', 'Рулевое управление', 'Скамьи тренировочные универсальные', 'Толуидиновый синий o раствор ивд', 'Коврики гимнастические', 'Блинчики, оладьи, вареники, пиццы', 'Барабаны', 'Защита бампера', 'Крючки для общей хирургии', 'Коннекторы для инфузионных систем', 'Зеркало вагинальное, одноразового использования', 'Запасные части для машин специализированных на базе транспортных средств', 'Часы медицинские', 'Глюкоза ивд, контрольный материал', 'Катетеры фолея двухходовые из силикона, тип цилиндрические', 'Крепления для лыж', 'Ксилофоны', 'Реагенты и расходные материалы для анализаторов мочи \"клинитек\" (clinitek)', 'Смеси энтеральные', 'Расходные материалы по уходу за ранами', 'Колокольчики', 'Костный воск', 'Инструменты ручные эндодонтические', 'Прокладки (вкладыши) урологические абсорбирующие', 'Контейнеры внутрикорпусные и межкорпусные медицинские', 'Упаковочные самозаклеивающиеся пакеты для использования в низкотемпературных плазменных стерилизаторах \"sterrad\"', 'Расходные материалы для микроскопии и фотометрии', 'Сумки медицинские', 'Обувь специальная кожаная для защиты от нефти, нефтепродуктов, кислот, щелочей, нетоксичной и взрывоопасной пыли', 'Языкодержатели', 'Экипировка для стрелкового спорта', 'Ветровки для детей', 'Ключи моментные (динамометрические)', 'Средства обеспечения безопасности дорожного движения прочие', 'Пипетка с ручным заполнением', 'Термометры лабораторные', 'Тарелки', 'Маски кислородные для кислородной поддержки', 'Мониторы пациента многофункциональные', 'Контейнер лабораторный общего назначения, нестерильный', 'Катетеры уретральные без баллона из прозрачного пвх, тип \"нелатона\"', 'Вёсла', 'Пробирка центрифужная ивд, стерильная', 'Иглы к системам для биопсии', 'Комплекты для ремонта велосипеда', 'Угломеры', 'Нить хирургическая из полигликолевой кислоты, полинить', 'Защита', 'Контур дыхательный анестезиологический, одноразового использования', 'Воронки ушные', 'Трубки эндотрахеальные и принадлежности к ним', 'Принадлежности для перемещения маломобильных пациентов', 'Коннекторы гибкие', 'Наборы игрушек и настольных игр', 'Фотометры', 'Перчатки хирургические латексные с антибактериальным внутренним покрытием, стерильные', 'Шприц туберкулиновый-для аллергологических проб/убираемая игла', 'Заливочная среда для микроскопии ивд', 'Флейты', 'Системы ориентирования в задымленном пространстве', 'Столы игровые для дошкольных учреждений', 'Оборудование для изготовления копий фотодокументов', 'Гели для тела медицинские', 'Колготки', 'Пинцеты зажимные', 'Шприцы для анализа газов крови', 'Кислота лимонная (реактив)', 'Видеоларингоскопы', 'Десерты из мороженого, мороженое щербет', 'Обувь ортопедическая, готовая', 'Кетгутовая рассасывающаяся нить', 'Бандаж на плечевой сустав', 'Куртки для взрослых из текстильных материалов зимние', 'Перчатки хирургические неопреновые, стерильные', 'Насадки сменные для назальных аспираторов', 'Бумага парафинированная для хранения и транспортировки', 'Обувь специальная кожаная для защиты от повышенных температур', 'Трубки трахеостомические и принадлежности к ним', 'Масла индустриальные', 'Трусы для взрослых', 'Катетер уретральный постоянный для дренажа/промывания', 'Материалы для фильтрации', 'Среды различного назначения для микробиологических исследований', 'Инструменты для моделирования пломб', 'Мороженое фруктовый лед', 'Аппараты для магнитотерапии', 'Системы обеспечения информационной безопасности сети', 'Наконечники стоматологические', 'Набор для введения инсулина к инсулиновой инфузионной помпе на пластыре', 'Аэрозоль для очистки карбюраторов и тормозных дисков', 'Подрамник', 'Перчатки хирургические из латекса гевеи, неопудренные, антибактериальные', 'Контактные среды для функциональной диагностики', 'Пинцеты анатомические', 'Устройства для подогрева инфузионных растворов', 'Тромбиновое время ивд, реагент', 'Иглодержатель, многоразового использования', 'Каши молочные для детского питания для раздачи через молочно-раздаточные пункты', 'Ботинки лыжные', 'Аспираторы для анестезиологии, реаниматологии и интенсивной терапии', 'Калия перманганат, раствор ивд', 'Трусы для детей', 'Кассеты биопсийные', 'Термобумага, термолента и диаграммная бумага для кардиотокографов', 'Экипировка для спортивных танцев', 'Пакеты для отбора и транспортирования проб', 'Палки для лыжных видов спорта', 'Материал упаковочный в рулонах для медицинской паровой, газовой, плазменной стерилизации', 'Нутрометр', 'Ван гизона раствор ивд', 'Пробирка вакуумная для взятия образцов крови ивд, без добавок', 'Обувь специальная кожаная для защиты от скольжения по зажиренным поверхностям', 'Сырники, запеканки творожные', 'Катетеры уретральные без баллона из прозрачного пвх, лубрицированные, тип \"нелатона\"', 'Лопатки для плавания', 'Фильтры дыхательные электростатические', 'Костюмы хирургические', 'Видеопроекторы для кинотеатров', 'Емкости для сбора отходов органических медицинские', 'Рейтузы, лосины спортивные для взрослых', 'Фонарики диагностические', 'Электроды физиотерапевтические', 'Изделия для маломобильных пациентов', 'Трубки ларингеальные', 'Палочки барабанные', 'Тренажер уличный \"Приседание/Шаги\"', 'Сэндвичи', 'Фиксатор чрескожного катетера/трубки, стерильный', 'Бумага офсетная', 'Элеваторы стоматологические', 'Пинцеты стоматологические', 'Гармонии', 'Монофиламентная рассасывающаяся нить', 'Ланцеты для ручного прокалывания', 'Ящики почтовые металлические', 'Семена овощных культур', 'Спальные мешки', 'Футляры и чехлы для музыкальных инструментов', 'Принадлежности для контуров дыхательных для аппаратов искусственной вентиляции легких', 'Средство для очищения кожи', 'Аппараты для дарсонвализации', 'Зеркала носовые', 'Иглы для акупунктуры, одноразового использования', 'Пистолеты пневматические спортивные и конструктивно сходные с ними изделия', 'Трубки медицинские резиновые', 'Зеркала ректальные', 'Столы лабораторные', 'Чашка биологическая (петри) (тип чбн)', 'Общий простатический специфический антиген (пса) ивд, реагент', 'Лактат ивд, реагент', 'Фиксатор эндотрахеальной трубки', 'Ножи медицинские', 'Сорочки ночные для взрослых', 'Бубенцы', 'Фиксаторы эпидурального катетера', 'Растворы декальцинирующие', 'Шкаф сушильный для дыхательного контура, закрытый', 'Электрогитары', 'Гидроколлоидные повязки', 'Перчатки хирургические латексные с индикацией прокола, стерильные', 'Расходные материалы для небулайзеров', 'Штативы для флаконов и бутылочек', 'Смеси энтеральные для раздачи через молочно-раздаточные пункты', 'Шкафы с демонстрационными полками', 'Средства для смазки медицинских изделий', 'Нить хирургическая из полидиоксанона', 'Морсы для детского питания', 'Установки для анализа кишечных паразитов', 'Установки ударные тренировочные', 'Льняное масло', 'Шампуни очищающие медицинские', 'Щипцы для удаления зубов', 'Зонды дуоденальные питающие', 'Канюля для артроскопического доступа', 'Бандаж на запястье', 'Пэды тренировочные', 'Брюки для детей', 'Ревматоидный фактор ивд, набор, иммуноферментный анализ (ифа)', 'Скрытая кровь в кале ивд, набор, иммунохроматографический анализ, экспресс-анализ']\n",
            "3 ['Печати круглые самонаборные', 'Оснастки для штампов', 'Оснастки для печати']\n",
            "3 ['Комбинированные декорации', 'Турникеты', 'Тент-ангары']\n",
            "2 ['Фейерверки', 'Пульсометры или шагомеры']\n",
            "2 ['Топливо дизельное (розничная реализация)', 'Бензин автомобильный (розничная реализация)']\n",
            "4 ['Жалюзи оконные', 'Шторы рулонные из ткани', 'Гардины', 'Шторы для интерьеров (портьеры)']\n",
            "2 ['Счетчики купюр', 'Счетчики банкнот']\n",
            "2 ['Дыроколы для люверсов', 'Материалы расходные для дыроколов']\n",
            "8 ['Кислород технический', 'Пропан сжиженный', 'Сжиженный углеводородный газ, используемый для коммунально-бытового и производственного потребления в качестве топлива', 'Диоксид углерода (газ углекислый) технический', 'Смеси газов', 'Аргон технический', 'Газы инертные технические', 'Смесь пропан-бутановая']\n",
            "2 ['Водонагреватели электрические накопительные', 'Водонагреватели электрические проточные']\n",
            "3 ['Орехи пекан', 'Сливки взбитые', 'Молоко питьевое растительное']\n",
            "2 ['Тостер', 'Блинницы']\n",
            "2 ['Обувь форменная для детей и подростков', 'Обувь детская с верхом из кожи']\n",
            "2 ['Чипсы кукурузные, попкорн', 'Полуфабрикаты мясные, мясосодержащие замороженные']\n",
            "14 ['Корм растительный для лошадей, пони, коз', 'Комбикорм, смесь кормовая для лошадей, пони, коз', 'Корма для кошек', 'Комбикорм для зайцев, кроликов', 'Корма для животных прочих', 'Корм сухой для декоративных птиц', 'Корм сухой для грызунов', 'Комбикорм для сельскохозяйственной птицы', 'Корм для собак сухой', 'Корм сухой для зайцев, кроликов', 'Корма для аквариумных рыб', 'Смесь кормовая для черепах', 'Корм для собак влажный', 'Корм сухой для сурикатов, хорьков']\n",
            "2 ['ПОЛОВЫЕ ГОРМОНЫ,G03', 'ДРУГИЕ ПРЕПАРАТЫ ДЛЯ ЛЕЧЕНИЯ ГИНЕКОЛОГИЧЕСКИХ ЗАБОЛЕВАНИЙ,G02']\n",
            "3 ['АЛЛЕРГЕНЫ,V01', 'ВАКЦИНЫ,J07', 'ДИАГНОСТИЧЕСКИЕ ПРЕПАРАТЫ,V04']\n",
            "2 ['Радиоприемники', 'Соединители кабельные для кабелей с медными проводниками']\n",
            "2 ['Сигнализация', 'Тревожные кнопки']\n",
            "2 ['ИММУНОДЕПРЕССАНТЫ,L04', 'ПРОТИВОПОДАГРИЧЕСКИЕ ПРЕПАРАТЫ,M04']\n",
            "2 ['Жесткие диски для конференц и конгресс-систем', 'Средства и системы радиорелейной связи']\n",
            "5 ['Арбузы', 'Черника, голубика', 'Дыни', 'Гранаты', 'Сливы']\n",
            "2 ['Станции телефонные автоматические  ', 'Комплектующие, запасное и дополнительное оборудование для АТС']\n",
            "2 ['Компоненты электронные прочие', 'Автоматизированные системы управления']\n",
            "2 ['Кунжутное масло', 'Филе рыбы морской мороженое (кроме тресковых)']\n",
            "3 ['Инфекции респираторного тракта методом полимеразной цепной реакции (пцр) в режиме реального времени для планшетного и роторного типов', 'Реагенты для разных этапов полимеразной цепной реакции (пцр) анализа', 'Комплекты реагентов для выделения и очистки нуклеиновых кислот']\n",
            "2 ['ДЕРМАТОПРОТЕКТОРЫ, D02', 'ПРОТИВОГРИБКОВЫЕ ПРЕПАРАТЫ ДЛЯ ЛЕЧЕНИЯ ЗАБОЛЕВАНИЙ КОЖИ, D01']\n",
            "2 ['Набор для лор диагностики', 'Множественные аналиты мочи ивд, набор, колориметрическая тест-полоска, экспресс-анализ']\n",
            "3 ['Мультикоптеры', 'Аппараты беспилотные летательные', 'Принадлежности для воздушного транспорта']\n",
            "2 ['Ряженка', 'Продукты кефирные, йогуртные']\n",
            "2 ['Крупа ячневая', 'Кисели сухие']\n",
            "3 ['Иглы фистульные', 'Комплекты расходных материалов для плазмафереза, для конечного хранения плазмы', 'Составные и заменяемые части, принадлежности и комплектующие для вспомогательного инфузионного и трансфузионного оборудования']\n",
            "3 ['Клипсы эндоскопические', 'Расходные материалы для очистки эндоскопов \"olympus\"', 'Принадлежности медицинские для источников света для оборудования \"olympus\"']\n",
            "2 ['Sars коронавирус антитела класса иммуноглобулин м (igm) ивд,реагент', 'Sars коронавирус антитела классов иммуноглобулин а (igа)/igg/igm ивд, реагент']\n",
            "2 ['Изделия колбасные вареные из мяса и субпродуктов птиц', 'Изделия колбасные вареные для детского питания']\n",
            "2 ['Лобзик ручной', 'Рубанки ручные']\n",
            "10 ['Трубки медицинские для дренажей', 'Спицы направляющие', 'Фиксатор связок', 'Инструмент для непрерывного шва мениска', 'Сверло хирургическое спиральное, стерильное', 'Винты интерферрентные в индивидуальной упаковке', 'Электрод электрохирургический эндоскопический, биполярный, одноразового использования, стерильный', 'Канюли для артроскопических операций', 'Проводники пинов, артроскопические', 'Фрезы для травматологии и ортопедии']\n",
            "2 ['Щиты баскетбольные', 'Стенки гимнастические']\n",
            "3 ['Расходные материалы к аппаратам для автоматизированного перитонеального диализа', 'Расходные материалы к аппаратам \"aquarius\"', 'Гемодиализные аппараты (искусственная почка)']\n",
            "2 ['Пинцеты вспомогательные и общебольничные медицинские', 'Ватные шарики']\n",
            "3 ['Трубка дренажная нестерильная', 'Дренажи трубчатые', 'Коннектор для дренирования закрытой раны, нестерильный']\n",
            "2 ['Наборы для установки нефростомического катетера, одношаговая техника, с катетером \"j-типа\"', 'Наборы для установки нефростомического катетера, многошаговая техника, с баллонным силиконовым катетером']\n",
            "3 ['Тест-полоски для пробы ширмера', 'Наборы пробных очковых линз', 'Линзы офтальмологические']\n",
            "2 ['Реагенты и расходные материалы для анализаторов \"immulite 2000 xpi\"', 'Реагенты и расходные материалы для анализаторов гемостаза серии \"ca\" и \"сs\"']\n",
            "2 ['Офтальмоскопы', 'Проекторы знаков']\n",
            "2 ['Расходные материалы для гематологических анализаторов \"sysmex xp-300\", производства \"sysmex corporation\"', 'Реагенты и расходные материалы для анализаторов гематологических \"sysmex xe2100\"']\n",
            "3 ['Средства по уходу за стомированными больными', 'Калоприемники', 'Пластина\\xa0калоприемника,\\xa0плоская']\n",
            "3 ['Прочие металлоконструкции для учреждений культуры и искусства', 'Металлоконструкции театральных залов', 'Шайба прокладочная ортопедическая, нестерильная']\n",
            "2 ['Алюминий и металлоизделия из алюминия', 'Конструкции навесных вентилируемых фасадных систем']\n",
            "2 ['Столы ученические лабораторные для оборудования кабинетов физики, химии и биологии', 'Шкафы учебные лабораторные']\n",
            "2 ['Линза интраокулярная для задней камеры глаза, псевдофакичная', 'Инструменты хирургические офтальмологические для имплантации интраокулярных линз']\n",
            "2 ['Расходные материалы для водного транспорта', 'Запасные части для водного транспорта прочие']\n",
            "2 ['Покрытия дорожные полимерные', 'Холодные пластики для дорожной разметки']\n",
            "2 ['Принадлежности для автотранспорта прочие', 'Наклейки']\n",
            "2 ['Камень бортовой бетонный', 'Камень брусчатый гранитный']\n",
            "2 ['Порт/катетер инфузионный/инъекционный, имплантируемый', 'Наборы для катетеризации центральных вен по \"сельдингеру\"']\n",
            "2 ['Расходные материалы для физиотерапии', 'Иглы акупунктурные для рефлексотерапии']\n",
            "2 ['Станки фрезерные металлообрабатывающие', 'Станки фрезерные деревообрабатывающие']\n",
            "2 ['Разрывные интродьюсеры', 'Электроды совместимые с магнитно-резонансной томографией (мрт)']\n",
            "2 ['Фартуки рентгенозащитные', 'Воротники рентгенозащитные']\n",
            "2 ['Расходные материалы и принадлежности для гальванизации и лекарственного электрофореза', 'Аппараты для электротерапии\\xa0']\n",
            "3 ['Расходные материалы к электрохирургическим высокочастотным аппаратам (эхвч)', 'Аппараты для прерывания беременности', 'Катетеры ангиографические']\n",
            "2 ['Швейная машина', 'Оверлоки']\n",
            "2 ['Реагенты и расходные материалы для анализаторов производства \"beckman coulter\"', 'Амилаза изоферменты ивд, реагент']\n",
            "2 ['Аксессуары для столов', 'Шары']\n",
            "3 ['Вспомогательные материалы и средства для ортодонтии', 'Адгезивы, бонды, праймеры, протравка для ортодонтии', 'Расходные материалы для ортодонтического оборудования']\n",
            "2 ['Диски прочие', 'Ампициллин диски для тестирования на чувствительность ивд']\n"
          ]
        }
      ]
    },
    {
      "cell_type": "code",
      "metadata": {
        "id": "da9ibv40zHO_"
      },
      "source": [
        ""
      ],
      "execution_count": null,
      "outputs": []
    }
  ]
}