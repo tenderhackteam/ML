{
  "nbformat": 4,
  "nbformat_minor": 0,
  "metadata": {
    "colab": {
      "name": "tenderhack_create_pairs.ipynb",
      "provenance": [],
      "collapsed_sections": [],
      "machine_shape": "hm"
    },
    "kernelspec": {
      "name": "python3",
      "display_name": "Python 3"
    },
    "language_info": {
      "name": "python"
    }
  },
  "cells": [
    {
      "cell_type": "code",
      "metadata": {
        "colab": {
          "base_uri": "https://localhost:8080/"
        },
        "id": "-d9w8NI2CFa6",
        "outputId": "7f15ef42-2e57-4355-dc14-1f251531b485"
      },
      "source": [
        "from google.colab import drive\n",
        "drive.mount('/content/drive')"
      ],
      "execution_count": null,
      "outputs": [
        {
          "output_type": "stream",
          "name": "stdout",
          "text": [
            "Drive already mounted at /content/drive; to attempt to forcibly remount, call drive.mount(\"/content/drive\", force_remount=True).\n"
          ]
        }
      ]
    },
    {
      "cell_type": "code",
      "metadata": {
        "id": "X_TmMRMTuLmV"
      },
      "source": [
        "import pandas as pd\n",
        "import json\n",
        "from typing import Dict\n",
        "\n",
        "\n",
        "def clean_json(json_str: str) -> Dict:\n",
        "    aska = json_str[::-1]\n",
        "    edge_inda = - aska.index(\"}\")\n",
        "    if edge_inda != 0:\n",
        "        json_str = json_str[:edge_inda] + ']'\n",
        "    else:\n",
        "        json_str += ']'\n",
        "    return json.loads(json_str)\n",
        "\n",
        "\n",
        "def get_characts(obj):\n",
        "    characts = set()\n",
        "    if not pd.isna(obj['Характеристики СТЕ']):\n",
        "        for charact in clean_json(obj['Характеристики СТЕ']):\n",
        "            try:\n",
        "                characts.add((charact['Name'], charact['Value']))\n",
        "            except KeyError:\n",
        "                pass\n",
        "    return characts\n",
        "\n",
        "\n",
        "data = pd.read_excel('/content/drive/MyDrive/tenderhack/dataset_base.xlsx')  # FILEPATH\n",
        "id2obj = {}\n",
        "categories = {}\n",
        "connected = {}\n",
        "for iterr, st in data.iterrows():\n",
        "    id2obj[st['Идентификатор СТЕ']] = st\n",
        "\n",
        "    if st['Категория'] not in categories:\n",
        "        categories[st['Категория']] = []\n",
        "    categories[st['Категория']].append(st['Идентификатор СТЕ'])\n",
        "\n",
        "    if st['Категория'] not in connected:\n",
        "        connected[st['Категория']] = {}\n",
        "    if not pd.isna(st['Другая продукция в контрактах']) and len(st['Другая продукция в контрактах'].strip()) > 0:\n",
        "        st_others = st['Другая продукция в контрактах']\n",
        "        st_others = clean_json(st_others)\n",
        "        for prod in st_others:\n",
        "            try:\n",
        "                connected_cat = id2obj[prod['OtherSkuId']]['Категория']\n",
        "                if connected_cat not in connected[st['Категория']]:\n",
        "                    connected[st['Категория']][connected_cat] = 0\n",
        "                connected[st['Категория']][connected_cat] += 1\n",
        "            except KeyError:\n",
        "                pass"
      ],
      "execution_count": null,
      "outputs": []
    },
    {
      "cell_type": "code",
      "metadata": {
        "colab": {
          "base_uri": "https://localhost:8080/",
          "height": 559
        },
        "id": "pe9igfdzCDV_",
        "outputId": "dc7f97c6-851d-4f82-bc6c-f0a409cc9528"
      },
      "source": [
        "data.head()"
      ],
      "execution_count": 36,
      "outputs": [
        {
          "output_type": "execute_result",
          "data": {
            "text/html": [
              "<div>\n",
              "<style scoped>\n",
              "    .dataframe tbody tr th:only-of-type {\n",
              "        vertical-align: middle;\n",
              "    }\n",
              "\n",
              "    .dataframe tbody tr th {\n",
              "        vertical-align: top;\n",
              "    }\n",
              "\n",
              "    .dataframe thead th {\n",
              "        text-align: right;\n",
              "    }\n",
              "</style>\n",
              "<table border=\"1\" class=\"dataframe\">\n",
              "  <thead>\n",
              "    <tr style=\"text-align: right;\">\n",
              "      <th></th>\n",
              "      <th>Идентификатор СТЕ</th>\n",
              "      <th>Наименование СТЕ</th>\n",
              "      <th>Категория</th>\n",
              "      <th>Описание</th>\n",
              "      <th>Характеристики СТЕ</th>\n",
              "      <th>Регионы поставки</th>\n",
              "      <th>Кол-во заключенных контрактов</th>\n",
              "      <th>Поставщики</th>\n",
              "      <th>Страна происхождения</th>\n",
              "      <th>Другая продукция в контрактах</th>\n",
              "      <th>Просмотры</th>\n",
              "      <th>Идентификатор КПГЗ</th>\n",
              "      <th>Код КПГЗ</th>\n",
              "      <th>Модель</th>\n",
              "      <th>Цена</th>\n",
              "    </tr>\n",
              "  </thead>\n",
              "  <tbody>\n",
              "    <tr>\n",
              "      <th>0</th>\n",
              "      <td>20528973</td>\n",
              "      <td>Светодиодная лента 2835, ULTRA, 12 Вольт, 60 l...</td>\n",
              "      <td>Лампы светодиодные</td>\n",
              "      <td>NaN</td>\n",
              "      <td>[{\"Name\":\"Цвет свечения\",\"Id\":-506425117,\"Valu...</td>\n",
              "      <td>[{\"Name\":\"Москва\"}]</td>\n",
              "      <td>NaN</td>\n",
              "      <td>[{\"SupplierId\":2310783,\"Name\":\"ООО \\\"ЛЮМЕНВАТТ...</td>\n",
              "      <td>NaN</td>\n",
              "      <td>NaN</td>\n",
              "      <td>1</td>\n",
              "      <td>12106442.0</td>\n",
              "      <td>01.10.05.02.04</td>\n",
              "      <td>2835ULTRA</td>\n",
              "      <td>NaN</td>\n",
              "    </tr>\n",
              "    <tr>\n",
              "      <th>1</th>\n",
              "      <td>34860341</td>\n",
              "      <td>Светодиодный светильник Geniled ЛПО  1200?180?...</td>\n",
              "      <td>Настенно-потолочные светильники</td>\n",
              "      <td>NaN</td>\n",
              "      <td>[{\"Name\":\"Вид климатического исполнения\",\"Id\":...</td>\n",
              "      <td>[{\"Name\":\"Свердловская\"},{\"Name\":\"Москва\"}]</td>\n",
              "      <td>1.0</td>\n",
              "      <td>[{\"SupplierId\":1559525,\"Name\":\"Общество с огра...</td>\n",
              "      <td>РОССИЯ</td>\n",
              "      <td>NaN</td>\n",
              "      <td>41</td>\n",
              "      <td>12114082.0</td>\n",
              "      <td>01.10.05.03.01.05</td>\n",
              "      <td>ЛПО 1200?180?40 40Вт 5000К Опал</td>\n",
              "      <td>NaN</td>\n",
              "    </tr>\n",
              "    <tr>\n",
              "      <th>2</th>\n",
              "      <td>34172198</td>\n",
              "      <td>Елка пристенно-угловая Графская премиум 210 см...</td>\n",
              "      <td>Предметы внутреннего интерьера</td>\n",
              "      <td>NaN</td>\n",
              "      <td>[{\"Name\":\"Цвет\",\"Id\":340085190,\"Value\":\"Зелены...</td>\n",
              "      <td>[{\"Name\":\"Москва\"},{\"Name\":\"Все регионы\"}]</td>\n",
              "      <td>NaN</td>\n",
              "      <td>[{\"SupplierId\":1348988,\"Name\":\"ИП Чепало Оксан...</td>\n",
              "      <td>NaN</td>\n",
              "      <td>NaN</td>\n",
              "      <td>5</td>\n",
              "      <td>68093.0</td>\n",
              "      <td>01.20.08</td>\n",
              "      <td>Елка пристенно-угловая Графская премиум 210 см.</td>\n",
              "      <td>NaN</td>\n",
              "    </tr>\n",
              "    <tr>\n",
              "      <th>3</th>\n",
              "      <td>1318014</td>\n",
              "      <td>Картридж HP CE278A/Canon 728 LJ P1560/1566/160...</td>\n",
              "      <td>Расходные материалы и комплектующие для лазерн...</td>\n",
              "      <td>NaN</td>\n",
              "      <td>[{\"Name\":\"Тип расходника\",\"Id\":317455168,\"Valu...</td>\n",
              "      <td>[{\"Name\":\"Москва\"},{\"Name\":\"Московская\"}]</td>\n",
              "      <td>9.0</td>\n",
              "      <td>[{\"SupplierId\":1111141,\"Name\":\"Общество с огра...</td>\n",
              "      <td>NaN</td>\n",
              "      <td>[{\"OtherSkuId\":1398583,\"OtherSkuName\":\"013R006...</td>\n",
              "      <td>6</td>\n",
              "      <td>12105204.0</td>\n",
              "      <td>01.13.13.01.01</td>\n",
              "      <td>SF-CE278(2K)</td>\n",
              "      <td>NaN</td>\n",
              "    </tr>\n",
              "    <tr>\n",
              "      <th>4</th>\n",
              "      <td>1251411</td>\n",
              "      <td>Штамп самонаборный Pr.C20/3-Set 38х14 (аналог ...</td>\n",
              "      <td>Штемпели</td>\n",
              "      <td>NaN</td>\n",
              "      <td>[{\"Name\":\"Наличие рамки\",\"Id\":366100137,\"Value...</td>\n",
              "      <td>[{\"Name\":\"Белгородская\"},{\"Name\":\"Марий Эл\"},{...</td>\n",
              "      <td>71.0</td>\n",
              "      <td>[{\"SupplierId\":1100019,\"Name\":\"ООО \\\"ЦТО\\\"\",\"I...</td>\n",
              "      <td>АВСТРИЯ</td>\n",
              "      <td>[{\"OtherSkuId\":1171023,\"OtherSkuName\":\"Berling...</td>\n",
              "      <td>72</td>\n",
              "      <td>12120460.0</td>\n",
              "      <td>01.15.06.07</td>\n",
              "      <td>Штамп самонаборный пласт. 3стр. Pr.C20/3-Set 3...</td>\n",
              "      <td>[{\"Cost\":454.67000},{\"Cost\":620.00000},{\"Cost\"...</td>\n",
              "    </tr>\n",
              "  </tbody>\n",
              "</table>\n",
              "</div>"
            ],
            "text/plain": [
              "   Идентификатор СТЕ  ...                                               Цена\n",
              "0           20528973  ...                                                NaN\n",
              "1           34860341  ...                                                NaN\n",
              "2           34172198  ...                                                NaN\n",
              "3            1318014  ...                                                NaN\n",
              "4            1251411  ...  [{\"Cost\":454.67000},{\"Cost\":620.00000},{\"Cost\"...\n",
              "\n",
              "[5 rows x 15 columns]"
            ]
          },
          "metadata": {},
          "execution_count": 36
        }
      ]
    },
    {
      "cell_type": "code",
      "metadata": {
        "id": "-9TAmsczpYBl"
      },
      "source": [
        "pairs_df = pd.read_csv('/content/drive/MyDrive/tenderhack/sample_pairs.csv')"
      ],
      "execution_count": 54,
      "outputs": []
    },
    {
      "cell_type": "code",
      "metadata": {
        "id": "UaLRbYFFrgK5"
      },
      "source": [
        "import pickle\n",
        "with open('/content/drive/MyDrive/tenderhack/charact_dict.pickle', 'rb') as handle:\n",
        "    all_characts = pickle.load(handle)"
      ],
      "execution_count": 55,
      "outputs": []
    },
    {
      "cell_type": "code",
      "metadata": {
        "colab": {
          "base_uri": "https://localhost:8080/"
        },
        "id": "6sscNAtUr5v2",
        "outputId": "16927dc3-0fda-4ff1-ad08-ba9f7b618b5d"
      },
      "source": [
        "len(all_characts)"
      ],
      "execution_count": 56,
      "outputs": [
        {
          "output_type": "execute_result",
          "data": {
            "text/plain": [
              "58343"
            ]
          },
          "metadata": {},
          "execution_count": 56
        }
      ]
    },
    {
      "cell_type": "code",
      "metadata": {
        "id": "2R90gXpAv08k"
      },
      "source": [
        "data_pairs = pairs_df.sample(50000)"
      ],
      "execution_count": 57,
      "outputs": []
    },
    {
      "cell_type": "code",
      "metadata": {
        "colab": {
          "base_uri": "https://localhost:8080/"
        },
        "id": "AlG0jRGvv-Zx",
        "outputId": "edc54e98-58e1-41f7-8ec1-b4beba31bb71"
      },
      "source": [
        "data_pairs.target.value_counts()"
      ],
      "execution_count": 58,
      "outputs": [
        {
          "output_type": "execute_result",
          "data": {
            "text/plain": [
              "0    25038\n",
              "1    24962\n",
              "Name: target, dtype: int64"
            ]
          },
          "metadata": {},
          "execution_count": 58
        }
      ]
    },
    {
      "cell_type": "code",
      "metadata": {
        "id": "U6RZymFipP_I"
      },
      "source": [
        "one_hotted = []\n",
        "\n",
        "for ind, st in data_pairs.iterrows():\n",
        "  p1, p2, target = st['p1'], st['p2'], st['target']\n",
        "  onehot_char = ['0' for i in range(len(all_characts))]\n",
        "  try:\n",
        "    characts1 = get_characts(id2obj[p1])\n",
        "    characts2 = get_characts(id2obj[p2])\n",
        "    same_characts = characts1 & characts2\n",
        "    for ch_name, ch_val in same_characts:\n",
        "      onehot_char[all_characts[ch_name]] = '1'\n",
        "  except KeyError:\n",
        "    pass\n",
        "  one_hotted.append(''.join(onehot_char))\n",
        "\n",
        "\n",
        "data_pairs['one_hotted'] = one_hotted"
      ],
      "execution_count": null,
      "outputs": []
    },
    {
      "cell_type": "code",
      "metadata": {
        "id": "AzexNVEz5q4T"
      },
      "source": [
        "ressa = 0\n",
        "for i in data_pairs['one_hotted']:\n",
        "  ressa |= int(i, 2)"
      ],
      "execution_count": null,
      "outputs": []
    },
    {
      "cell_type": "code",
      "metadata": {
        "id": "WTj3R2HW6BUT"
      },
      "source": [
        "ressa = str(bin(ressa))[2:]\n",
        "ressa = '0'*(len(all_characts)-len(ressa)) + ressa"
      ],
      "execution_count": null,
      "outputs": []
    },
    {
      "cell_type": "code",
      "metadata": {
        "id": "0ckwfiVW6TeB"
      },
      "source": [
        "nice = []\n",
        "for i in range(len(ressa)):\n",
        "  if ressa[i]==\"1\":\n",
        "    nice.append(i)"
      ],
      "execution_count": null,
      "outputs": []
    },
    {
      "cell_type": "code",
      "metadata": {
        "id": "kxl2-jsy7bJU"
      },
      "source": [
        "len(nice)"
      ],
      "execution_count": null,
      "outputs": []
    },
    {
      "cell_type": "code",
      "metadata": {
        "id": "xJwg66Bv7j0B"
      },
      "source": [
        "ids2charact = {all_characts[charact]:charact for charact in all_characts}\n",
        "nice_characts = [ids2charact[i] for i in nice]"
      ],
      "execution_count": 64,
      "outputs": []
    },
    {
      "cell_type": "code",
      "metadata": {
        "id": "YQDD00G17vkI"
      },
      "source": [
        "one_hotted_nice = []\n",
        "for i in one_hotted:\n",
        "  ideal = ''\n",
        "  for nice_inda in nice:\n",
        "    ideal+=i[nice_inda]\n",
        "  one_hotted_nice.append(list(ideal))\n"
      ],
      "execution_count": 65,
      "outputs": []
    },
    {
      "cell_type": "code",
      "metadata": {
        "id": "ulHmc85D_JDl"
      },
      "source": [
        "data_pairs['one_hotted'] = one_hotted_nice"
      ],
      "execution_count": 66,
      "outputs": []
    },
    {
      "cell_type": "code",
      "metadata": {
        "id": "63qsGC4Y_aa-"
      },
      "source": [
        "data_pairs.to_csv('/content/drive/MyDrive/tenderhack/pairwise.csv')"
      ],
      "execution_count": 67,
      "outputs": []
    },
    {
      "cell_type": "code",
      "metadata": {
        "id": "FS6LRUIxpECV"
      },
      "source": [
        "commons = []\n",
        "for ind, st in data_pairs.iterrows():\n",
        "  p1, p2 = st['p1'], st['p2']\n",
        "  try:\n",
        "    connected1 = connected[id2obj[p1]['Категория']]\n",
        "    connected2 = connected[id2obj[p2]['Категория']]\n",
        "    common = len(set(connected1)&set(connected2))\n",
        "    commons.append(common)\n",
        "  except KeyError:\n",
        "    commons.append(0)\n",
        "data_pairs['common'] = commons"
      ],
      "execution_count": 68,
      "outputs": []
    },
    {
      "cell_type": "code",
      "metadata": {
        "colab": {
          "base_uri": "https://localhost:8080/"
        },
        "id": "DJZzikLFATUy",
        "outputId": "cdf9ce53-a070-49a9-e235-94f9d2454c6d"
      },
      "source": [
        "data_pairs.common.value_counts()"
      ],
      "execution_count": 69,
      "outputs": [
        {
          "output_type": "execute_result",
          "data": {
            "text/plain": [
              "0      14890\n",
              "1       2256\n",
              "2       1519\n",
              "3       1072\n",
              "4        806\n",
              "       ...  \n",
              "302        1\n",
              "365        1\n",
              "491        1\n",
              "523        1\n",
              "297        1\n",
              "Name: common, Length: 376, dtype: int64"
            ]
          },
          "metadata": {},
          "execution_count": 69
        }
      ]
    },
    {
      "cell_type": "code",
      "metadata": {
        "id": "EI0RZ8CgAjsX"
      },
      "source": [
        "data_pairs.to_csv('/content/drive/MyDrive/tenderhack/pairwise.csv')"
      ],
      "execution_count": 70,
      "outputs": []
    },
    {
      "cell_type": "code",
      "metadata": {
        "id": "ksi3W-yaAl9s"
      },
      "source": [
        "p2s = []\n",
        "for p2 in data_pairs.p2:\n",
        "  costs = id2obj[p2]['Цена']\n",
        "  if pd.isna(costs) or not costs:\n",
        "    p2s.append(0)\n",
        "  else:\n",
        "    all_costs = []\n",
        "    for cost in clean_json(costs):\n",
        "      all_costs.append(cost['Cost'])\n",
        "    p2s.append(all_costs[len(all_costs)//2])\n"
      ],
      "execution_count": 71,
      "outputs": []
    },
    {
      "cell_type": "code",
      "metadata": {
        "id": "vD0BdtReBe7J"
      },
      "source": [
        "data_pairs['cost'] = p2s"
      ],
      "execution_count": 72,
      "outputs": []
    },
    {
      "cell_type": "code",
      "metadata": {
        "id": "VLBbgyS4B3oR"
      },
      "source": [
        "contracts = []\n",
        "for p2 in data_pairs.p2:\n",
        "  if pd.isna(id2obj[p2]['Кол-во заключенных контрактов']):\n",
        "    contracts.append(0)\n",
        "  else:\n",
        "    contracts.append(id2obj[p2]['Кол-во заключенных контрактов'])\n",
        "data_pairs['contracts'] = contracts"
      ],
      "execution_count": 73,
      "outputs": []
    },
    {
      "cell_type": "code",
      "metadata": {
        "id": "6XqiTVk3CN0a"
      },
      "source": [
        "views = []\n",
        "for p2 in data_pairs.p2:\n",
        "  if pd.isna(id2obj[p2]['Просмотры']):\n",
        "    views.append(0)\n",
        "  else:\n",
        "    views.append(id2obj[p2]['Просмотры'])\n",
        "data_pairs['views'] = views"
      ],
      "execution_count": 74,
      "outputs": []
    },
    {
      "cell_type": "code",
      "metadata": {
        "id": "IFenuhkMDLRQ"
      },
      "source": [
        "with open('/content/drive/MyDrive/tenderhack/median_cost.pickle', 'rb') as handle:\n",
        "    mid_cost = pickle.load(handle)"
      ],
      "execution_count": 75,
      "outputs": []
    },
    {
      "cell_type": "code",
      "metadata": {
        "id": "7ov5_CjzD3pS"
      },
      "source": [
        "def get_cost(obj):\n",
        "  costs = obj['Цена']\n",
        "  if pd.isna(costs) or not costs:\n",
        "    return 0\n",
        "  else:\n",
        "    all_costs = []\n",
        "    for cost in clean_json(costs):\n",
        "      all_costs.append(cost['Cost'])\n",
        "    return all_costs[len(all_costs)//2]"
      ],
      "execution_count": 76,
      "outputs": []
    },
    {
      "cell_type": "code",
      "metadata": {
        "id": "fYHsB09tCkIO"
      },
      "source": [
        "tilts = []\n",
        "for inda, st in data_pairs.iterrows():\n",
        "  try:\n",
        "    p1, p2 = id2obj[st['p1']], id2obj[st['p2']]\n",
        "    difa1 = get_cost(p1) - mid_cost[p1['Категория']]\n",
        "    difa2 = get_cost(p2) - mid_cost[p2['Категория']]\n",
        "    tilts.append(abs(difa1-difa2))\n",
        "  except KeyError:\n",
        "    tilts.append(0)\n",
        "data_pairs['tilt'] = tilts\n"
      ],
      "execution_count": 77,
      "outputs": []
    },
    {
      "cell_type": "code",
      "metadata": {
        "id": "Rg5IEkZ3FAxu"
      },
      "source": [
        "data_pairs.to_csv('/content/drive/MyDrive/tenderhack/pairwise.csv')"
      ],
      "execution_count": 78,
      "outputs": []
    },
    {
      "cell_type": "code",
      "metadata": {
        "id": "-n-eKugoFSvB"
      },
      "source": [
        "data_pairs = data_pairs[['target', 'common', 'contracts', 'views', 'tilt', 'one_hotted']]"
      ],
      "execution_count": 79,
      "outputs": []
    },
    {
      "cell_type": "code",
      "metadata": {
        "colab": {
          "base_uri": "https://localhost:8080/",
          "height": 203
        },
        "id": "WUN_g6jyFIbC",
        "outputId": "c9edbf87-c169-4051-a8b5-2f4e4f61fe42"
      },
      "source": [
        "data_pairs.corr()"
      ],
      "execution_count": 80,
      "outputs": [
        {
          "output_type": "execute_result",
          "data": {
            "text/html": [
              "<div>\n",
              "<style scoped>\n",
              "    .dataframe tbody tr th:only-of-type {\n",
              "        vertical-align: middle;\n",
              "    }\n",
              "\n",
              "    .dataframe tbody tr th {\n",
              "        vertical-align: top;\n",
              "    }\n",
              "\n",
              "    .dataframe thead th {\n",
              "        text-align: right;\n",
              "    }\n",
              "</style>\n",
              "<table border=\"1\" class=\"dataframe\">\n",
              "  <thead>\n",
              "    <tr style=\"text-align: right;\">\n",
              "      <th></th>\n",
              "      <th>target</th>\n",
              "      <th>common</th>\n",
              "      <th>contracts</th>\n",
              "      <th>views</th>\n",
              "      <th>tilt</th>\n",
              "    </tr>\n",
              "  </thead>\n",
              "  <tbody>\n",
              "    <tr>\n",
              "      <th>target</th>\n",
              "      <td>1.000000</td>\n",
              "      <td>-0.075676</td>\n",
              "      <td>0.315530</td>\n",
              "      <td>0.142916</td>\n",
              "      <td>-0.084136</td>\n",
              "    </tr>\n",
              "    <tr>\n",
              "      <th>common</th>\n",
              "      <td>-0.075676</td>\n",
              "      <td>1.000000</td>\n",
              "      <td>0.001626</td>\n",
              "      <td>0.000586</td>\n",
              "      <td>-0.037099</td>\n",
              "    </tr>\n",
              "    <tr>\n",
              "      <th>contracts</th>\n",
              "      <td>0.315530</td>\n",
              "      <td>0.001626</td>\n",
              "      <td>1.000000</td>\n",
              "      <td>0.559462</td>\n",
              "      <td>-0.043518</td>\n",
              "    </tr>\n",
              "    <tr>\n",
              "      <th>views</th>\n",
              "      <td>0.142916</td>\n",
              "      <td>0.000586</td>\n",
              "      <td>0.559462</td>\n",
              "      <td>1.000000</td>\n",
              "      <td>-0.008832</td>\n",
              "    </tr>\n",
              "    <tr>\n",
              "      <th>tilt</th>\n",
              "      <td>-0.084136</td>\n",
              "      <td>-0.037099</td>\n",
              "      <td>-0.043518</td>\n",
              "      <td>-0.008832</td>\n",
              "      <td>1.000000</td>\n",
              "    </tr>\n",
              "  </tbody>\n",
              "</table>\n",
              "</div>"
            ],
            "text/plain": [
              "             target    common  contracts     views      tilt\n",
              "target     1.000000 -0.075676   0.315530  0.142916 -0.084136\n",
              "common    -0.075676  1.000000   0.001626  0.000586 -0.037099\n",
              "contracts  0.315530  0.001626   1.000000  0.559462 -0.043518\n",
              "views      0.142916  0.000586   0.559462  1.000000 -0.008832\n",
              "tilt      -0.084136 -0.037099  -0.043518 -0.008832  1.000000"
            ]
          },
          "metadata": {},
          "execution_count": 80
        }
      ]
    },
    {
      "cell_type": "code",
      "metadata": {
        "id": "-B-HxIUwFt9x"
      },
      "source": [
        "data_pairs.to_csv('/content/drive/MyDrive/tenderhack/pairwise.csv')"
      ],
      "execution_count": 81,
      "outputs": []
    },
    {
      "cell_type": "code",
      "metadata": {
        "id": "vRUTATt4GAcJ"
      },
      "source": [
        "one_hotted_df = pd.DataFrame(list(data_pairs.one_hotted), columns = nice_characts)"
      ],
      "execution_count": 85,
      "outputs": []
    },
    {
      "cell_type": "code",
      "metadata": {
        "id": "riwF8N2zP7Cb"
      },
      "source": [
        "base_df = data_pairs[['target', 'common', 'contracts', 'views', 'tilt']]"
      ],
      "execution_count": 88,
      "outputs": []
    },
    {
      "cell_type": "code",
      "metadata": {
        "id": "yIhBRXobQolj"
      },
      "source": [
        "total_data = pd.concat([base_df, one_hotted_df], axis=1)"
      ],
      "execution_count": 89,
      "outputs": []
    },
    {
      "cell_type": "code",
      "metadata": {
        "colab": {
          "base_uri": "https://localhost:8080/",
          "height": 403
        },
        "id": "TbOv-y8EQyHW",
        "outputId": "6b7670d5-f699-4c3c-cdf5-9ddc57069f24"
      },
      "source": [
        "total_data.head()"
      ],
      "execution_count": 90,
      "outputs": [
        {
          "output_type": "execute_result",
          "data": {
            "text/html": [
              "<div>\n",
              "<style scoped>\n",
              "    .dataframe tbody tr th:only-of-type {\n",
              "        vertical-align: middle;\n",
              "    }\n",
              "\n",
              "    .dataframe tbody tr th {\n",
              "        vertical-align: top;\n",
              "    }\n",
              "\n",
              "    .dataframe thead th {\n",
              "        text-align: right;\n",
              "    }\n",
              "</style>\n",
              "<table border=\"1\" class=\"dataframe\">\n",
              "  <thead>\n",
              "    <tr style=\"text-align: right;\">\n",
              "      <th></th>\n",
              "      <th>target</th>\n",
              "      <th>common</th>\n",
              "      <th>contracts</th>\n",
              "      <th>views</th>\n",
              "      <th>tilt</th>\n",
              "      <th>Напряжение</th>\n",
              "      <th>Вид товаров</th>\n",
              "      <th>Вид энергетического оборудования</th>\n",
              "      <th>Цвет</th>\n",
              "      <th>Материал</th>\n",
              "      <th>Вид продукции</th>\n",
              "      <th>Высота</th>\n",
              "      <th>Гарантийный срок</th>\n",
              "      <th>Тип расходника</th>\n",
              "      <th>Производитель расходных материалов для печатающей техники</th>\n",
              "      <th>Ресурс</th>\n",
              "      <th>Тип</th>\n",
              "      <th>Вид обложки</th>\n",
              "      <th>Фиксирующая резинка</th>\n",
              "      <th>Стиль обложки</th>\n",
              "      <th>Размер</th>\n",
              "      <th>Количество листов</th>\n",
              "      <th>Назначение</th>\n",
              "      <th>Ширина</th>\n",
              "      <th>Страна производства</th>\n",
              "      <th>Страна производитель</th>\n",
              "      <th>Схема вложения</th>\n",
              "      <th>Масса</th>\n",
              "      <th>Упаковка</th>\n",
              "      <th>Длина</th>\n",
              "      <th>Вес</th>\n",
              "      <th>Страна происхождения</th>\n",
              "      <th>Состав ткани</th>\n",
              "      <th>Подарочная упаковка</th>\n",
              "      <th>Количество штук в упаковке</th>\n",
              "      <th>Формат</th>\n",
              "      <th>Индивидуальная упаковка</th>\n",
              "      <th>Внутренний блок</th>\n",
              "      <th>Количество дизайнов в упаковке</th>\n",
              "      <th>Перфорация</th>\n",
              "      <th>...</th>\n",
              "      <th>Легко затачиваются</th>\n",
              "      <th>Длина карандаша</th>\n",
              "      <th>Тип зажима</th>\n",
              "      <th>Количество цветов в пачке</th>\n",
              "      <th>Чернила на масляной основе</th>\n",
              "      <th>Формат папки ориентирован</th>\n",
              "      <th>Вид инженерно-строительные товары</th>\n",
              "      <th>Арочный механизм папки открывается на 180 градусов</th>\n",
              "      <th>Концентрат</th>\n",
              "      <th>Вид письменных принадлежностей</th>\n",
              "      <th>Вид система охраны, наблюдения, обеспечения безопасности</th>\n",
              "      <th>Вид расходных материалов</th>\n",
              "      <th>Для левшей</th>\n",
              "      <th>В разобранном виде</th>\n",
              "      <th>Опудренные</th>\n",
              "      <th>Вид лакокрасочного материала</th>\n",
              "      <th>Год издания</th>\n",
              "      <th>Тип установки</th>\n",
              "      <th>Производительность охлаждения</th>\n",
              "      <th>Форма пучка кисти</th>\n",
              "      <th>Количество кистей</th>\n",
              "      <th>Вид информационно-технологический товар, средство связи, оргтехника, электроника (включая программное обеспечение)</th>\n",
              "      <th>Совместимые модели принтеров</th>\n",
              "      <th>Наличие в салоне</th>\n",
              "      <th>Цветность света</th>\n",
              "      <th>Произвольная регулировка направления подсветки</th>\n",
              "      <th>Отсутствие мерцания и шумов</th>\n",
              "      <th>Источник питания</th>\n",
              "      <th>Материал жил</th>\n",
              "      <th>Материал вставки</th>\n",
              "      <th>Регулировка по высоте</th>\n",
              "      <th>Защитные свойства</th>\n",
              "      <th>Температура охлаждения воды</th>\n",
              "      <th>Угол</th>\n",
              "      <th>Вид инвентарь, инструменты</th>\n",
              "      <th>Ножка-подставка</th>\n",
              "      <th>Толщина лдсп</th>\n",
              "      <th>Персонаж</th>\n",
              "      <th>Тип сценической одежды</th>\n",
              "      <th>Материал задника</th>\n",
              "    </tr>\n",
              "  </thead>\n",
              "  <tbody>\n",
              "    <tr>\n",
              "      <th>0</th>\n",
              "      <td>NaN</td>\n",
              "      <td>NaN</td>\n",
              "      <td>NaN</td>\n",
              "      <td>NaN</td>\n",
              "      <td>NaN</td>\n",
              "      <td>0</td>\n",
              "      <td>0</td>\n",
              "      <td>0</td>\n",
              "      <td>0</td>\n",
              "      <td>0</td>\n",
              "      <td>0</td>\n",
              "      <td>0</td>\n",
              "      <td>0</td>\n",
              "      <td>0</td>\n",
              "      <td>0</td>\n",
              "      <td>0</td>\n",
              "      <td>0</td>\n",
              "      <td>0</td>\n",
              "      <td>0</td>\n",
              "      <td>0</td>\n",
              "      <td>0</td>\n",
              "      <td>0</td>\n",
              "      <td>0</td>\n",
              "      <td>0</td>\n",
              "      <td>0</td>\n",
              "      <td>0</td>\n",
              "      <td>0</td>\n",
              "      <td>0</td>\n",
              "      <td>0</td>\n",
              "      <td>0</td>\n",
              "      <td>0</td>\n",
              "      <td>0</td>\n",
              "      <td>0</td>\n",
              "      <td>0</td>\n",
              "      <td>0</td>\n",
              "      <td>0</td>\n",
              "      <td>0</td>\n",
              "      <td>0</td>\n",
              "      <td>0</td>\n",
              "      <td>0</td>\n",
              "      <td>...</td>\n",
              "      <td>0</td>\n",
              "      <td>0</td>\n",
              "      <td>0</td>\n",
              "      <td>0</td>\n",
              "      <td>0</td>\n",
              "      <td>0</td>\n",
              "      <td>0</td>\n",
              "      <td>0</td>\n",
              "      <td>0</td>\n",
              "      <td>0</td>\n",
              "      <td>0</td>\n",
              "      <td>0</td>\n",
              "      <td>0</td>\n",
              "      <td>0</td>\n",
              "      <td>0</td>\n",
              "      <td>0</td>\n",
              "      <td>0</td>\n",
              "      <td>0</td>\n",
              "      <td>0</td>\n",
              "      <td>0</td>\n",
              "      <td>0</td>\n",
              "      <td>0</td>\n",
              "      <td>0</td>\n",
              "      <td>0</td>\n",
              "      <td>0</td>\n",
              "      <td>0</td>\n",
              "      <td>0</td>\n",
              "      <td>0</td>\n",
              "      <td>0</td>\n",
              "      <td>0</td>\n",
              "      <td>0</td>\n",
              "      <td>0</td>\n",
              "      <td>0</td>\n",
              "      <td>0</td>\n",
              "      <td>0</td>\n",
              "      <td>0</td>\n",
              "      <td>0</td>\n",
              "      <td>0</td>\n",
              "      <td>0</td>\n",
              "      <td>0</td>\n",
              "    </tr>\n",
              "    <tr>\n",
              "      <th>1</th>\n",
              "      <td>1.0</td>\n",
              "      <td>114.0</td>\n",
              "      <td>9.0</td>\n",
              "      <td>18.0</td>\n",
              "      <td>2980.81</td>\n",
              "      <td>0</td>\n",
              "      <td>0</td>\n",
              "      <td>0</td>\n",
              "      <td>0</td>\n",
              "      <td>0</td>\n",
              "      <td>0</td>\n",
              "      <td>0</td>\n",
              "      <td>0</td>\n",
              "      <td>0</td>\n",
              "      <td>0</td>\n",
              "      <td>0</td>\n",
              "      <td>0</td>\n",
              "      <td>0</td>\n",
              "      <td>0</td>\n",
              "      <td>0</td>\n",
              "      <td>0</td>\n",
              "      <td>0</td>\n",
              "      <td>0</td>\n",
              "      <td>0</td>\n",
              "      <td>0</td>\n",
              "      <td>0</td>\n",
              "      <td>0</td>\n",
              "      <td>0</td>\n",
              "      <td>0</td>\n",
              "      <td>0</td>\n",
              "      <td>0</td>\n",
              "      <td>0</td>\n",
              "      <td>0</td>\n",
              "      <td>0</td>\n",
              "      <td>0</td>\n",
              "      <td>0</td>\n",
              "      <td>0</td>\n",
              "      <td>0</td>\n",
              "      <td>0</td>\n",
              "      <td>0</td>\n",
              "      <td>...</td>\n",
              "      <td>0</td>\n",
              "      <td>0</td>\n",
              "      <td>0</td>\n",
              "      <td>0</td>\n",
              "      <td>0</td>\n",
              "      <td>0</td>\n",
              "      <td>0</td>\n",
              "      <td>0</td>\n",
              "      <td>0</td>\n",
              "      <td>0</td>\n",
              "      <td>0</td>\n",
              "      <td>0</td>\n",
              "      <td>0</td>\n",
              "      <td>0</td>\n",
              "      <td>0</td>\n",
              "      <td>0</td>\n",
              "      <td>0</td>\n",
              "      <td>0</td>\n",
              "      <td>0</td>\n",
              "      <td>0</td>\n",
              "      <td>0</td>\n",
              "      <td>0</td>\n",
              "      <td>0</td>\n",
              "      <td>0</td>\n",
              "      <td>0</td>\n",
              "      <td>0</td>\n",
              "      <td>0</td>\n",
              "      <td>0</td>\n",
              "      <td>0</td>\n",
              "      <td>0</td>\n",
              "      <td>0</td>\n",
              "      <td>0</td>\n",
              "      <td>0</td>\n",
              "      <td>0</td>\n",
              "      <td>0</td>\n",
              "      <td>0</td>\n",
              "      <td>0</td>\n",
              "      <td>0</td>\n",
              "      <td>0</td>\n",
              "      <td>0</td>\n",
              "    </tr>\n",
              "    <tr>\n",
              "      <th>2</th>\n",
              "      <td>NaN</td>\n",
              "      <td>NaN</td>\n",
              "      <td>NaN</td>\n",
              "      <td>NaN</td>\n",
              "      <td>NaN</td>\n",
              "      <td>0</td>\n",
              "      <td>0</td>\n",
              "      <td>0</td>\n",
              "      <td>0</td>\n",
              "      <td>0</td>\n",
              "      <td>0</td>\n",
              "      <td>0</td>\n",
              "      <td>0</td>\n",
              "      <td>0</td>\n",
              "      <td>0</td>\n",
              "      <td>0</td>\n",
              "      <td>0</td>\n",
              "      <td>0</td>\n",
              "      <td>0</td>\n",
              "      <td>0</td>\n",
              "      <td>0</td>\n",
              "      <td>0</td>\n",
              "      <td>0</td>\n",
              "      <td>0</td>\n",
              "      <td>0</td>\n",
              "      <td>0</td>\n",
              "      <td>0</td>\n",
              "      <td>0</td>\n",
              "      <td>0</td>\n",
              "      <td>0</td>\n",
              "      <td>0</td>\n",
              "      <td>0</td>\n",
              "      <td>0</td>\n",
              "      <td>0</td>\n",
              "      <td>0</td>\n",
              "      <td>0</td>\n",
              "      <td>0</td>\n",
              "      <td>0</td>\n",
              "      <td>0</td>\n",
              "      <td>0</td>\n",
              "      <td>...</td>\n",
              "      <td>0</td>\n",
              "      <td>0</td>\n",
              "      <td>0</td>\n",
              "      <td>0</td>\n",
              "      <td>0</td>\n",
              "      <td>0</td>\n",
              "      <td>0</td>\n",
              "      <td>0</td>\n",
              "      <td>0</td>\n",
              "      <td>0</td>\n",
              "      <td>0</td>\n",
              "      <td>0</td>\n",
              "      <td>0</td>\n",
              "      <td>0</td>\n",
              "      <td>0</td>\n",
              "      <td>0</td>\n",
              "      <td>0</td>\n",
              "      <td>0</td>\n",
              "      <td>0</td>\n",
              "      <td>0</td>\n",
              "      <td>0</td>\n",
              "      <td>0</td>\n",
              "      <td>0</td>\n",
              "      <td>0</td>\n",
              "      <td>0</td>\n",
              "      <td>0</td>\n",
              "      <td>0</td>\n",
              "      <td>0</td>\n",
              "      <td>0</td>\n",
              "      <td>0</td>\n",
              "      <td>0</td>\n",
              "      <td>0</td>\n",
              "      <td>0</td>\n",
              "      <td>0</td>\n",
              "      <td>0</td>\n",
              "      <td>0</td>\n",
              "      <td>0</td>\n",
              "      <td>0</td>\n",
              "      <td>0</td>\n",
              "      <td>0</td>\n",
              "    </tr>\n",
              "    <tr>\n",
              "      <th>3</th>\n",
              "      <td>NaN</td>\n",
              "      <td>NaN</td>\n",
              "      <td>NaN</td>\n",
              "      <td>NaN</td>\n",
              "      <td>NaN</td>\n",
              "      <td>0</td>\n",
              "      <td>0</td>\n",
              "      <td>0</td>\n",
              "      <td>0</td>\n",
              "      <td>0</td>\n",
              "      <td>0</td>\n",
              "      <td>0</td>\n",
              "      <td>0</td>\n",
              "      <td>0</td>\n",
              "      <td>0</td>\n",
              "      <td>0</td>\n",
              "      <td>0</td>\n",
              "      <td>0</td>\n",
              "      <td>0</td>\n",
              "      <td>0</td>\n",
              "      <td>0</td>\n",
              "      <td>0</td>\n",
              "      <td>0</td>\n",
              "      <td>0</td>\n",
              "      <td>0</td>\n",
              "      <td>0</td>\n",
              "      <td>0</td>\n",
              "      <td>0</td>\n",
              "      <td>0</td>\n",
              "      <td>0</td>\n",
              "      <td>0</td>\n",
              "      <td>0</td>\n",
              "      <td>0</td>\n",
              "      <td>0</td>\n",
              "      <td>0</td>\n",
              "      <td>0</td>\n",
              "      <td>0</td>\n",
              "      <td>0</td>\n",
              "      <td>0</td>\n",
              "      <td>0</td>\n",
              "      <td>...</td>\n",
              "      <td>0</td>\n",
              "      <td>0</td>\n",
              "      <td>0</td>\n",
              "      <td>0</td>\n",
              "      <td>0</td>\n",
              "      <td>0</td>\n",
              "      <td>0</td>\n",
              "      <td>0</td>\n",
              "      <td>0</td>\n",
              "      <td>0</td>\n",
              "      <td>0</td>\n",
              "      <td>0</td>\n",
              "      <td>0</td>\n",
              "      <td>0</td>\n",
              "      <td>0</td>\n",
              "      <td>0</td>\n",
              "      <td>0</td>\n",
              "      <td>0</td>\n",
              "      <td>0</td>\n",
              "      <td>0</td>\n",
              "      <td>0</td>\n",
              "      <td>0</td>\n",
              "      <td>0</td>\n",
              "      <td>0</td>\n",
              "      <td>0</td>\n",
              "      <td>0</td>\n",
              "      <td>0</td>\n",
              "      <td>0</td>\n",
              "      <td>0</td>\n",
              "      <td>0</td>\n",
              "      <td>0</td>\n",
              "      <td>0</td>\n",
              "      <td>0</td>\n",
              "      <td>0</td>\n",
              "      <td>0</td>\n",
              "      <td>0</td>\n",
              "      <td>0</td>\n",
              "      <td>0</td>\n",
              "      <td>0</td>\n",
              "      <td>0</td>\n",
              "    </tr>\n",
              "    <tr>\n",
              "      <th>4</th>\n",
              "      <td>NaN</td>\n",
              "      <td>NaN</td>\n",
              "      <td>NaN</td>\n",
              "      <td>NaN</td>\n",
              "      <td>NaN</td>\n",
              "      <td>0</td>\n",
              "      <td>0</td>\n",
              "      <td>0</td>\n",
              "      <td>0</td>\n",
              "      <td>0</td>\n",
              "      <td>0</td>\n",
              "      <td>0</td>\n",
              "      <td>0</td>\n",
              "      <td>0</td>\n",
              "      <td>0</td>\n",
              "      <td>0</td>\n",
              "      <td>0</td>\n",
              "      <td>0</td>\n",
              "      <td>0</td>\n",
              "      <td>0</td>\n",
              "      <td>0</td>\n",
              "      <td>0</td>\n",
              "      <td>0</td>\n",
              "      <td>0</td>\n",
              "      <td>0</td>\n",
              "      <td>0</td>\n",
              "      <td>0</td>\n",
              "      <td>0</td>\n",
              "      <td>0</td>\n",
              "      <td>0</td>\n",
              "      <td>0</td>\n",
              "      <td>0</td>\n",
              "      <td>0</td>\n",
              "      <td>0</td>\n",
              "      <td>0</td>\n",
              "      <td>0</td>\n",
              "      <td>0</td>\n",
              "      <td>0</td>\n",
              "      <td>0</td>\n",
              "      <td>0</td>\n",
              "      <td>...</td>\n",
              "      <td>0</td>\n",
              "      <td>0</td>\n",
              "      <td>0</td>\n",
              "      <td>0</td>\n",
              "      <td>0</td>\n",
              "      <td>0</td>\n",
              "      <td>0</td>\n",
              "      <td>0</td>\n",
              "      <td>0</td>\n",
              "      <td>0</td>\n",
              "      <td>0</td>\n",
              "      <td>0</td>\n",
              "      <td>0</td>\n",
              "      <td>0</td>\n",
              "      <td>0</td>\n",
              "      <td>0</td>\n",
              "      <td>0</td>\n",
              "      <td>0</td>\n",
              "      <td>0</td>\n",
              "      <td>0</td>\n",
              "      <td>0</td>\n",
              "      <td>0</td>\n",
              "      <td>0</td>\n",
              "      <td>0</td>\n",
              "      <td>0</td>\n",
              "      <td>0</td>\n",
              "      <td>0</td>\n",
              "      <td>0</td>\n",
              "      <td>0</td>\n",
              "      <td>0</td>\n",
              "      <td>0</td>\n",
              "      <td>0</td>\n",
              "      <td>0</td>\n",
              "      <td>0</td>\n",
              "      <td>0</td>\n",
              "      <td>0</td>\n",
              "      <td>0</td>\n",
              "      <td>0</td>\n",
              "      <td>0</td>\n",
              "      <td>0</td>\n",
              "    </tr>\n",
              "  </tbody>\n",
              "</table>\n",
              "<p>5 rows × 134 columns</p>\n",
              "</div>"
            ],
            "text/plain": [
              "   target  common  contracts  ...  Персонаж  Тип сценической одежды Материал задника\n",
              "0     NaN     NaN        NaN  ...         0                       0                0\n",
              "1     1.0   114.0        9.0  ...         0                       0                0\n",
              "2     NaN     NaN        NaN  ...         0                       0                0\n",
              "3     NaN     NaN        NaN  ...         0                       0                0\n",
              "4     NaN     NaN        NaN  ...         0                       0                0\n",
              "\n",
              "[5 rows x 134 columns]"
            ]
          },
          "metadata": {},
          "execution_count": 90
        }
      ]
    },
    {
      "cell_type": "code",
      "metadata": {
        "colab": {
          "base_uri": "https://localhost:8080/",
          "height": 203
        },
        "id": "KDNpFEAVQ2Hf",
        "outputId": "bff03816-d116-4adb-a546-b6c56ab06f9b"
      },
      "source": [
        "total_data.corr()"
      ],
      "execution_count": 91,
      "outputs": [
        {
          "output_type": "execute_result",
          "data": {
            "text/html": [
              "<div>\n",
              "<style scoped>\n",
              "    .dataframe tbody tr th:only-of-type {\n",
              "        vertical-align: middle;\n",
              "    }\n",
              "\n",
              "    .dataframe tbody tr th {\n",
              "        vertical-align: top;\n",
              "    }\n",
              "\n",
              "    .dataframe thead th {\n",
              "        text-align: right;\n",
              "    }\n",
              "</style>\n",
              "<table border=\"1\" class=\"dataframe\">\n",
              "  <thead>\n",
              "    <tr style=\"text-align: right;\">\n",
              "      <th></th>\n",
              "      <th>target</th>\n",
              "      <th>common</th>\n",
              "      <th>contracts</th>\n",
              "      <th>views</th>\n",
              "      <th>tilt</th>\n",
              "    </tr>\n",
              "  </thead>\n",
              "  <tbody>\n",
              "    <tr>\n",
              "      <th>target</th>\n",
              "      <td>1.000000</td>\n",
              "      <td>-0.075676</td>\n",
              "      <td>0.315530</td>\n",
              "      <td>0.142916</td>\n",
              "      <td>-0.084136</td>\n",
              "    </tr>\n",
              "    <tr>\n",
              "      <th>common</th>\n",
              "      <td>-0.075676</td>\n",
              "      <td>1.000000</td>\n",
              "      <td>0.001626</td>\n",
              "      <td>0.000586</td>\n",
              "      <td>-0.037099</td>\n",
              "    </tr>\n",
              "    <tr>\n",
              "      <th>contracts</th>\n",
              "      <td>0.315530</td>\n",
              "      <td>0.001626</td>\n",
              "      <td>1.000000</td>\n",
              "      <td>0.559462</td>\n",
              "      <td>-0.043518</td>\n",
              "    </tr>\n",
              "    <tr>\n",
              "      <th>views</th>\n",
              "      <td>0.142916</td>\n",
              "      <td>0.000586</td>\n",
              "      <td>0.559462</td>\n",
              "      <td>1.000000</td>\n",
              "      <td>-0.008832</td>\n",
              "    </tr>\n",
              "    <tr>\n",
              "      <th>tilt</th>\n",
              "      <td>-0.084136</td>\n",
              "      <td>-0.037099</td>\n",
              "      <td>-0.043518</td>\n",
              "      <td>-0.008832</td>\n",
              "      <td>1.000000</td>\n",
              "    </tr>\n",
              "  </tbody>\n",
              "</table>\n",
              "</div>"
            ],
            "text/plain": [
              "             target    common  contracts     views      tilt\n",
              "target     1.000000 -0.075676   0.315530  0.142916 -0.084136\n",
              "common    -0.075676  1.000000   0.001626  0.000586 -0.037099\n",
              "contracts  0.315530  0.001626   1.000000  0.559462 -0.043518\n",
              "views      0.142916  0.000586   0.559462  1.000000 -0.008832\n",
              "tilt      -0.084136 -0.037099  -0.043518 -0.008832  1.000000"
            ]
          },
          "metadata": {},
          "execution_count": 91
        }
      ]
    },
    {
      "cell_type": "code",
      "metadata": {
        "id": "EQzKWAcsQ96N"
      },
      "source": [
        "total_data.to_csv('/content/drive/MyDrive/tenderhack/pairwise_full.csv')"
      ],
      "execution_count": 92,
      "outputs": []
    }
  ]
}