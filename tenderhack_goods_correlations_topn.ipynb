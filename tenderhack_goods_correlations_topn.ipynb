{
  "nbformat": 4,
  "nbformat_minor": 0,
  "metadata": {
    "colab": {
      "name": "tenderhack_goods_correlations_topn.ipynb",
      "provenance": [],
      "collapsed_sections": [],
      "machine_shape": "hm"
    },
    "kernelspec": {
      "display_name": "Python 3",
      "name": "python3"
    },
    "language_info": {
      "name": "python"
    }
  },
  "cells": [
    {
      "cell_type": "code",
      "metadata": {
        "colab": {
          "base_uri": "https://localhost:8080/"
        },
        "id": "HprUNy2YDWje",
        "outputId": "c209cef5-bf44-4bb5-a10d-53be783229f3"
      },
      "source": [
        "from google.colab import drive\n",
        "\n",
        "drive.mount('/content/drive')"
      ],
      "execution_count": null,
      "outputs": [
        {
          "output_type": "stream",
          "name": "stdout",
          "text": [
            "Drive already mounted at /content/drive; to attempt to forcibly remount, call drive.mount(\"/content/drive\", force_remount=True).\n"
          ]
        }
      ]
    },
    {
      "cell_type": "code",
      "metadata": {
        "id": "lqOtcn4PbAsk"
      },
      "source": [
        "import pandas as pd\n",
        "from typing import Dict\n",
        "import json\n",
        "import pickle\n",
        "\n",
        "\n",
        "def clean_json(json_str: str) -> Dict:\n",
        "    aska = json_str[::-1]\n",
        "    edge_inda = - aska.index(\"}\")\n",
        "    if edge_inda != 0:\n",
        "        json_str = json_str[:edge_inda] + ']'\n",
        "    else:\n",
        "        json_str += ']'\n",
        "    return json.loads(json_str)\n",
        "\n",
        "\n",
        "def get_characts(obj):\n",
        "    characts = set()\n",
        "    if not pd.isna(obj['Характеристики СТЕ']):\n",
        "        for charact in clean_json(obj['Характеристики СТЕ']):\n",
        "            try:\n",
        "                characts.add((charact['Name'], charact['Value']))\n",
        "            except KeyError:\n",
        "                pass\n",
        "    return characts\n",
        "\n",
        "\n",
        "def one_based_connected(id: int, topn: int):\n",
        "    obj = id2obj[id]\n",
        "    characts = get_characts(obj)\n",
        "    candidates = {}\n",
        "\n",
        "    for category in top8[obj['Категория']]:\n",
        "        category_candidates = categories[category]\n",
        "        for cand in category_candidates:\n",
        "            connected_characts = get_characts(id2obj[cand])\n",
        "            candidates[cand] = (len(characts & connected_characts)) ** (0.5) * 1 / 8\n",
        "\n",
        "    for category in top5[obj['Категория']]:\n",
        "        category_candidates = categories[category]\n",
        "        for cand in category_candidates:\n",
        "            connected_characts = get_characts(id2obj[cand])\n",
        "            candidates[cand] = (len(characts & connected_characts)) ** (0.5) * 1 / 5\n",
        "\n",
        "    for category in top3[obj['Категория']]:\n",
        "        category_candidates = categories[category]\n",
        "        for cand in category_candidates:\n",
        "            connected_characts = get_characts(id2obj[cand])\n",
        "            candidates[cand] = (len(characts & connected_characts)) ** (0.5) * 1 / 3\n",
        "\n",
        "    if not pd.isna(obj['Другая продукция в контрактах']) and len(obj['Другая продукция в контрактах'].strip()) > 0:\n",
        "        st_others = obj['Другая продукция в контрактах']\n",
        "        st_others = clean_json(st_others)\n",
        "        for prod in st_others:\n",
        "            try:\n",
        "                connected_obj = prod['OtherSkuId']\n",
        "                connected_characts = get_characts(decoder[connected_obj])\n",
        "                candidates[connected_obj] = (len(characts & connected_characts)) ** (0.5)\n",
        "            except KeyError:\n",
        "                pass\n",
        "\n",
        "    sorted_candidates = sorted(candidates, key=lambda x: -candidates[x])\n",
        "    return sorted_candidates[:topn]\n",
        "\n",
        "\n",
        "with open('/content/drive/MyDrive/tenderhack/id2obj.pickle', 'rb') as handle:\n",
        "    id2obj = pickle.load(handle)\n",
        "\n",
        "with open('/content/drive/MyDrive/tenderhack/categories.pickle', 'rb') as handle:\n",
        "    categories = pickle.load(handle)\n",
        "\n",
        "with open('/content/drive/MyDrive/tenderhack/connected_keys.pickle', 'rb') as handle:\n",
        "    connected_keys = pickle.load(handle)\n",
        "\n",
        "with open('/content/drive/MyDrive/tenderhack/decoder.pickle', 'rb') as handle:\n",
        "    decoder = pickle.load(handle)\n",
        "\n",
        "with open('/content/drive/MyDrive/tenderhack/top3.pickle', 'rb') as handle:\n",
        "    top3 = pickle.load(handle)\n",
        "\n",
        "with open('/content/drive/MyDrive/tenderhack/top5.pickle', 'rb') as handle:\n",
        "    top5 = pickle.load(handle)\n",
        "\n",
        "with open('/content/drive/MyDrive/tenderhack/top8.pickle', 'rb') as handle:\n",
        "    top8 = pickle.load(handle)\n",
        "\n",
        "# USAGE EXAMPLE\n",
        "ids = one_based_connected(34172198, 10)\n"
      ],
      "execution_count": null,
      "outputs": []
    },
    {
      "cell_type": "code",
      "metadata": {
        "id": "zrs9YrQBbz_A"
      },
      "source": [
        "data = pd.read_excel('/content/drive/MyDrive/tenderhack/dataset_base.xlsx')  # FILEPATH"
      ],
      "execution_count": null,
      "outputs": []
    },
    {
      "cell_type": "code",
      "metadata": {
        "id": "OWtGtBpSdGT6"
      },
      "source": [
        "matrix_keys = data['Идентификатор СТЕ']"
      ],
      "execution_count": null,
      "outputs": []
    },
    {
      "cell_type": "code",
      "metadata": {
        "id": "FP-2_Z1QdV3K"
      },
      "source": [
        "matrix_decoder = {matrix_keys[i]: i for i in range(len(matrix_keys))}"
      ],
      "execution_count": null,
      "outputs": []
    },
    {
      "cell_type": "code",
      "metadata": {
        "id": "O8emm3dXbtP-"
      },
      "source": [
        "real_matr = [[0 for i in range(2000)] for j in range(2000)]\n",
        "for ind, obj in data.iterrows():\n",
        "  if not pd.isna(obj['Другая продукция в контрактах']) and len(obj['Другая продукция в контрактах'].strip()) > 0:\n",
        "        st_others = obj['Другая продукция в контрактах']\n",
        "        st_others = clean_json(st_others)\n",
        "        for prod in st_others:\n",
        "            try:\n",
        "                connected_obj = prod['OtherSkuId']\n",
        "                connected_characts = get_characts(decoder[connected_obj])\n",
        "                try:\n",
        "                    real_matr[matrix_decoder[obj['Идентификатор СТЕ']]][matrix_decoder[connected_obj]] = 1\n",
        "                except IndexError:\n",
        "                  pass\n",
        "            except KeyError:\n",
        "                pass"
      ],
      "execution_count": null,
      "outputs": []
    },
    {
      "cell_type": "code",
      "metadata": {
        "id": "FAJPho-zfqAF"
      },
      "source": [
        "pd.DataFrame(real_matr).to_csv('/content/drive/MyDrive/tenderhack/real_matr.csv')"
      ],
      "execution_count": null,
      "outputs": []
    },
    {
      "cell_type": "code",
      "metadata": {
        "id": "ic46VYl8eArN"
      },
      "source": [
        "top3_matr = [[0 for i in range(2000)] for j in range(2000)]\n",
        "for ind, obj in data.iterrows():\n",
        "  for category in top3[obj['Категория']]:\n",
        "        category_candidates = categories[category]\n",
        "        for cand in category_candidates:\n",
        "          try:\n",
        "            top3_matr[matrix_decoder[obj['Идентификатор СТЕ']]][matrix_decoder[cand]] = 1\n",
        "          except IndexError:\n",
        "            pass\n",
        "pd.DataFrame(top3_matr).to_csv('/content/drive/MyDrive/tenderhack/top3_matr.csv')"
      ],
      "execution_count": 10,
      "outputs": []
    },
    {
      "cell_type": "code",
      "metadata": {
        "id": "Jl50fFCNihf8"
      },
      "source": [
        "top5_matr = [[0 for i in range(2000)] for j in range(2000)]\n",
        "for ind, obj in data.iterrows():\n",
        "  for category in top5[obj['Категория']]:\n",
        "        category_candidates = categories[category]\n",
        "        for cand in category_candidates:\n",
        "          try:\n",
        "            top5_matr[matrix_decoder[obj['Идентификатор СТЕ']]][matrix_decoder[cand]] = 1\n",
        "          except IndexError:\n",
        "            pass\n",
        "pd.DataFrame(top5_matr).to_csv('/content/drive/MyDrive/tenderhack/top5_matr.csv')"
      ],
      "execution_count": null,
      "outputs": []
    },
    {
      "cell_type": "code",
      "metadata": {
        "id": "6kYBbPh0irZW"
      },
      "source": [
        "top8_matr = [[0 for i in range(2000)] for j in range(2000)]\n",
        "for ind, obj in data.iterrows():\n",
        "  for category in top8[obj['Категория']]:\n",
        "        category_candidates = categories[category]\n",
        "        for cand in category_candidates:\n",
        "          try:\n",
        "            top8_matr[matrix_decoder[obj['Идентификатор СТЕ']]][matrix_decoder[cand]] = 1\n",
        "          except IndexError:\n",
        "            pass\n",
        "pd.DataFrame(top8_matr).to_csv('/content/drive/MyDrive/tenderhack/top8_matr.csv')"
      ],
      "execution_count": null,
      "outputs": []
    },
    {
      "cell_type": "code",
      "metadata": {
        "id": "peu2C_8jixY8"
      },
      "source": [
        "charact_matr = [[0 for i in range(2000)] for j in range(2000)]\n",
        "for i in range(2000):\n",
        "  for j in range(2000):\n",
        "    i_charact = get_characts(id2obj[matrix_keys[i]])\n",
        "    j_charact = get_characts(id2obj[matrix_keys[j]])\n",
        "    charact_matr[i][j] = len(i_charact & j_charact)\n",
        "    \n",
        "pd.DataFrame(charact_matr).to_csv('/content/drive/MyDrive/tenderhack/charact_matr.csv')"
      ],
      "execution_count": 13,
      "outputs": []
    },
    {
      "cell_type": "code",
      "metadata": {
        "id": "tEVek0_3jhMn"
      },
      "source": [
        "edges = []\n",
        "for i in range(2000):\n",
        "  for j in range(2000):\n",
        "    edges.append([real_matr[i][j],\n",
        "                  top3_matr[i][j],\n",
        "                  top5_matr[i][j],\n",
        "                  top8_matr[i][j],\n",
        "                  charact_matr[i][j]])"
      ],
      "execution_count": null,
      "outputs": []
    },
    {
      "cell_type": "code",
      "metadata": {
        "id": "oGSQNPpvkCE7"
      },
      "source": [
        "edges_df = pd.DataFrame(edges, columns = ['real', 'top3', 'top5', 'top8', 'charact'])"
      ],
      "execution_count": null,
      "outputs": []
    },
    {
      "cell_type": "code",
      "metadata": {
        "id": "bCiy71aikPOY"
      },
      "source": [
        "edges_df.corr()"
      ],
      "execution_count": null,
      "outputs": []
    }
  ]
}