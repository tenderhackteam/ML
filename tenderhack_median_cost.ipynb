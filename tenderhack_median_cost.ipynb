{
  "nbformat": 4,
  "nbformat_minor": 0,
  "metadata": {
    "colab": {
      "name": "tenderhack_median_cost.ipynb",
      "provenance": [],
      "collapsed_sections": []
    },
    "kernelspec": {
      "name": "python3",
      "display_name": "Python 3"
    },
    "language_info": {
      "name": "python"
    }
  },
  "cells": [
    {
      "cell_type": "code",
      "metadata": {
        "colab": {
          "base_uri": "https://localhost:8080/"
        },
        "id": "-d9w8NI2CFa6",
        "outputId": "5ddd1132-9216-462f-cb27-b53f74088e69"
      },
      "source": [
        "from google.colab import drive\n",
        "drive.mount('/content/drive')"
      ],
      "execution_count": 3,
      "outputs": [
        {
          "output_type": "stream",
          "name": "stdout",
          "text": [
            "Mounted at /content/drive\n"
          ]
        }
      ]
    },
    {
      "cell_type": "code",
      "metadata": {
        "id": "XJ_MYE8SSVxv"
      },
      "source": [
        "import random\n",
        "import re\n",
        "import string\n",
        "import pandas as pd\n",
        "import torch\n",
        "import matplotlib.pyplot as plt\n",
        "import numpy as np\n",
        "from sklearn.model_selection import train_test_split\n",
        "from tqdm import tqdm\n",
        "import gensim\n",
        "from gensim.corpora.dictionary import Dictionary\n",
        "from gensim.models import LdaMulticore\n",
        "from torch import nn\n",
        "from torch.nn import functional as F\n",
        "from torch.utils.data import TensorDataset, DataLoader\n",
        "from torchvision.transforms import ToTensor\n",
        "import warnings \n",
        "from sklearn.linear_model import LogisticRegression\n",
        "from PIL import Image\n",
        "from IPython.display import clear_output\n",
        "from sklearn.naive_bayes import MultinomialNB\n",
        "from sklearn.pipeline import Pipeline\n",
        "from sklearn.feature_extraction.text import TfidfTransformer\n",
        "from sklearn.feature_extraction.text import CountVectorizer, TfidfVectorizer\n",
        "from sklearn.metrics import accuracy_score, confusion_matrix\n",
        "from typing import List\n",
        "from sklearn.metrics import classification_report\n",
        "import pickle\n",
        "from typing import List\n",
        "import nltk\n",
        "import string\n",
        "import codecs"
      ],
      "execution_count": 4,
      "outputs": []
    },
    {
      "cell_type": "code",
      "metadata": {
        "id": "AKQdPQPCUIpQ"
      },
      "source": [
        "warnings.filterwarnings(action='ignore',category=UserWarning, module='gensim')  \n",
        "warnings.filterwarnings(action='ignore',category=FutureWarning, module='gensim')  \n",
        "warnings.filterwarnings(action='ignore',category=DeprecationWarning, module='gensim')\n",
        "warnings.filterwarnings(action='ignore',category=DeprecationWarning, module='smart_open') \n",
        "warnings.filterwarnings(action='ignore',category=DeprecationWarning, module='sklearn')\n",
        "warnings.filterwarnings(action='ignore',category=DeprecationWarning, module='scipy')    "
      ],
      "execution_count": 5,
      "outputs": []
    },
    {
      "cell_type": "code",
      "metadata": {
        "id": "fiK65k-XUKSQ"
      },
      "source": [
        "device = torch.device(\"cuda:0\" if torch.cuda.is_available() else \"cpu\")"
      ],
      "execution_count": 6,
      "outputs": []
    },
    {
      "cell_type": "code",
      "metadata": {
        "colab": {
          "base_uri": "https://localhost:8080/",
          "height": 559
        },
        "id": "tOQbuITLUM84",
        "outputId": "aedcca9b-be28-4781-9342-210f40f5b7fb"
      },
      "source": [
        "data = pd.read_excel('/content/drive/MyDrive/tenderhack/dataset_base.xlsx')\n",
        "data.head()"
      ],
      "execution_count": 7,
      "outputs": [
        {
          "output_type": "execute_result",
          "data": {
            "text/html": [
              "<div>\n",
              "<style scoped>\n",
              "    .dataframe tbody tr th:only-of-type {\n",
              "        vertical-align: middle;\n",
              "    }\n",
              "\n",
              "    .dataframe tbody tr th {\n",
              "        vertical-align: top;\n",
              "    }\n",
              "\n",
              "    .dataframe thead th {\n",
              "        text-align: right;\n",
              "    }\n",
              "</style>\n",
              "<table border=\"1\" class=\"dataframe\">\n",
              "  <thead>\n",
              "    <tr style=\"text-align: right;\">\n",
              "      <th></th>\n",
              "      <th>Идентификатор СТЕ</th>\n",
              "      <th>Наименование СТЕ</th>\n",
              "      <th>Категория</th>\n",
              "      <th>Описание</th>\n",
              "      <th>Характеристики СТЕ</th>\n",
              "      <th>Регионы поставки</th>\n",
              "      <th>Кол-во заключенных контрактов</th>\n",
              "      <th>Поставщики</th>\n",
              "      <th>Страна происхождения</th>\n",
              "      <th>Другая продукция в контрактах</th>\n",
              "      <th>Просмотры</th>\n",
              "      <th>Идентификатор КПГЗ</th>\n",
              "      <th>Код КПГЗ</th>\n",
              "      <th>Модель</th>\n",
              "      <th>Цена</th>\n",
              "    </tr>\n",
              "  </thead>\n",
              "  <tbody>\n",
              "    <tr>\n",
              "      <th>0</th>\n",
              "      <td>20528973</td>\n",
              "      <td>Светодиодная лента 2835, ULTRA, 12 Вольт, 60 l...</td>\n",
              "      <td>Лампы светодиодные</td>\n",
              "      <td>NaN</td>\n",
              "      <td>[{\"Name\":\"Цвет свечения\",\"Id\":-506425117,\"Valu...</td>\n",
              "      <td>[{\"Name\":\"Москва\"}]</td>\n",
              "      <td>NaN</td>\n",
              "      <td>[{\"SupplierId\":2310783,\"Name\":\"ООО \\\"ЛЮМЕНВАТТ...</td>\n",
              "      <td>NaN</td>\n",
              "      <td>NaN</td>\n",
              "      <td>1</td>\n",
              "      <td>12106442.0</td>\n",
              "      <td>01.10.05.02.04</td>\n",
              "      <td>2835ULTRA</td>\n",
              "      <td>NaN</td>\n",
              "    </tr>\n",
              "    <tr>\n",
              "      <th>1</th>\n",
              "      <td>34860341</td>\n",
              "      <td>Светодиодный светильник Geniled ЛПО  1200?180?...</td>\n",
              "      <td>Настенно-потолочные светильники</td>\n",
              "      <td>NaN</td>\n",
              "      <td>[{\"Name\":\"Вид климатического исполнения\",\"Id\":...</td>\n",
              "      <td>[{\"Name\":\"Свердловская\"},{\"Name\":\"Москва\"}]</td>\n",
              "      <td>1.0</td>\n",
              "      <td>[{\"SupplierId\":1559525,\"Name\":\"Общество с огра...</td>\n",
              "      <td>РОССИЯ</td>\n",
              "      <td>NaN</td>\n",
              "      <td>41</td>\n",
              "      <td>12114082.0</td>\n",
              "      <td>01.10.05.03.01.05</td>\n",
              "      <td>ЛПО 1200?180?40 40Вт 5000К Опал</td>\n",
              "      <td>NaN</td>\n",
              "    </tr>\n",
              "    <tr>\n",
              "      <th>2</th>\n",
              "      <td>34172198</td>\n",
              "      <td>Елка пристенно-угловая Графская премиум 210 см...</td>\n",
              "      <td>Предметы внутреннего интерьера</td>\n",
              "      <td>NaN</td>\n",
              "      <td>[{\"Name\":\"Цвет\",\"Id\":340085190,\"Value\":\"Зелены...</td>\n",
              "      <td>[{\"Name\":\"Москва\"},{\"Name\":\"Все регионы\"}]</td>\n",
              "      <td>NaN</td>\n",
              "      <td>[{\"SupplierId\":1348988,\"Name\":\"ИП Чепало Оксан...</td>\n",
              "      <td>NaN</td>\n",
              "      <td>NaN</td>\n",
              "      <td>5</td>\n",
              "      <td>68093.0</td>\n",
              "      <td>01.20.08</td>\n",
              "      <td>Елка пристенно-угловая Графская премиум 210 см.</td>\n",
              "      <td>NaN</td>\n",
              "    </tr>\n",
              "    <tr>\n",
              "      <th>3</th>\n",
              "      <td>1318014</td>\n",
              "      <td>Картридж HP CE278A/Canon 728 LJ P1560/1566/160...</td>\n",
              "      <td>Расходные материалы и комплектующие для лазерн...</td>\n",
              "      <td>NaN</td>\n",
              "      <td>[{\"Name\":\"Тип расходника\",\"Id\":317455168,\"Valu...</td>\n",
              "      <td>[{\"Name\":\"Москва\"},{\"Name\":\"Московская\"}]</td>\n",
              "      <td>9.0</td>\n",
              "      <td>[{\"SupplierId\":1111141,\"Name\":\"Общество с огра...</td>\n",
              "      <td>NaN</td>\n",
              "      <td>[{\"OtherSkuId\":1398583,\"OtherSkuName\":\"013R006...</td>\n",
              "      <td>6</td>\n",
              "      <td>12105204.0</td>\n",
              "      <td>01.13.13.01.01</td>\n",
              "      <td>SF-CE278(2K)</td>\n",
              "      <td>NaN</td>\n",
              "    </tr>\n",
              "    <tr>\n",
              "      <th>4</th>\n",
              "      <td>1251411</td>\n",
              "      <td>Штамп самонаборный Pr.C20/3-Set 38х14 (аналог ...</td>\n",
              "      <td>Штемпели</td>\n",
              "      <td>NaN</td>\n",
              "      <td>[{\"Name\":\"Наличие рамки\",\"Id\":366100137,\"Value...</td>\n",
              "      <td>[{\"Name\":\"Белгородская\"},{\"Name\":\"Марий Эл\"},{...</td>\n",
              "      <td>71.0</td>\n",
              "      <td>[{\"SupplierId\":1100019,\"Name\":\"ООО \\\"ЦТО\\\"\",\"I...</td>\n",
              "      <td>АВСТРИЯ</td>\n",
              "      <td>[{\"OtherSkuId\":1171023,\"OtherSkuName\":\"Berling...</td>\n",
              "      <td>72</td>\n",
              "      <td>12120460.0</td>\n",
              "      <td>01.15.06.07</td>\n",
              "      <td>Штамп самонаборный пласт. 3стр. Pr.C20/3-Set 3...</td>\n",
              "      <td>[{\"Cost\":454.67000},{\"Cost\":620.00000},{\"Cost\"...</td>\n",
              "    </tr>\n",
              "  </tbody>\n",
              "</table>\n",
              "</div>"
            ],
            "text/plain": [
              "   Идентификатор СТЕ  ...                                               Цена\n",
              "0           20528973  ...                                                NaN\n",
              "1           34860341  ...                                                NaN\n",
              "2           34172198  ...                                                NaN\n",
              "3            1318014  ...                                                NaN\n",
              "4            1251411  ...  [{\"Cost\":454.67000},{\"Cost\":620.00000},{\"Cost\"...\n",
              "\n",
              "[5 rows x 15 columns]"
            ]
          },
          "metadata": {},
          "execution_count": 7
        }
      ]
    },
    {
      "cell_type": "code",
      "metadata": {
        "colab": {
          "base_uri": "https://localhost:8080/"
        },
        "id": "EwEE6rAfUxqN",
        "outputId": "6916c21b-d84f-49e6-cd93-1e011e76cade"
      },
      "source": [
        "len(data)"
      ],
      "execution_count": 8,
      "outputs": [
        {
          "output_type": "execute_result",
          "data": {
            "text/plain": [
              "200000"
            ]
          },
          "metadata": {},
          "execution_count": 8
        }
      ]
    },
    {
      "cell_type": "code",
      "metadata": {
        "id": "flE30v_OWwfn"
      },
      "source": [
        "import json\n",
        "import pickle\n",
        "\n",
        "\n",
        "def clean_json(json_str: str):\n",
        "    aska = json_str[::-1]\n",
        "    edge_inda = - aska.index(\"}\")\n",
        "    if edge_inda != 0:\n",
        "        json_str = json_str[:edge_inda] + ']'\n",
        "    else:\n",
        "        json_str += ']'\n",
        "    return json.loads(json_str)"
      ],
      "execution_count": 20,
      "outputs": []
    },
    {
      "cell_type": "code",
      "metadata": {
        "id": "ovd9vQqwRAck"
      },
      "source": [
        "with open('/content/drive/MyDrive/tenderhack/decoder.pickle', 'rb') as handle:\n",
        "    decoder = pickle.load(handle)\n",
        "\n",
        "categories = [[] for i in range(len(decoder))]\n",
        "for i, st in data.iterrows():\n",
        "  if not pd.isna(st['Цена']):\n",
        "    for cost in clean_json(st['Цена']):\n",
        "      categories[decoder[st['Категория']]].append(cost['Cost'])\n"
      ],
      "execution_count": 21,
      "outputs": []
    },
    {
      "cell_type": "code",
      "metadata": {
        "id": "eo0el9qATyyh"
      },
      "source": [
        "with open('/content/drive/MyDrive/tenderhack/connected_keys.pickle', 'rb') as handle:\n",
        "    connected_keys = pickle.load(handle)\n",
        "\n",
        "category_meds = {cat: 0 for cat in connected_keys}\n",
        "for cat_ind in range(len(categories)):\n",
        "  lenna = len(categories[cat_ind])\n",
        "  category_meds[connected_keys[cat_ind]] = 0 if not categories[cat_ind] else sorted(categories[cat_ind])[lenna//2]"
      ],
      "execution_count": 22,
      "outputs": []
    },
    {
      "cell_type": "code",
      "metadata": {
        "colab": {
          "base_uri": "https://localhost:8080/"
        },
        "id": "GJ0L1RVYVyJx",
        "outputId": "662ae95e-888f-4a6f-ffa4-69e8e9086623"
      },
      "source": [
        "category_meds['Блокнот']"
      ],
      "execution_count": 23,
      "outputs": [
        {
          "output_type": "execute_result",
          "data": {
            "text/plain": [
              "180.0"
            ]
          },
          "metadata": {},
          "execution_count": 23
        }
      ]
    },
    {
      "cell_type": "code",
      "metadata": {
        "id": "GXBznvuzWLL4"
      },
      "source": [
        "with open('/content/drive/MyDrive/tenderhack/median_cost.pickle', 'wb') as handle:\n",
        "    pickle.dump(category_meds, handle, protocol=pickle.HIGHEST_PROTOCOL)"
      ],
      "execution_count": 24,
      "outputs": []
    },
    {
      "cell_type": "code",
      "metadata": {
        "id": "znUDuin_Xb9q"
      },
      "source": [
        "with open('/content/drive/MyDrive/tenderhack/id2obj.pickle', 'rb') as handle:\n",
        "    id2obj = pickle.load(handle)\n",
        "\n",
        "with open('/content/drive/MyDrive/tenderhack/categories.pickle', 'rb') as handle:\n",
        "    categories = pickle.load(handle)"
      ],
      "execution_count": null,
      "outputs": []
    }
  ]
}